{
  "nbformat": 4,
  "nbformat_minor": 0,
  "metadata": {
    "colab": {
      "provenance": []
    },
    "kernelspec": {
      "name": "python3",
      "display_name": "Python 3"
    },
    "language_info": {
      "name": "python"
    }
  },
  "cells": [
    {
      "cell_type": "markdown",
      "source": [
        "# Mean Shift clustering with JAX\n",
        "> Learn about the Mean Shift clustering algorithm and how to implement it with JAX\n",
        "\n",
        "- toc: false\n",
        "- badges: true\n",
        "- comments: true\n",
        "- author: dzlab\n",
        "- categories: [jax, clustering]"
      ],
      "metadata": {
        "id": "Dv6cgNaVMw3y"
      }
    },
    {
      "cell_type": "markdown",
      "source": [
        "Clustering techniques are unsupervised learning algorithms that try to group unlabelled data that look similar into groups (also called clusters). In this article, we will have a detailed look at one of those techniques and then implement it in [JAX](https://github.com/google/jax)."
      ],
      "metadata": {
        "id": "u6CjNO9mMgbN"
      }
    },
    {
      "cell_type": "markdown",
      "source": [
        "![](https://upload.wikimedia.org/wikipedia/commons/c/c8/Cluster-2.svg \"Credit: https://en.wikipedia.org/wiki/Cluster_analysis\")"
      ],
      "metadata": {
        "id": "W-x0_WoM4KDU"
      }
    },
    {
      "cell_type": "markdown",
      "source": [
        "## Setup and import"
      ],
      "metadata": {
        "id": "vMmdUS_P4cOs"
      }
    },
    {
      "cell_type": "markdown",
      "source": [
        "First, lets import JAX and other needed libraries, then initialize JAX random number generator."
      ],
      "metadata": {
        "id": "dhM2Ub9SS_LZ"
      }
    },
    {
      "cell_type": "code",
      "execution_count": 1,
      "metadata": {
        "id": "zuPnWpmcKvPD"
      },
      "outputs": [],
      "source": [
        "from functools import partial\n",
        "import jax\n",
        "import jax.numpy as jnp\n",
        "import math\n",
        "import matplotlib.pyplot as plt"
      ]
    },
    {
      "cell_type": "code",
      "source": [
        "seed = 123\n",
        "key = jax.random.PRNGKey(seed)"
      ],
      "metadata": {
        "colab": {
          "base_uri": "https://localhost:8080/"
        },
        "id": "4e1YctQjK4NM",
        "outputId": "3c2984ec-f4db-4c8b-c750-a0a6b41db9c7"
      },
      "execution_count": 2,
      "outputs": [
        {
          "output_type": "stream",
          "name": "stderr",
          "text": [
            "WARNING:jax._src.lib.xla_bridge:No GPU/TPU found, falling back to CPU. (Set TF_CPP_MIN_LOG_LEVEL=0 and rerun for more info.)\n"
          ]
        }
      ]
    },
    {
      "cell_type": "code",
      "source": [
        "jnp.set_printoptions(precision=3, threshold=5, linewidth=200)"
      ],
      "metadata": {
        "id": "yQ196qooLF-F"
      },
      "execution_count": 3,
      "outputs": []
    },
    {
      "cell_type": "markdown",
      "source": [
        "## Data"
      ],
      "metadata": {
        "id": "gHuNZv5fMAnz"
      }
    },
    {
      "cell_type": "markdown",
      "source": [
        "We need some data to illustrate how the clustering algorithm works. We could download something from the internet or randomly generate observations."
      ],
      "metadata": {
        "id": "8bqjLTElS8r7"
      }
    },
    {
      "cell_type": "code",
      "source": [
        "n_clusters = 7\n",
        "n_samples = 250"
      ],
      "metadata": {
        "id": "fXJAyHuFLwB0"
      },
      "execution_count": 4,
      "outputs": []
    },
    {
      "cell_type": "markdown",
      "source": [
        "To generate our data, we're going to pick 7 random points that represent the actual clusters centroids, then for each one of those centroids we generate few random points around them."
      ],
      "metadata": {
        "id": "LFTgb9_DNIus"
      }
    },
    {
      "cell_type": "code",
      "source": [
        "centroids = jax.random.uniform(key, shape=(n_clusters, 2))*100 - 50"
      ],
      "metadata": {
        "id": "HKcpzKM2L08F"
      },
      "execution_count": 5,
      "outputs": []
    },
    {
      "cell_type": "markdown",
      "source": [
        "The observations around a centroid will be randomly sampled using [Multivariate normal distribution](https://en.wikipedia.org/wiki/Multivariate_normal_distribution). Which as the name suggests, will allow us to generate an observation vector where each element is randomly sampled following Normal distribution."
      ],
      "metadata": {
        "id": "iZt4H9iIT112"
      }
    },
    {
      "cell_type": "markdown",
      "source": [
        "![Multivariate Normal](https://upload.wikimedia.org/wikipedia/commons/8/8e/MultivariateNormal.png \"Credit: https://en.wikipedia.org/wiki/Multivariate_normal_distribution\")"
      ],
      "metadata": {
        "id": "erA_VpJDUWeT"
      }
    },
    {
      "cell_type": "markdown",
      "source": [
        "JAX allows to sample following Multivariate normal distribution thanks to [jax.random.multivariate_normal()](https://jax.readthedocs.io/en/latest/_autosummary/jax.random.multivariate_normal.html)."
      ],
      "metadata": {
        "id": "-zZY2bmjUxxH"
      }
    },
    {
      "cell_type": "code",
      "source": [
        "def sample(mean):\n",
        "    cov = jnp.diag(jnp.array([5, 5]))\n",
        "    shape = [n_samples]\n",
        "    return jax.random.multivariate_normal(key, mean, cov, shape)"
      ],
      "metadata": {
        "id": "-uIVNFOHMOvy"
      },
      "execution_count": 6,
      "outputs": []
    },
    {
      "cell_type": "code",
      "source": [
        "sample(centroids[0]).shape, centroids[0].shape"
      ],
      "metadata": {
        "colab": {
          "base_uri": "https://localhost:8080/"
        },
        "id": "wQG_6MmUM2sq",
        "outputId": "9678509b-74b9-4f18-a317-9dbdbeeac7dc"
      },
      "execution_count": 7,
      "outputs": [
        {
          "output_type": "execute_result",
          "data": {
            "text/plain": [
              "((250, 2), (2,))"
            ]
          },
          "metadata": {},
          "execution_count": 7
        }
      ]
    },
    {
      "cell_type": "code",
      "source": [
        "slices = [sample(mean) for mean in centroids]\n",
        "data = jnp.concatenate(slices)\n",
        "data.shape"
      ],
      "metadata": {
        "colab": {
          "base_uri": "https://localhost:8080/"
        },
        "id": "pwbr54iZNVay",
        "outputId": "440e67b7-dfb3-4528-97cb-6290093ae37b"
      },
      "execution_count": 179,
      "outputs": [
        {
          "output_type": "execute_result",
          "data": {
            "text/plain": [
              "(1750, 2)"
            ]
          },
          "metadata": {},
          "execution_count": 179
        }
      ]
    },
    {
      "cell_type": "markdown",
      "source": [
        "To have a better sense around the generated data, we plot each cluster and its centroid as follows."
      ],
      "metadata": {
        "id": "ieO2xMwwNMMu"
      }
    },
    {
      "cell_type": "code",
      "source": [
        "def plot_data(centroids, data, n_samples, ax=None):\n",
        "    if not ax: _, ax = plt.subplots()\n",
        "    for i, centroid in enumerate(centroids):\n",
        "        samples = data[n_samples*i: n_samples*(i+1)]\n",
        "        ax.scatter(samples[:, 0], samples[:, 1], s=1) # plot samples\n",
        "        ax.plot(*centroid, markersize=10, marker='x', color='k', mew=5)\n",
        "        ax.plot(*centroid, markersize=10, marker='x', color='m', mew=2)"
      ],
      "metadata": {
        "id": "xiOsolecO_jX"
      },
      "execution_count": 38,
      "outputs": []
    },
    {
      "cell_type": "code",
      "source": [
        "plot_data(centroids, data, n_samples)"
      ],
      "metadata": {
        "colab": {
          "base_uri": "https://localhost:8080/",
          "height": 265
        },
        "id": "yLwwKH5SQcrT",
        "outputId": "32bb8311-8c9c-4bb9-8261-ffd0499302ec"
      },
      "execution_count": 39,
      "outputs": [
        {
          "output_type": "display_data",
          "data": {
            "text/plain": [
              "<Figure size 432x288 with 1 Axes>"
            ],
            "image/png": "[encoded data removed]"
          },
          "metadata": {
            "needs_background": "light"
          }
        }
      ]
    },
    {
      "cell_type": "markdown",
      "source": [
        "We can also plot the data along the central point which has equal distance to each point in the data."
      ],
      "metadata": {
        "id": "pISgEG67Vswy"
      }
    },
    {
      "cell_type": "code",
      "source": [
        "midp = data.mean(axis=0)\n",
        "midp"
      ],
      "metadata": {
        "colab": {
          "base_uri": "https://localhost:8080/"
        },
        "id": "0hM-TdZJQgD6",
        "outputId": "ad4b104d-1e78-4385-9614-768f243a5963"
      },
      "execution_count": 11,
      "outputs": [
        {
          "output_type": "execute_result",
          "data": {
            "text/plain": [
              "DeviceArray([  9.896, -14.421], dtype=float32)"
            ]
          },
          "metadata": {},
          "execution_count": 11
        }
      ]
    },
    {
      "cell_type": "code",
      "source": [
        "plot_data([midp]*n_clusters, data, n_samples)"
      ],
      "metadata": {
        "colab": {
          "base_uri": "https://localhost:8080/",
          "height": 265
        },
        "id": "tuzopbKeRV-O",
        "outputId": "10ac28f0-25ee-4aa7-c536-e1f1dd3986a1"
      },
      "execution_count": 12,
      "outputs": [
        {
          "output_type": "display_data",
          "data": {
            "text/plain": [
              "<Figure size 432x288 with 1 Axes>"
            ],
            "image/png": "[encoded data removed]"
          },
          "metadata": {
            "needs_background": "light"
          }
        }
      ]
    },
    {
      "cell_type": "markdown",
      "source": [
        "## Mean shift"
      ],
      "metadata": {
        "id": "j5YTHsboSwGK"
      }
    },
    {
      "cell_type": "markdown",
      "source": [
        "Mean shift is a less known clustering algorithm that has some interesting advantages compared to the more popular **k-means** algorithm:\n",
        "* Instead of requiring the exact number of clusters ahead of time, it requires a **bandwidth** to be specified, which can be easily chosen automatically\n",
        "* Out of the box is able to handle clusters of any shape (e.g. circles or moon shapes like below), whereas k-means (without using special extensions) can properly handle only clusters of a ball shape."
      ],
      "metadata": {
        "id": "GXbtsj3sNOz6"
      }
    },
    {
      "cell_type": "code",
      "source": [
        "from sklearn.datasets import make_circles, make_moons"
      ],
      "metadata": {
        "id": "F4K167LOdP_a"
      },
      "execution_count": 228,
      "outputs": []
    },
    {
      "cell_type": "code",
      "source": [
        "# Cricles\n",
        "X1 = make_circles(factor=0.5, noise=0.05, n_samples=1500)\n",
        "\n",
        "# Moons\n",
        "X2 = make_moons(n_samples=1500, noise=0.05)\n",
        "\n",
        "fig, ax = plt.subplots(1, 2)\n",
        "for i, X in enumerate([X1, X2]):\n",
        "    fig.set_size_inches(11, 5)\n",
        "    ax[i].scatter(X[0][:, 0], X[0][:, 1])\n",
        "\n",
        "plt.tight_layout();"
      ],
      "metadata": {
        "colab": {
          "base_uri": "https://localhost:8080/",
          "height": 369
        },
        "id": "iSx7qtgHdA96",
        "outputId": "7492d2b0-38dd-4f4f-b3f6-96a75e81daa1"
      },
      "execution_count": 235,
      "outputs": [
        {
          "output_type": "display_data",
          "data": {
            "text/plain": [
              "<Figure size 792x360 with 2 Axes>"
            ],
            "image/png": "[encoded data removed]"
          },
          "metadata": {
            "needs_background": "light"
          }
        }
      ]
    },
    {
      "cell_type": "markdown",
      "source": [
        "### MeanShift components"
      ],
      "metadata": {
        "id": "Q_pvvCGLR3Rk"
      }
    },
    {
      "cell_type": "markdown",
      "source": [
        "The MeanShift clustering algorithm works as follows:\n",
        "1. For each data point $x_i$ in the sample $X$, find the distance $d_{ij}$ between $x_i$ and every other point $x_j$ in $X$. i.e. $d_{ij} = \\| x_i - x_j \\|$\n",
        "1. Calculate weights $w_{ij}$ for each point $x_i$ in $X$ by applying the **Gaussian kernel** (with standard deviation set to **bandwidth**) to that point's distance to $x_j$.\n",
        "1. Update x as the weighted average of all other points in X, weighted based on the previous step\n",
        "\n",
        "The algorithm converge iteratively by pushing closer points even closer until they are next to each other.\n",
        "\n",
        "Note:\n",
        "* This weighting approach penalizes points further away from each other\n",
        "* The rate at which the weights fall to zero is determined by the **bandwidth**.\n",
        "* The value of **bandwidth** should be choosen so that it covers one third of the data."
      ],
      "metadata": {
        "id": "qYmwXmxdNRHw"
      }
    },
    {
      "cell_type": "markdown",
      "source": [
        "#### Distance\n",
        "The first component of MeanShift is the distance function, which is simply the Euclidean distance (also known as Norm 2 distance) and defined as follows: $ d\\left( x_i, x_j \\right)   = \\sqrt {\\sum _{k=1}^{K}  \\left( x_{ik}-x_{jk}\\right)^2 } $ \n",
        "where $x_i$ and $x_j$ are two observation arrays of dimension $K$.\n",
        "\n",
        "The rest of this section implments the Norm2 distance in JAX."
      ],
      "metadata": {
        "id": "cbMD11uYPQhC"
      }
    },
    {
      "cell_type": "code",
      "source": [
        "X = data.clone()\n",
        "x0 = data[0]\n",
        "\n",
        "x0.shape, X.shape"
      ],
      "metadata": {
        "colab": {
          "base_uri": "https://localhost:8080/"
        },
        "id": "H26YwtvKWpMY",
        "outputId": "365a6ad2-0b0c-41bf-ced7-9551677b2c95"
      },
      "execution_count": 73,
      "outputs": [
        {
          "output_type": "execute_result",
          "data": {
            "text/plain": [
              "((2,), (1750, 2))"
            ]
          },
          "metadata": {},
          "execution_count": 73
        }
      ]
    },
    {
      "cell_type": "code",
      "source": [
        "X[None].shape, X[:, None].shape, (X[None]-X[:, None]).shape"
      ],
      "metadata": {
        "colab": {
          "base_uri": "https://localhost:8080/"
        },
        "id": "ZOq-htW2aDuR",
        "outputId": "04ff7db4-054e-4955-b37c-3ecf4e40db03"
      },
      "execution_count": 22,
      "outputs": [
        {
          "output_type": "execute_result",
          "data": {
            "text/plain": [
              "((1, 1750, 2), (1750, 1, 2), (1750, 1750, 2))"
            ]
          },
          "metadata": {},
          "execution_count": 22
        }
      ]
    },
    {
      "cell_type": "code",
      "source": [
        "dist = jnp.sqrt(((X[None]-X[:, None])**2).sum(axis=1))\n",
        "dist.shape"
      ],
      "metadata": {
        "colab": {
          "base_uri": "https://localhost:8080/"
        },
        "id": "dayrxPh3aXph",
        "outputId": "a388cf69-8847-4cf0-e37e-ca4b5c0825d7"
      },
      "execution_count": 23,
      "outputs": [
        {
          "output_type": "execute_result",
          "data": {
            "text/plain": [
              "(1750, 2)"
            ]
          },
          "metadata": {},
          "execution_count": 23
        }
      ]
    },
    {
      "cell_type": "code",
      "source": [
        "def distance(X, x):\n",
        "    diff = (X - x) if len(x.shape) == 1 else (X[None]-x[:, None])\n",
        "    return jnp.sqrt((diff**2).sum(axis=-1))"
      ],
      "metadata": {
        "id": "w78RJHW1YF5n"
      },
      "execution_count": 130,
      "outputs": []
    },
    {
      "cell_type": "code",
      "source": [
        "X[2].shape, X[:2].shape, X[:2][:, None].shape"
      ],
      "metadata": {
        "colab": {
          "base_uri": "https://localhost:8080/"
        },
        "id": "4CBbY5Hdx4bK",
        "outputId": "54b57ccc-a4d9-41a9-a3fd-21e5223d8b8b"
      },
      "execution_count": 131,
      "outputs": [
        {
          "output_type": "execute_result",
          "data": {
            "text/plain": [
              "((2,), (2, 2), (2, 1, 2))"
            ]
          },
          "metadata": {},
          "execution_count": 131
        }
      ]
    },
    {
      "cell_type": "code",
      "source": [
        "distance(X, X).shape, distance(X, X[:10]).shape, distance(X, X[0]).shape"
      ],
      "metadata": {
        "colab": {
          "base_uri": "https://localhost:8080/"
        },
        "id": "YO2uOlWScLX2",
        "outputId": "baf9ecf3-bf21-42a4-fd0e-a4de8ae54599"
      },
      "execution_count": 132,
      "outputs": [
        {
          "output_type": "execute_result",
          "data": {
            "text/plain": [
              "((1750, 1750), (10, 1750), (1750,))"
            ]
          },
          "metadata": {},
          "execution_count": 132
        }
      ]
    },
    {
      "cell_type": "markdown",
      "source": [
        "#### Gaussian kernel"
      ],
      "metadata": {
        "id": "vWtfmWQARLiK"
      }
    },
    {
      "cell_type": "markdown",
      "source": [
        "MeanShift uses the Gaussian kernel to calculate the weights by applying it to the distance between $x_i$ and $x_j$ as follows $w_{ij} = \\varphi(\\| x_i - x_j \\|)$. It is defined by the following equation:\n",
        "\n",
        "$$\\varphi(z) = \\frac{1}{\\sigma*\\sqrt{2\\pi}}e^{\\frac{-z^2}{2*\\sigma^2}}$$ \n",
        "\n",
        "> Note: $\\sigma$ is the standard deviation, and $\\mu$ (i.e. the mean) is 0"
      ],
      "metadata": {
        "id": "eZHahhiXNVXD"
      }
    },
    {
      "cell_type": "markdown",
      "source": [
        "In JAX, it is implemented as follows:"
      ],
      "metadata": {
        "id": "8wKI9V1z25sa"
      }
    },
    {
      "cell_type": "code",
      "source": [
        "def gaussian(x, bandwidth, mean=0):\n",
        "    return jnp.exp(-0.5 * ((x-mean)/bandwidth)**2) / (bandwidth*jnp.sqrt(2*math.pi))"
      ],
      "metadata": {
        "id": "Gy4hYMDhRys8"
      },
      "execution_count": 13,
      "outputs": []
    },
    {
      "cell_type": "markdown",
      "source": [
        "Let's plot the above function to have a better sence of how its output looks like"
      ],
      "metadata": {
        "id": "JWcwyLFp3Cw1"
      }
    },
    {
      "cell_type": "code",
      "source": [
        "def plot_func(f):\n",
        "    x=jnp.linspace(0, 10, 100)\n",
        "    plt.plot(x, f(x))"
      ],
      "metadata": {
        "id": "jSfF1G7BS6ha"
      },
      "execution_count": 14,
      "outputs": []
    },
    {
      "cell_type": "markdown",
      "source": [
        "With a bandwidth of value 2.5 we get the following plot.\n"
      ],
      "metadata": {
        "id": "cVNOU1bo9Hvt"
      }
    },
    {
      "cell_type": "code",
      "source": [
        "plot_func(partial(gaussian, bandwidth=2.5))"
      ],
      "metadata": {
        "colab": {
          "base_uri": "https://localhost:8080/",
          "height": 265
        },
        "id": "4xXcwJ1lVu-9",
        "outputId": "bb60cac6-9657-480b-e904-0b960fe9a99c"
      },
      "execution_count": 15,
      "outputs": [
        {
          "output_type": "display_data",
          "data": {
            "text/plain": [
              "<Figure size 432x288 with 1 Axes>"
            ],
            "image/png": "[encoded data removed]"
          },
          "metadata": {
            "needs_background": "light"
          }
        }
      ]
    },
    {
      "cell_type": "markdown",
      "source": [
        "Notice how the output of the gaussion follows a decreasing line then literally becomes 0 for input greater or equal to 8. In fact, we can approximate this Gaussion with a much faster to calculate function defined as follows:\n"
      ],
      "metadata": {
        "id": "ciuuy9tb9Ppx"
      }
    },
    {
      "cell_type": "code",
      "source": [
        "def tri(x, i):\n",
        "    return (-x + i).clip(0)/i"
      ],
      "metadata": {
        "id": "DqtQdfaJWJyH"
      },
      "execution_count": 16,
      "outputs": []
    },
    {
      "cell_type": "markdown",
      "source": [
        "You can see from the plot that the output looks very similar to a gaussian."
      ],
      "metadata": {
        "id": "mGQIzrfsGVC8"
      }
    },
    {
      "cell_type": "code",
      "source": [
        "plot_func(partial(tri, i=8))"
      ],
      "metadata": {
        "colab": {
          "base_uri": "https://localhost:8080/",
          "height": 265
        },
        "id": "1_DEG_lrWg7c",
        "outputId": "1ff5ae7e-a2ac-4041-b951-57dcf4afee74"
      },
      "execution_count": 17,
      "outputs": [
        {
          "output_type": "display_data",
          "data": {
            "text/plain": [
              "<Figure size 432x288 with 1 Axes>"
            ],
            "image/png": "[encoded data removed]"
          },
          "metadata": {
            "needs_background": "light"
          }
        }
      ]
    },
    {
      "cell_type": "markdown",
      "source": [
        "Before going further let's try the gaussian on some inputs for validation"
      ],
      "metadata": {
        "id": "p1tsDVTQ-SWL"
      }
    },
    {
      "cell_type": "code",
      "source": [
        "dist_0 = jnp.sqrt(((x0-X)**2).sum(axis=1))\n",
        "dist_0.shape, dist_0"
      ],
      "metadata": {
        "colab": {
          "base_uri": "https://localhost:8080/"
        },
        "id": "MDVbMWuAXWs0",
        "outputId": "5d28246b-0aed-4877-fa02-f86548cdf529"
      },
      "execution_count": 194,
      "outputs": [
        {
          "output_type": "execute_result",
          "data": {
            "text/plain": [
              "((1750,),\n",
              " DeviceArray([ 0.   ,  3.869,  5.187, ..., 81.709, 76.189, 83.284], dtype=float32))"
            ]
          },
          "metadata": {},
          "execution_count": 194
        }
      ]
    },
    {
      "cell_type": "code",
      "source": [
        "weight_0 = gaussian(dist_0, 2.5)\n",
        "weight_0.shape, weight_0"
      ],
      "metadata": {
        "colab": {
          "base_uri": "https://localhost:8080/"
        },
        "id": "G82U8sEIXa2U",
        "outputId": "f00fecf0-4656-47ae-aee4-b0b185615b11"
      },
      "execution_count": 195,
      "outputs": [
        {
          "output_type": "execute_result",
          "data": {
            "text/plain": [
              "((1750,),\n",
              " DeviceArray([0.16 , 0.048, 0.019, ..., 0.   , 0.   , 0.   ], dtype=float32))"
            ]
          },
          "metadata": {},
          "execution_count": 195
        }
      ]
    },
    {
      "cell_type": "code",
      "source": [
        "weight_0[:,None] * X"
      ],
      "metadata": {
        "colab": {
          "base_uri": "https://localhost:8080/"
        },
        "id": "yKSyFATtX5_h",
        "outputId": "4d55ddb0-c98a-4172-84ce-ca9a901b827b"
      },
      "execution_count": 21,
      "outputs": [
        {
          "output_type": "execute_result",
          "data": {
            "text/plain": [
              "DeviceArray([[ 7.814,  4.246],\n",
              "             [ 2.522,  1.374],\n",
              "             [ 0.812,  0.485],\n",
              "             ...,\n",
              "             [-0.   , -0.   ],\n",
              "             [-0.   ,  0.   ],\n",
              "             [-0.   ,  0.   ]], dtype=float32)"
            ]
          },
          "metadata": {},
          "execution_count": 21
        }
      ]
    },
    {
      "cell_type": "markdown",
      "source": [
        "#### Calculating the weights"
      ],
      "metadata": {
        "id": "JRDP8iThRYx4"
      }
    },
    {
      "cell_type": "markdown",
      "source": [
        "Now we can finally claculate the weights"
      ],
      "metadata": {
        "id": "vQTT1B3j5UUS"
      }
    },
    {
      "cell_type": "code",
      "source": [
        "weight = gaussian(distance(X, X[:10]), 2)"
      ],
      "metadata": {
        "id": "JoD2lcsZcPt6"
      },
      "execution_count": 133,
      "outputs": []
    },
    {
      "cell_type": "code",
      "source": [
        "weight_tri = tri(distance(X, X[:10]), 8)"
      ],
      "metadata": {
        "id": "sZ_XYNRnetp5"
      },
      "execution_count": 134,
      "outputs": []
    },
    {
      "cell_type": "code",
      "source": [
        "weight.shape, weight_tri.shape, X.shape"
      ],
      "metadata": {
        "colab": {
          "base_uri": "https://localhost:8080/"
        },
        "id": "-efawiblcdbm",
        "outputId": "e27cc8bc-7d88-4e8f-88be-519eb26bc966"
      },
      "execution_count": 135,
      "outputs": [
        {
          "output_type": "execute_result",
          "data": {
            "text/plain": [
              "((10, 1750), (10, 1750), (1750, 2))"
            ]
          },
          "metadata": {},
          "execution_count": 135
        }
      ]
    },
    {
      "cell_type": "markdown",
      "source": [
        "The weight matrix is used in the Mean Shift algorithm to normalize X as follows:"
      ],
      "metadata": {
        "id": "rzJR85Xt5-zu"
      }
    },
    {
      "cell_type": "code",
      "source": [
        "num = jnp.dot(weight, X)\n",
        "div = weight.sum(-1, keepdims=True)\n",
        "X_out = num/div"
      ],
      "metadata": {
        "id": "hXOPBuaIdMmu"
      },
      "execution_count": 192,
      "outputs": []
    },
    {
      "cell_type": "code",
      "source": [
        "num.shape, div.shape, X_out.shape, X_out"
      ],
      "metadata": {
        "colab": {
          "base_uri": "https://localhost:8080/"
        },
        "id": "-rkuHBbLdrRg",
        "outputId": "d5a45bc1-4f09-42a3-c7f1-1bfc0cedae0e"
      },
      "execution_count": 193,
      "outputs": [
        {
          "output_type": "execute_result",
          "data": {
            "text/plain": [
              "((10, 2), (10, 1), (10, 2), DeviceArray([[48.542, 25.583],\n",
              "              [50.357, 26.867],\n",
              "              [45.713, 25.075],\n",
              "              ...,\n",
              "              [47.695, 24.937],\n",
              "              [47.378, 23.747],\n",
              "              [47.36 , 22.198]], dtype=float32))"
            ]
          },
          "metadata": {},
          "execution_count": 193
        }
      ]
    },
    {
      "cell_type": "code",
      "source": [
        "weight.shape, weight.sum(axis=1).shape"
      ],
      "metadata": {
        "colab": {
          "base_uri": "https://localhost:8080/"
        },
        "id": "yEHLjsra2Dai",
        "outputId": "eec4261e-084c-4dd7-eeff-276308fc0e3f"
      },
      "execution_count": 159,
      "outputs": [
        {
          "output_type": "execute_result",
          "data": {
            "text/plain": [
              "((10, 1750), (10,))"
            ]
          },
          "metadata": {},
          "execution_count": 159
        }
      ]
    },
    {
      "cell_type": "markdown",
      "source": [
        "#### Putting everything together"
      ],
      "metadata": {
        "id": "KnZlaBEjRgb3"
      }
    },
    {
      "cell_type": "markdown",
      "source": [
        "After defining all the components, the following method group them to apply one step of the Mean Shift algorithm on a batch of oberservations"
      ],
      "metadata": {
        "id": "ijngSv2j5iIt"
      }
    },
    {
      "cell_type": "code",
      "source": [
        "def batched_meanshift_fn(X, bw=2):\n",
        "  @jax.jit\n",
        "  def apply(Xb):\n",
        "    wb = gaussian(distance(X, Xb), bw)\n",
        "    Xb_out = jnp.dot(wb, X) / wb.sum(-1, keepdims=True)\n",
        "    return Xb_out\n",
        "  return apply"
      ],
      "metadata": {
        "id": "UocTdHkRsqAW"
      },
      "execution_count": 165,
      "outputs": []
    },
    {
      "cell_type": "markdown",
      "source": [
        "For reference this is the expected shape of each of the vectors that the above function manipulate:\n",
        "\n",
        "|array|shape|\n",
        "|-|-|\n",
        "|`X`|`(N, 2)`|\n",
        "|`Xb`|`(batch_size, 2)`|\n",
        "|`wb`|`(batch_size, N)`|\n",
        "|`Xb_out`|`(batch_size, 2)`|"
      ],
      "metadata": {
        "id": "fcaOUJPdA00M"
      }
    },
    {
      "cell_type": "code",
      "source": [
        "func = batched_meanshift_fn(X, 2)\n",
        "func(X[:10])"
      ],
      "metadata": {
        "colab": {
          "base_uri": "https://localhost:8080/"
        },
        "id": "O0TBAlNNsuK-",
        "outputId": "0a03b7d9-0aad-49d4-dfa3-a6646ee8fc17"
      },
      "execution_count": 208,
      "outputs": [
        {
          "output_type": "execute_result",
          "data": {
            "text/plain": [
              "DeviceArray([[48.542, 25.583],\n",
              "             [50.357, 26.867],\n",
              "             [45.713, 25.075],\n",
              "             ...,\n",
              "             [47.695, 24.937],\n",
              "             [47.378, 23.747],\n",
              "             [47.36 , 22.198]], dtype=float32)"
            ]
          },
          "metadata": {},
          "execution_count": 208
        }
      ]
    },
    {
      "cell_type": "code",
      "source": [
        "func = batched_meanshift_fn(X, 2)\n",
        "func(X[0])"
      ],
      "metadata": {
        "colab": {
          "base_uri": "https://localhost:8080/"
        },
        "id": "jbILGkMMxfDx",
        "outputId": "7db79e2d-8c3d-4878-f44b-d90c5a8e0532"
      },
      "execution_count": 209,
      "outputs": [
        {
          "output_type": "execute_result",
          "data": {
            "text/plain": [
              "((2,), DeviceArray([48.542, 25.583], dtype=float32))"
            ]
          },
          "metadata": {},
          "execution_count": 209
        }
      ]
    },
    {
      "cell_type": "markdown",
      "source": [
        "### Manually batching the data"
      ],
      "metadata": {
        "id": "_OSLHZCSOoHq"
      }
    },
    {
      "cell_type": "markdown",
      "source": [
        "Even if it is slower, we should first try the algorithm on manually batched data to check that the final result matches the expectations"
      ],
      "metadata": {
        "id": "GwLs-M7C8wHo"
      }
    },
    {
      "cell_type": "code",
      "source": [
        "def meanshift_step_1(step, args):\n",
        "    X, bs, bw = args\n",
        "    n = X.shape[0]\n",
        "    batches = []\n",
        "    batch_apply = batched_meanshift_fn(X, bw)\n",
        "    for i in range(0, n, bs):\n",
        "        s = slice(i, min(i+bs, n))\n",
        "        Xb = batch_apply(X[s])\n",
        "        batches.append(Xb)\n",
        "    X_out = jnp.concatenate(batches, axis=0)\n",
        "    return (X_out, bs, bw)\n",
        "\n",
        "def meanshift_1(data, bs=500, bw=2, steps=5):\n",
        "    X = data.clone()\n",
        "    Xs = [X]\n",
        "    for i in range(steps):\n",
        "        X, _, _ = meanshift_step_1(i, (X, bs, bw))\n",
        "        Xs.append(X)\n",
        "    return X, Xs"
      ],
      "metadata": {
        "id": "mcO3QIs1eFmo"
      },
      "execution_count": 215,
      "outputs": []
    },
    {
      "cell_type": "markdown",
      "source": [
        "Check how long it takes to run this implementation using the default batch size of 500."
      ],
      "metadata": {
        "id": "ySwZghlW9Fvn"
      }
    },
    {
      "cell_type": "code",
      "source": [
        "%%time\n",
        "X_out, _ = meanshift_1(data)"
      ],
      "metadata": {
        "colab": {
          "base_uri": "https://localhost:8080/"
        },
        "id": "m0o6IgmgkFD8",
        "outputId": "02cceafb-d8b9-4967-80b9-efe04230b3e2"
      },
      "execution_count": 214,
      "outputs": [
        {
          "output_type": "stream",
          "name": "stdout",
          "text": [
            "CPU times: user 1.07 s, sys: 10.2 ms, total: 1.08 s\n",
            "Wall time: 895 ms\n"
          ]
        }
      ]
    },
    {
      "cell_type": "code",
      "source": [
        "plot_data(centroids+3, X_out, n_samples)"
      ],
      "metadata": {
        "colab": {
          "base_uri": "https://localhost:8080/",
          "height": 265
        },
        "id": "8TZOT62F8vNe",
        "outputId": "f9c3b327-c79d-4c2f-a1c9-5d5c1ae35641"
      },
      "execution_count": 200,
      "outputs": [
        {
          "output_type": "display_data",
          "data": {
            "text/plain": [
              "<Figure size 432x288 with 1 Axes>"
            ],
            "image/png": "[encoded data removed]"
          },
          "metadata": {
            "needs_background": "light"
          }
        }
      ]
    },
    {
      "cell_type": "markdown",
      "source": [
        "The implementation is slower when using fews observations by batch. It is the worst when using the lowest batch size of 1."
      ],
      "metadata": {
        "id": "zPEwGSpF9NiE"
      }
    },
    {
      "cell_type": "code",
      "source": [
        "%%time\n",
        "X_out, _ = meanshift_1(data, 1)"
      ],
      "metadata": {
        "colab": {
          "base_uri": "https://localhost:8080/"
        },
        "id": "790M_70H8wlk",
        "outputId": "d836e53a-9c9c-4f72-ab19-68077d9e03dd"
      },
      "execution_count": 201,
      "outputs": [
        {
          "output_type": "stream",
          "name": "stdout",
          "text": [
            "CPU times: user 5.12 s, sys: 159 µs, total: 5.12 s\n",
            "Wall time: 5.12 s\n"
          ]
        }
      ]
    },
    {
      "cell_type": "code",
      "source": [
        "plot_data(centroids+3, X_out, n_samples)"
      ],
      "metadata": {
        "colab": {
          "base_uri": "https://localhost:8080/",
          "height": 267
        },
        "id": "jDkQpDBd81Ce",
        "outputId": "632b5cad-2846-48bf-bd91-7d76f60e7d79"
      },
      "execution_count": 206,
      "outputs": [
        {
          "output_type": "display_data",
          "data": {
            "text/plain": [
              "<Figure size 432x288 with 1 Axes>"
            ],
            "image/png": "[encoded data removed]"
          },
          "metadata": {
            "needs_background": "light"
          }
        }
      ]
    },
    {
      "cell_type": "markdown",
      "source": [
        "Increasing the batch size, the algorithm finishes earlier."
      ],
      "metadata": {
        "id": "42eJ4pQ-9dUe"
      }
    },
    {
      "cell_type": "code",
      "source": [
        "%%time\n",
        "X_out, _ = meanshift_1(data, 1000)"
      ],
      "metadata": {
        "colab": {
          "base_uri": "https://localhost:8080/"
        },
        "id": "YNt6xRQL7YI0",
        "outputId": "7193cc48-0b5d-470c-98e3-0ebf33949801"
      },
      "execution_count": 203,
      "outputs": [
        {
          "output_type": "stream",
          "name": "stdout",
          "text": [
            "CPU times: user 1.04 s, sys: 12.2 ms, total: 1.05 s\n",
            "Wall time: 884 ms\n"
          ]
        }
      ]
    },
    {
      "cell_type": "code",
      "source": [
        "plot_data(centroids+3, X_out, n_samples)"
      ],
      "metadata": {
        "colab": {
          "base_uri": "https://localhost:8080/",
          "height": 265
        },
        "id": "dGXj3si6lBeG",
        "outputId": "1b85e242-b15a-4e6e-e971-a030ee4f87a4"
      },
      "execution_count": 204,
      "outputs": [
        {
          "output_type": "display_data",
          "data": {
            "text/plain": [
              "<Figure size 432x288 with 1 Axes>"
            ],
            "image/png": "[encoded data removed]"
          },
          "metadata": {
            "needs_background": "light"
          }
        }
      ]
    },
    {
      "cell_type": "markdown",
      "source": [
        "### Auto-vectorization with vmap"
      ],
      "metadata": {
        "id": "FPvd1TRZOfAu"
      }
    },
    {
      "cell_type": "markdown",
      "source": [
        "We can mush faster when using JAX vectorizing map [vmap](https://jax.readthedocs.io/en/latest/_autosummary/jax.vmap.html#jax.vmap). This will allow us to run a function on each element of the array in parallel."
      ],
      "metadata": {
        "id": "TF3a74B_PN1l"
      }
    },
    {
      "cell_type": "code",
      "source": [
        "def meanshift_step_2(step, args):\n",
        "    X, bw = args\n",
        "    func = batched_meanshift_fn(X, bw)\n",
        "    X_out = jax.vmap(func)(X)\n",
        "    return (X_out, bw)\n",
        "\n",
        "def meanshift_2(data, bw=2, steps=5):\n",
        "    X = data.clone()\n",
        "    X, _ = jax.lax.fori_loop(0, steps, meanshift_step_2, (X, bw))\n",
        "    return X"
      ],
      "metadata": {
        "id": "e6yno1WdkoYu"
      },
      "execution_count": 189,
      "outputs": []
    },
    {
      "cell_type": "code",
      "source": [
        "%%time\n",
        "X_out = meanshift_2(data, n_clusters*n_samples)"
      ],
      "metadata": {
        "colab": {
          "base_uri": "https://localhost:8080/"
        },
        "id": "5U9QAUORkKC_",
        "outputId": "d9db4c44-9e0e-44f0-ddc9-6a0e62d67056"
      },
      "execution_count": 211,
      "outputs": [
        {
          "output_type": "stream",
          "name": "stdout",
          "text": [
            "CPU times: user 406 ms, sys: 0 ns, total: 406 ms\n",
            "Wall time: 223 ms\n"
          ]
        }
      ]
    },
    {
      "cell_type": "markdown",
      "source": [
        "> Warning: we are using JAX with a CPU backend, hence it took our implementation that much of time to finish. We could benefit of vmap a lot more when using JAX with a GPU or TPU backend."
      ],
      "metadata": {
        "id": "Fcfb_nE3-KYI"
      }
    },
    {
      "cell_type": "code",
      "source": [
        "plot_data(centroids+3, X_out, n_samples)"
      ],
      "metadata": {
        "colab": {
          "base_uri": "https://localhost:8080/",
          "height": 267
        },
        "id": "QrGy1TvBmeWU",
        "outputId": "5af7aa16-25df-43ba-ad2c-e5b7a1eb24e7"
      },
      "execution_count": 212,
      "outputs": [
        {
          "output_type": "display_data",
          "data": {
            "text/plain": [
              "<Figure size 432x288 with 1 Axes>"
            ],
            "image/png": "[encoded data removed]"
          },
          "metadata": {
            "needs_background": "light"
          }
        }
      ]
    },
    {
      "cell_type": "markdown",
      "source": [
        "### MeanShift steps animated"
      ],
      "metadata": {
        "id": "8lJntJI6N0KJ"
      }
    },
    {
      "cell_type": "markdown",
      "source": [
        "Because Mean Shift is an iterative algorithm, we can visualize how the clusters change on every step."
      ],
      "metadata": {
        "id": "34IPlm1a-pje"
      }
    },
    {
      "cell_type": "code",
      "source": [
        "from matplotlib.animation import FuncAnimation\n",
        "from IPython.display import HTML"
      ],
      "metadata": {
        "id": "uwcN2RpyN4II"
      },
      "execution_count": 217,
      "outputs": []
    },
    {
      "cell_type": "code",
      "source": [
        "_, Xs = meanshift_1(data, 500)"
      ],
      "metadata": {
        "id": "5h6RHHfLOC2O"
      },
      "execution_count": 218,
      "outputs": []
    },
    {
      "cell_type": "code",
      "source": [
        "def do_one(d):\n",
        "    X = Xs[d]\n",
        "    ax.clear()\n",
        "    plot_data(centroids+3, X, n_samples, ax=ax)"
      ],
      "metadata": {
        "id": "9E4J762gOI_e"
      },
      "execution_count": 219,
      "outputs": []
    },
    {
      "cell_type": "code",
      "source": [
        "fig,ax = plt.subplots()\n",
        "ani = FuncAnimation(fig, do_one, frames=5, interval=500, repeat=False)\n",
        "plt.close()\n",
        "HTML(ani.to_jshtml())"
      ],
      "metadata": {
        "colab": {
          "base_uri": "https://localhost:8080/",
          "height": 385
        },
        "id": "tDSrLE4xOYIy",
        "outputId": "810c7240-2016-4fbc-91d3-e4092c573668"
      },
      "execution_count": 220,
      "outputs": [
        {
          "output_type": "execute_result",
          "data": {
            "text/plain": [
              "<IPython.core.display.HTML object>"
            ],
            "text/html": [
              "\n",
              "<link rel=\"stylesheet\"\n",
              "href=\"https://maxcdn.bootstrapcdn.com/font-awesome/4.4.0/\n",
              "css/font-awesome.min.css\">\n",
              "<script language=\"javascript\">\n",
              "  function isInternetExplorer() {\n",
              "    ua = navigator.userAgent;\n",
              "    /* MSIE used to detect old browsers and Trident used to newer ones*/\n",
              "    return ua.indexOf(\"MSIE \") > -1 || ua.indexOf(\"Trident/\") > -1;\n",
              "  }\n",
              "\n",
              "  /* Define the Animation class */\n",
              "  function Animation(frames, img_id, slider_id, interval, loop_select_id){\n",
              "    this.img_id = img_id;\n",
              "    this.slider_id = slider_id;\n",
              "    this.loop_select_id = loop_select_id;\n",
              "    this.interval = interval;\n",
              "    this.current_frame = 0;\n",
              "    this.direction = 0;\n",
              "    this.timer = null;\n",
              "    this.frames = new Array(frames.length);\n",
              "\n",
              "    for (var i=0; i<frames.length; i++)\n",
              "    {\n",
              "     this.frames[i] = new Image();\n",
              "     this.frames[i].src = frames[i];\n",
              "    }\n",
              "    var slider = document.getElementById(this.slider_id);\n",
              "    slider.max = this.frames.length - 1;\n",
              "    if (isInternetExplorer()) {\n",
              "        // switch from oninput to onchange because IE <= 11 does not conform\n",
              "        // with W3C specification. It ignores oninput and onchange behaves\n",
              "        // like oninput. In contrast, Mircosoft Edge behaves correctly.\n",
              "        slider.setAttribute('onchange', slider.getAttribute('oninput'));\n",
              "        slider.setAttribute('oninput', null);\n",
              "    }\n",
              "    this.set_frame(this.current_frame);\n",
              "  }\n",
              "\n",
              "  Animation.prototype.get_loop_state = function(){\n",
              "    var button_group = document[this.loop_select_id].state;\n",
              "    for (var i = 0; i < button_group.length; i++) {\n",
              "        var button = button_group[i];\n",
              "        if (button.checked) {\n",
              "            return button.value;\n",
              "        }\n",
              "    }\n",
              "    return undefined;\n",
              "  }\n",
              "\n",
              "  Animation.prototype.set_frame = function(frame){\n",
              "    this.current_frame = frame;\n",
              "    document.getElementById(this.img_id).src =\n",
              "            this.frames[this.current_frame].src;\n",
              "    document.getElementById(this.slider_id).value = this.current_frame;\n",
              "  }\n",
              "\n",
              "  Animation.prototype.next_frame = function()\n",
              "  {\n",
              "    this.set_frame(Math.min(this.frames.length - 1, this.current_frame + 1));\n",
              "  }\n",
              "\n",
              "  Animation.prototype.previous_frame = function()\n",
              "  {\n",
              "    this.set_frame(Math.max(0, this.current_frame - 1));\n",
              "  }\n",
              "\n",
              "  Animation.prototype.first_frame = function()\n",
              "  {\n",
              "    this.set_frame(0);\n",
              "  }\n",
              "\n",
              "  Animation.prototype.last_frame = function()\n",
              "  {\n",
              "    this.set_frame(this.frames.length - 1);\n",
              "  }\n",
              "\n",
              "  Animation.prototype.slower = function()\n",
              "  {\n",
              "    this.interval /= 0.7;\n",
              "    if(this.direction > 0){this.play_animation();}\n",
              "    else if(this.direction < 0){this.reverse_animation();}\n",
              "  }\n",
              "\n",
              "  Animation.prototype.faster = function()\n",
              "  {\n",
              "    this.interval *= 0.7;\n",
              "    if(this.direction > 0){this.play_animation();}\n",
              "    else if(this.direction < 0){this.reverse_animation();}\n",
              "  }\n",
              "\n",
              "  Animation.prototype.anim_step_forward = function()\n",
              "  {\n",
              "    this.current_frame += 1;\n",
              "    if(this.current_frame < this.frames.length){\n",
              "      this.set_frame(this.current_frame);\n",
              "    }else{\n",
              "      var loop_state = this.get_loop_state();\n",
              "      if(loop_state == \"loop\"){\n",
              "        this.first_frame();\n",
              "      }else if(loop_state == \"reflect\"){\n",
              "        this.last_frame();\n",
              "        this.reverse_animation();\n",
              "      }else{\n",
              "        this.pause_animation();\n",
              "        this.last_frame();\n",
              "      }\n",
              "    }\n",
              "  }\n",
              "\n",
              "  Animation.prototype.anim_step_reverse = function()\n",
              "  {\n",
              "    this.current_frame -= 1;\n",
              "    if(this.current_frame >= 0){\n",
              "      this.set_frame(this.current_frame);\n",
              "    }else{\n",
              "      var loop_state = this.get_loop_state();\n",
              "      if(loop_state == \"loop\"){\n",
              "        this.last_frame();\n",
              "      }else if(loop_state == \"reflect\"){\n",
              "        this.first_frame();\n",
              "        this.play_animation();\n",
              "      }else{\n",
              "        this.pause_animation();\n",
              "        this.first_frame();\n",
              "      }\n",
              "    }\n",
              "  }\n",
              "\n",
              "  Animation.prototype.pause_animation = function()\n",
              "  {\n",
              "    this.direction = 0;\n",
              "    if (this.timer){\n",
              "      clearInterval(this.timer);\n",
              "      this.timer = null;\n",
              "    }\n",
              "  }\n",
              "\n",
              "  Animation.prototype.play_animation = function()\n",
              "  {\n",
              "    this.pause_animation();\n",
              "    this.direction = 1;\n",
              "    var t = this;\n",
              "    if (!this.timer) this.timer = setInterval(function() {\n",
              "        t.anim_step_forward();\n",
              "    }, this.interval);\n",
              "  }\n",
              "\n",
              "  Animation.prototype.reverse_animation = function()\n",
              "  {\n",
              "    this.pause_animation();\n",
              "    this.direction = -1;\n",
              "    var t = this;\n",
              "    if (!this.timer) this.timer = setInterval(function() {\n",
              "        t.anim_step_reverse();\n",
              "    }, this.interval);\n",
              "  }\n",
              "</script>\n",
              "\n",
              "<style>\n",
              ".animation {\n",
              "    display: inline-block;\n",
              "    text-align: center;\n",
              "}\n",
              "input[type=range].anim-slider {\n",
              "    width: 374px;\n",
              "    margin-left: auto;\n",
              "    margin-right: auto;\n",
              "}\n",
              ".anim-buttons {\n",
              "    margin: 8px 0px;\n",
              "}\n",
              ".anim-buttons button {\n",
              "    padding: 0;\n",
              "    width: 36px;\n",
              "}\n",
              ".anim-state label {\n",
              "    margin-right: 8px;\n",
              "}\n",
              ".anim-state input {\n",
              "    margin: 0;\n",
              "    vertical-align: middle;\n",
              "}\n",
              "</style>\n",
              "\n",
              "<div class=\"animation\">\n",
              "  <img id=\"_anim_img821cb162418c4b2ebe6cffb7073e470d\">\n",
              "  <div class=\"anim-controls\">\n",
              "    <input id=\"_anim_slider821cb162418c4b2ebe6cffb7073e470d\" type=\"range\" class=\"anim-slider\"\n",
              "           name=\"points\" min=\"0\" max=\"1\" step=\"1\" value=\"0\"\n",
              "           oninput=\"anim821cb162418c4b2ebe6cffb7073e470d.set_frame(parseInt(this.value));\"></input>\n",
              "    <div class=\"anim-buttons\">\n",
              "      <button onclick=\"anim821cb162418c4b2ebe6cffb7073e470d.slower()\"><i class=\"fa fa-minus\"></i></button>\n",
              "      <button onclick=\"anim821cb162418c4b2ebe6cffb7073e470d.first_frame()\"><i class=\"fa fa-fast-backward\">\n",
              "          </i></button>\n",
              "      <button onclick=\"anim821cb162418c4b2ebe6cffb7073e470d.previous_frame()\">\n",
              "          <i class=\"fa fa-step-backward\"></i></button>\n",
              "      <button onclick=\"anim821cb162418c4b2ebe6cffb7073e470d.reverse_animation()\">\n",
              "          <i class=\"fa fa-play fa-flip-horizontal\"></i></button>\n",
              "      <button onclick=\"anim821cb162418c4b2ebe6cffb7073e470d.pause_animation()\"><i class=\"fa fa-pause\">\n",
              "          </i></button>\n",
              "      <button onclick=\"anim821cb162418c4b2ebe6cffb7073e470d.play_animation()\"><i class=\"fa fa-play\"></i>\n",
              "          </button>\n",
              "      <button onclick=\"anim821cb162418c4b2ebe6cffb7073e470d.next_frame()\"><i class=\"fa fa-step-forward\">\n",
              "          </i></button>\n",
              "      <button onclick=\"anim821cb162418c4b2ebe6cffb7073e470d.last_frame()\"><i class=\"fa fa-fast-forward\">\n",
              "          </i></button>\n",
              "      <button onclick=\"anim821cb162418c4b2ebe6cffb7073e470d.faster()\"><i class=\"fa fa-plus\"></i></button>\n",
              "    </div>\n",
              "    <form action=\"#n\" name=\"_anim_loop_select821cb162418c4b2ebe6cffb7073e470d\" class=\"anim-state\">\n",
              "      <input type=\"radio\" name=\"state\" value=\"once\" id=\"_anim_radio1_821cb162418c4b2ebe6cffb7073e470d\"\n",
              "             checked>\n",
              "      <label for=\"_anim_radio1_821cb162418c4b2ebe6cffb7073e470d\">Once</label>\n",
              "      <input type=\"radio\" name=\"state\" value=\"loop\" id=\"_anim_radio2_821cb162418c4b2ebe6cffb7073e470d\"\n",
              "             >\n",
              "      <label for=\"_anim_radio2_821cb162418c4b2ebe6cffb7073e470d\">Loop</label>\n",
              "      <input type=\"radio\" name=\"state\" value=\"reflect\" id=\"_anim_radio3_821cb162418c4b2ebe6cffb7073e470d\"\n",
              "             >\n",
              "      <label for=\"_anim_radio3_821cb162418c4b2ebe6cffb7073e470d\">Reflect</label>\n",
              "    </form>\n",
              "  </div>\n",
              "</div>\n",
              "\n",
              "\n",
              "<script language=\"javascript\">\n",
              "  /* Instantiate the Animation class. */\n",
              "  /* The IDs given should match those used in the template above. */\n",
              "  (function() {\n",
              "    var img_id = \"_anim_img821cb162418c4b2ebe6cffb7073e470d\";\n",
              "    var slider_id = \"_anim_slider821cb162418c4b2ebe6cffb7073e470d\";\n",
              "    var loop_select_id = \"_anim_loop_select821cb162418c4b2ebe6cffb7073e470d\";\n",
              "    var frames = new Array(5);\n",
              "    \n",
              "  frames[0] = \"data:image/png;base64,iVBORw0KGgoAAAANSUhEUgAAAbAAAAEgCAYAAADVKCZpAAAABHNCSVQICAgIfAhkiAAAAAlwSFlz\\\n",
              "AAALEgAACxIB0t1+/AAAADh0RVh0U29mdHdhcmUAbWF0cGxvdGxpYiB2ZXJzaW9uMy4yLjIsIGh0\\\n",
              "dHA6Ly9tYXRwbG90bGliLm9yZy+WH4yJAAAgAElEQVR4nOzdaXxU9dn/8c9klmQmy2QSQshKQljC\\\n",
              "jhgQUEkQpIIUKRYqFfc2vdEqd6zeorWtXUBbF2otLmkFbLX4R6VqUayCrAJC2GQLBEjIQgghmWyz\\\n",
              "ZGaS+T84mUNCEkAEkiHXOw9CZjk5w8sXX6/fuX7X0Xi9Xi9CCCGEnwno6BMQQgghLoYEmBBCCL8k\\\n",
              "ASaEEMIvSYAJIYTwSxJgQggh/JIEmBBCCL8kASaEEMIvSYAJIYTwSxJgQggh/JIEmBBCCL8kASaE\\\n",
              "EMIvSYAJIYTwSxJgQggh/JIEmBBCCL8kASaEEMIvSYAJIYTwSxJgQggh/JIEmBBCCL8kASaEEMIv\\\n",
              "SYAJIYTwSxJgQggh/JIEmBBCCL8kASaEEMIvSYAJIYTwSxJgQggh/JIEmBBCCL8kASaEEMIvSYAJ\\\n",
              "IYTwSxJgQggh/JIEmBBCCL8kASaEEMIvSYAJIYTwSxJgQggh/JIEmBBCCL+k6+gTuFy6detGUlJS\\\n",
              "R5+GEEL4lYKCAk6fPt3Rp3FBrtoAS0pKIicnp6NPQwgh/EpaWlpHn8IFkyVEIYQQfkkCTAghhF+S\\\n",
              "ABNCCOGXJMCEEEL4JQkwIYQQfkkCTAghhF+SABNCiE6koqKi1WOVNhcvfpxDpc3VAWfUeUmACSHE\\\n",
              "ZVRpc/HG+qPnDZ+SRSXMf3w+Q4YM4fDhwy3e+/zytTw7awYvjX/1Spyy35AAE0KIS6C9oHovp4hn\\\n",
              "V+XyXk5Ru+89/NJx8n6eR9wLcdhP2Bk3bhyHDx/mvZwifvfOGt75xc95wf4bJnw9jOzJ2Zf7o/gN\\\n",
              "CTAhhLgEmgdVpc3Fwi8Os+CTg1TU1TN3fB9mpCWorz077J7++q8UUEASSSxkoRpi5tN70X3wAr+z\\\n",
              "/pIkkiiggCdWPcGUex+R5USu4lFSQghxJfkCasKAaH6xfDdrD5Wrzz05KZWIYIP6sy/sAH44KJwN\\\n",
              "G97hCxwsZKEaYlknspjzw/vUxwooIIssqqjisw/eYcn0u/nFVP8Z+3Q5SIAJIcQlEBFs4GfpKbyx\\\n",
              "/ihrD5VzXXIE4KVfjzDsLg9Hy+tYfaCMGWkJatiNSIrgsY/zmDLvNZY+fT9ZdVlqYC1mMQAWLC3C\\\n",
              "q0dMLHP+9Bb3jR/SgZ+2c5AAE0KIS2hGWgJ2l4cdx61sOlKJyaDjH1vKySmw8tXRCjYcLueVHw/n\\\n",
              "Z+kpzP77VjYdqcBsDCJ61rOUv/sUWbVZLGYxFiwAWLGq4RUbG8vatWvp27dvB3/KzkGugQkhxCUU\\\n",
              "EWzAZNCx6UgFCRYjFXX1XJdsISUqBICvjlbwXk4RR8vrOF5hB6BnhJE+ffoQ/r2fn/PY2dnZEl7N\\\n",
              "SIAJIcRFOFd7/Iy0BK5LjqDI6uCbkhq+zrdiCdYzd3wfMm9MpsLm4oGl2ymyOjAbdXxTUou+rhTt\\\n",
              "f//JQhZiwYK16cuChYUsJJxwMjMz1RZ7IQEmhBAXpa32eF+oNReo03D36J5MHRaHyaAFjYbsDcco\\\n",
              "qLCTFGmiZ2Qw7soSdr3wS56t/ZXasHF/01db3YkSYgoJMCGEuAgz0hKYO743dleDWoW9tbmAZ1fl\\\n",
              "8tbmAobGmwGo93iJCzfy8e4Snl2VS/aGY+oxxvbpxpBILfXvPMsL9t+06jasooosslqF2Nj0jDYn\\\n",
              "dnQ1EmBCCHGRdhyv4uU1eTyybGdTiHkB+HBXCbcMimHu+N7MHd+HEUkRfLT7RKv3f36gDFOYmQcG\\\n",
              "PNwqvLQhEQy6bwG1IQEtQiyDDHqMvJXIyMg2z+lCJ39cDaQLUQghLsJ7OUVsOnIagE1HlMaMe8Yk\\\n",
              "s/KbUo6W23jlyzyW3DeSSpuLGa9vpqDCjkkfgMPTiFfJOU7W1JO9MZ/h910H3q/J3vF7NbyGz1lI\\\n",
              "xsihBEbEcnjJ/5FVmUUGGeRP7cYHf194zvPy7TH7WXrKZf976EgSYEIIcRFmpCVQYXORU1ABaKio\\\n",
              "Uyqe7LvTeGrFN1Q73Cz45ABOdyNHy20E6jTY3Y3EmoM4Ue1scaydhVXsnNCPAck/Ytt/32f0QwuJ\\\n",
              "SerN8pxi0HUj9PbfY/v3rxn60FD+/cwz6vsqbS7eyyliRlqCulHat8es+eSPq5UEmBBCXICzwyIi\\\n",
              "2IBRH8DOwmpACSGjIQDQcKLKSZHVwc7CKoINypWaeo9Sdp0dXloNNHghwWKEtJn0iE2nOjCCwvxK\\\n",
              "rkuOYGh8ONCLxu99yKyxg3hj/VE1nJpP/PBVW74N1V2BBJgQQlwA39Kc3eXBZNAxYUA0O45Xqc9f\\\n",
              "nxIJaHh5TZ76WGiQllpnQ7vHDNQFcMvA7uwprmFsn278Y2shWmMY1U4PAGU1Tn40MoGPd5fw8sYK\\\n",
              "cq372HTkTPPG2kPljOsX1SWqrbZIgAkhRDNtLcvBmSU5u6uBZ1flsvVYBZuOnOb6lEjSkiK4Z0wS\\\n",
              "VruLHccr6RUVwu5CK9+U1LQ4tq/aMurAoNdxbaKFj/acBOC2YYFcnxLJV0eVgDIbdRRU2PnDygMM\\\n",
              "iQ8HYECMmRv7tAyss8+zK5EAE0KIZtprgvAtzfm6DR3uRobEm7lnTLL6PrurgU1HKrixTxSrD5Sp\\\n",
              "7zXpNYQZDTQ2ejlV58LhAYfHw+amsLKY9KT3jWLrsQqiQwMpq62nZ2QwoYE6np4yAIvJF1DeFoHV\\\n",
              "VZYK2yNt9EII0cyMtASenJR6zmW5b4qryd5wjG+KletfvtDLKagkc2wv7C4P3UIC1dfb3V5O1tRz\\\n",
              "qs5FUqSJ4YnKHjGnp5GIYD1v3jOCV77M4+v8Sspq69XfodFo+Hh3CQAmg5aX1xw5533FuhqpwIQQ\\\n",
              "opnzNUG8l1PE2kPlpEQFs/ZQubrcuPVYBWsPlWPQBbD2UDmZNyaj02o4XFZLXX0DwxPDSetpwWjQ\\\n",
              "kd43ij98sp/CCgdOTwPvbjvOwzf1odrhprjSTkCAhthwI5uOnGbTkdPqNbetxyqYMCD6Cv5tdG6d\\\n",
              "KsCKioq4++67KSsrQ6PRkJmZydy5c6msrORHP/oRBQUFJCUlsXz5ciwWS0efrhCiC2p+K5RXvsxj\\\n",
              "woBoIoINvDhzGO/lFDEiKQKAH41MxGjQsrOwiiCdht5RIaBRmjx2HK9UuxcBlu8oIaV7KGajnp1N\\\n",
              "7fi9u4eQObYX+0uqGZEUwR9WHmDtoXJG9SojJT3kyn/wTqhTLSHqdDpefPFFDhw4wNatW1m0aBEH\\\n",
              "DhzgueeeY/z48eTl5TF+/Hiee+65jj5VIUQX5avQthdUsvZQeYtrXQCf7Stl7aHypqU/DQBOj5fl\\\n",
              "O4r5fL/SsDEgxkzmjckMiAklLEjHzGvjmJGWwMM39SHBYmR4opnf3jaIyGADXx2t4JUv81h7qJwb\\\n",
              "ekdid3m6xJSNC9GpKrCYmBhiYmIACA0NpX///pSUlPDRRx+xbt06AO655x4yMjL44x//2IFnKoTo\\\n",
              "6ppvGD5aXkfmP3I4Wm7jht7dml6hUToTbS5WHyzD64WCCjvj+kXxPxnKEmVkSKB6HF8TSJHVwexR\\\n",
              "PbGYDNhdDcwd35upw+IY1asMu6uBl9fkYTLounwDB3SyAGuuoKCAXbt2cd1111FWVqYGW48ePSgr\\\n",
              "KzvPu4UQ4vJqfq3sF8t3c7TcRkpUML+9baB65+WIYAO/mzaIOIuRZ1flMq5fFC/OHEZEsIE31h9V\\\n",
              "ux3tLg8vrzlC5o3JPDkplQkDotVNyk9OSiUlKoSU9BAqbS5MBm2X3fd1tk4ZYHV1ddx+++38+c9/\\\n",
              "JiwsrMVzGo0GjUbT5vuys7PJzs4GoLy8/LKfpxBCADw9ZQBwgKenDFDDprnm1VrzkU92lwe7qwGr\\\n",
              "zd30Sg0/S0/hjfVH29yk3JWmbFyIThdgbreb22+/nTvvvJPp06cDEB0dTWlpKTExMZSWltK9e/c2\\\n",
              "35uZmUlmZiYAaWlpV+ychRBdW0pUCEvuG9nu8+0FzzfF1U3XtpRlR6NBC7QdeKK1TtXE4fV6eeCB\\\n",
              "B+jfvz+PPvqo+vjUqVN56623AHjrrbe47bbbOuoUhRDiO/Hd7uStzflqlfXb2wby5KRU7hmTBJwJ\\\n",
              "vHOFV1e6bUp7OlUF9tVXX/HPf/6TwYMHM2zYMAAWLFjAvHnzmDlzJm+++SY9e/Zk+fLlHXymQghx\\\n",
              "cXybnueO76NumI4INnzr1viudNuU9nSqALvhhhvw+m6Uc5Y1a9Zc4bMRQohLo/l8xUu1PNiVbpvS\\\n",
              "nk4VYEIIcTU6u1q6FBWTNHRIgAkhxGUn1dLlIQEmhBCXmVRLl0en6kIUQgghLpQEmBBCCL8kASaE\\\n",
              "EMIvSYAJIYTwSxJgQggh/JIEmBBCCL8kASaEEMIvSYAJIYTwSxJgQggh/JIEmBBCCL8kASaEEMIv\\\n",
              "SYB1MhUVFd/qcSGE6KokwC6zBpub2vXFNNjc53xdyaIS5j8+nyFDhnD48OEWzx3cvZ/r+47mje+9\\\n",
              "cTlPVQgh/IoE2CXSXlDZc8qoXpWPPaes3feWLCoh7+d5xL0Qh/2EnXHjxqkhdnD3fqalT2Ne5VP0\\\n",
              "+7wf2ZOzL+vnEEIIfyEBdomcHVS+QAsaEIF5UjKmtGj1tWeH3dKCpRRQQBJJLGShGmKffPIJPxj/\\\n",
              "A56s+SVJJFFAAU+seoIn7330vBWdEEJc7TRer9fb0SdxOaSlpZGTk3PFfl+DzY09p4ygARE4D1TS\\\n",
              "YHNRt6GEwN7hRMxKRRusV19bu76Y6lX5mCcl4xpkZMjgIdhL7SxkoRpUWWQBtHqsiiqiQ7qx9Z0v\\\n",
              "SZo6+Ip9PiFE13Cl/+38LqQCu0S0wXpC0+NxHqikelU+rqJaAOqPVGFdfgh3uV2tukxp0ZgnJRM0\\\n",
              "IALDPgcfz3+bwBAdWWSpldjipq+zwys2JpZPX/uAhPGpHfyJhRCiY0mAXWK+cNLHhwKgjQzCechK\\\n",
              "9cpj6hLj2WGX4Irg34/9naAwPVlkYcWKpenLivVMeMXGsnbdWobPHtuiohNCiK5IAuwS84VTyMge\\\n",
              "BPWzEDGzH+ZJyZin9CJ0fCINNhfVXxzHXW7HU+VAY9Lhyq8hwRHBcxMfO+exs7Oz6du37xX6JEII\\\n",
              "0blJgF0mtu0ncR6yUvGvAzTYXASY9AQYtNRtKKF2TSHVK49h23ISr92DxqjjRIKDBf/NZiEL1crL\\\n",
              "V4ktZCHhhJOZmdmqxV4IIboqCbDv4Fx7vOoLqgForHZTt6FEbfDQJ4cR0MOEq8yGcWgUAZZAjpbk\\\n",
              "c9e8B3my9mn1mtf9TV9tdSdKiAkhhATYd1K3+QTVq/Kp23xCfcwXaqBRHggMwJAcRtCACOq2ncSd\\\n",
              "X0PjSTuNVS7cJ+qo723gJ+/8iifrnm7VsFFFVYvGjuYhJpM5hBBdnQTYJeYLNUNcMEH9LASPjMGV\\\n",
              "X0PVR0dx7C1v8VqvRoNZG8zDSXNahVePsCj+OecvrboTM8jgzrTbCGs0tvn7L3TyhxBC+DsJsIvU\\\n",
              "YHPjdTcQmGImqK9FDY1GVwMA7lIblpn9CBnZA12UkfojVTRWuVoe45Qd+9aTzP7TdA6k7W6xz+v/\\\n",
              "/ejPTBw6lvfnvKaG2Mu8TJ+pMTzSfxbVK4+1eV4XMvlDCCGuBhJgF8meU0bdhhLqj1Zjff8w1avy\\\n",
              "sS4/hKZp5dBVUEvd5hM4D1TiKXeATvmr1hi1rY7l2HuaHz6QwX3XTyM6pBvLZ71Mr7gk9NHBDLx+\\\n",
              "KMtnvYwxMpChvxnK/L+/QFA/C+Ypvdo8L18bf/PJH0J0dm0tiVudVl7Z9ApWp7UDzkj4AwmwC3T2\\\n",
              "0pwpLZqQsXFoLYF4yh3qfi93SR365DAAbDvLcJ2og6AA8DSCVoMmxACmliHWWFWPq6CWX0zM5Iv7\\\n",
              "l9CreyI4GrBtLcVT7qRXRAJrf7mcXz3+S/RRJrrdN4gAk57qL45T/cXxFsuFvjZ+2ScmrgSr08qS\\\n",
              "fUvaDJlzPeeT9+c87rj3DgYPHtyiOcnqtPLQuw/xu1t/x8KJCy/LuQv/JwF2gZovzTXY3NRtPoG7\\\n",
              "pI4Gaz0A2jADgSlm6o9WE5gQSkCwjkZrPY495eBsVA7S4KWx3AH2hhbH1loCCb4xjvCpKVjCwsGj\\\n",
              "TPfSRgQRdnNPAlPMBJdpqNt8Qg3Sus0nqF1TSO2aQlkuFB3mwyMf8tKOl/jwyIdAy9A613OgDLEu\\\n",
              "ySrhlrduwVHqaNFh+/rq1/li7hc8X/M8N228SYZYizZJgJ2lvSaI5ktz9pwyatcUKmGVYiawdziu\\\n",
              "/Br0cSEE9bPg9UKjzQOBmjMH8P1Rr1H/rAkMQJ8QTFCqhQCDFvv2k+BWwktjNtBQ6aT2y0L0cSHq\\\n",
              "YXxBChA6PpHQ8YmyXCg6zLTe03j02keZ1nsacCbQ7ll1D8O7D2/zOV+gnWuI9VsPvMXzNc+3GGJ9\\\n",
              "24O3yXKiaEGG+Z6l+aDd0PT4Nl/jq8AAQsbE0mh3U73yGNruJmwbSwgdn0ijqwHblhNqNaWLNuHV\\\n",
              "aWgosyuPBWgw9DHjOlSlHlcXF4yn1AaNoE8OQ2vQ4jxkJXR8IgEGLUEDIrDvLld/rywTis7CV3Fl\\\n",
              "JGQw98u55NfkkxyWzFuT3sISZGnxmmm9p9Foa2Tw4ME4Sh0XPMRaF67jpf+8xMM3PNyRH/Wq50/D\\\n",
              "fHUdfQKdja+aOV9VowZKThmNrgach6wEehoJHZ9IyJhYKpflquEF4CmzozHqlMc0QKMXV56y2Rmj\\\n",
              "lsC4UOqPNIWZPgBDDxMhY+II7FWJKS0abbCe2vXF1K4pxDwpWcJLdCq+6srhcZCekE5DYQP5Nfks\\\n",
              "y12GUWdkWu9pWIIs3DfoPgDy6/NJ/WUqG5/eSFZVlhpYi1kMgAVLi/CKiYnh4eyHmZ02uyM/puhk\\\n",
              "JMDO4muCaE+DzY11+SGch6zUH6tSK6Sgfhach6wYkszYc8rQRQVRf6TpTTrAA8aBEdQfq8GQEIqr\\\n",
              "uJaGCifoAzAOiCQsI4G6zSXYd5fjdTRg23KSAJMBUPaWhYyJJWhABPXHqggaEHH5/yKE+BZ8y4SV\\\n",
              "zkqW7l/KvQPvJSIoAofHwUs7XmLzic1c0/0aZqXOwhJkYcHXCygPKSf1qVRyF+SSVZXFYhZjoala\\\n",
              "O3uI9dq1MgdUtCIB9i3Zc8pwHrIS1M9C6E2JAJiGRREwJrapwcNF9ZpCgm+MI2RsHM6jVTTa3ASl\\\n",
              "WNAYdegignDsKSdkbBy2Xafw1rpx7DiFoXswASYDXofS4GFo6mSsXVMIKBUfoFR6vSrRp5s64NML\\\n",
              "0TZfdTV/63wAVuWvYlLyJKb3mc6+0/vYWLKRraVb1dc7PA4ABvYfiGGOgWPPtr2vEWSItWifBNi3\\\n",
              "1HyJ0RdmvmU+AN8VxQCDlpAxsdh3lNFo8+D4phyvW+lGDOpnQaPX4q1tahTRKMdrPpLKkBBKyJhY\\\n",
              "vO4G3CV1GJLCcB62StOG6HDNr2X5rm/55FnzACizl7F0/1IigiKYf8N8Fu9bzPaT2/nXwX9R7VKW\\\n",
              "zs0GMzv376T29doWQ6wBdYh1FllkZmZKBSbaJF2I31LzfVZndyZWr8pHo1ECyjQsSrk+ZvOg0Qfg\\\n",
              "dTcSYAnEkByGeUovTMOi0PYwgU6D5Uf90AbrCRkTS2DvcEAJQntOGRq9lvqj1dR+WahWY75WfiE6\\\n",
              "gu961y83/VLtCvS1yCeGKasSUcYo0qLTyEjIACC3Mpf9FfupdlUTHhjOqB6jOFV4CusCK89an5Uh\\\n",
              "1uKiSIB9B74wa7S7ceZZCb4xDo1e6Rx0HqhUA677I9cQ1M9Co7UeV34NzgOVOA9U0nDSjvnmJIL6\\\n",
              "WJoGAEPErFTMk5IJMGjVdnnf/cTMk5IBZFSU6FDTek/jxrgb2ViyUW2JX5a7jJd2vERhrfI/WSnm\\\n",
              "FHLKcliVv4qHv3xYXT7Ua/SMiRlDgjaB2j/WtmiVP98Q6+FjhrMzf2eHfW7R+cgS4iVQvfIY9Ueq\\\n",
              "0Gg1hM3sR4BBq3YO+hpCLDP7qUuEzZcATWnR1KwrwraxBE+dC8utvQhNj8ddbsddXItpWBT6KOV6\\\n",
              "lz7dRIPNrR5fiCvN6rSyLHcZKeEppISn4PA4WuzNOmk7yb0D72VC4gT03+g5WXeSPeV71OfdXjef\\\n",
              "FnwKwL397yVpc+tW+VlPz2L5guVkVZ7pTswgg69u+Iq/H/07rya/2uZ5tbesKa5efhNgn332GXPn\\\n",
              "zqWhoYGf/OQnzJs3r6NPSaXMJTyGeUqvdrsYtcF6zDf3bPGYb+nRVVwLoOwBa+I8UNlmw8b5uiSF\\\n",
              "uJw+PPIhr+15DUCtwvad3sfjIx7ns/zPyK/J52jVUSKCIthYspH4EOW/VX2AngZvA43eRvVYeU/k\\\n",
              "Uff7Ot7OeVsNr+R5yQQODuSBVx4g+6FssqqyyCCDxCcSiZkQw+MjHm/3vF7a8RKA2qovrn5+EWAN\\\n",
              "DQ089NBDfPHFF8THxzNixAimTp3KgAEDOvrUANT5hN9G83b84Bvj0Bq0LQb0nm8/WoPNjT2nTK30\\\n",
              "hLgSpvWeRqWzkr3le4kLiWNUj1FsLNnIiB4j+P31v+eJjU9Q6awkvyqfoVFDKaktASA9Lp29FXup\\\n",
              "qq+ivkEZv3bIeohDPz9Ezy96Uv9ZPTf+/kZs4Ta2lm5lVMwokuclU/J8CX3/py9//MMfAaXSenW3\\\n",
              "UoH5WvJ959X8u+ga/CLAtm3bRu/evenVS/kH/o477uCjjz7qNAH2bfiCx7f5OaifhbCMhFYhdL5K\\\n",
              "q8VIKanIxGV09vJcRFAEO07tYMepHaRFp3HvwHtxeBysLlxNSV0JJXUl7K/Y3+IYG0s2Ut9Y3+rY\\\n",
              "o3qMwvFjB/Wj6zkVfAqPy0NyWDJPXfcUeGHTbzfR8/qe6jk4PA61AjTqjGq11XyTtOg6/CLASkpK\\\n",
              "SEhIUH+Oj4/n66+/7sAz+naaV0u+4Akdn6h2MF5MBXWhE0OEuBDnuobUfMoGKHu4ro2+lh1lO8gp\\\n",
              "y0EXoGNr6VbSotMAiDZFU+4ob7Fc2Dy8tBotvcN7E6QLIjUylV1lu9CF6PB4PYTpw7gu5jpW5a8i\\\n",
              "NTKVrSe3tjiHOUPnMGfoHECqLeEnAXahsrOzyc5WplaXl5ef59VXTvNqqXnwfJelP7kWJi6lc11D\\\n",
              "8gVF8+pnztA5DO42mNzKXJLCkthaupVB3QYxoscIVuStUMMrWBeMzWNDi5YGGggggOtjrmfDiQ0A\\\n",
              "7Cnfwx397uBY9TFq3bUkhyfz7qF31d/x6LWPkpGQwar8VcwZOqfFsqEQfhFgcXFxFBUVqT8XFxcT\\\n",
              "FxfX6nWZmZlkZmYCykDKzuLs0JLgEZ3Nua4h+ZbnrE4rDo+D3MpcJiVPYl3ROraWbuWa7teoU+eX\\\n",
              "5S6jzH5mi4fNY8MSaMFar3QqNtLI12XK6klMcAzTek/D6rRS665V33PvwHsx6oxqWC3Zt4TX9rzG\\\n",
              "o9c+KuElWvCLfWAjRowgLy+P/Px8XC4X7777LlOnTu3o07pgcpNJ0dn5Qup8AXG06ihbS7fy/Pbn\\\n",
              "yUjIUJfzMhIy1GtULY4baGHBDQsYFTOKH6T8gMTQRLWJ43tJ3+PBYQ9SUF2gvn5P+R6MOiOg7C2z\\\n",
              "Oq2tbtkihI9fBJhOp+Ovf/0r3/ve9+jfvz8zZ85k4MCBHX1aQnQpHx75kI0lG0kOS2ZjyUbWFa3D\\\n",
              "qDPy2p7XeH7787y04yWMOiN39LuDyKBItBot1norbx14i9SIVHqE9GDBDQtICUshQBPAxuKN5Ffn\\\n",
              "c8/AewjUBgJwbfS1ALy25zVe2/OaulFaiLb4xRIiwOTJk5k8eXJHn4YQXZavAhrefThvfPOGOiZq\\\n",
              "+8nt/Dj1xwBMSp5EeGA4/y34Lw3eBnQapcHDN4lj3+l9HK05CsDR6qM8v/15ALUqG9xtMLNSZylL\\\n",
              "lRW5DO8+nF9u+iUbSzYCssdLtOQ3ASbE1aqiooLIyMgWj9lrqvnq439z/dQfYAozd9CZteRbZlyy\\\n",
              "b4m69wuUFnl3o1tt5DDqjFjrrRi1RhwNDtKi0/B6vQyOGsz0PtMJ1YeypnANSeYkdWPy8ZrjFNYW\\\n",
              "YtQZ1Vb9rSe3ov9Gz8aSjYyKGaVO/ZDrYMJHAkyIi2SvqWb/utUMzJjQImTae/zs9+5+fCOfB27j\\\n",
              "bx+8qU5b9733SH4+T8x7nof/XMjjOb++Uh/pgjSvxP66+6/cO/BeALXK8j3v6x7cVbaLrWVbSU9I\\\n",
              "J9mczLzr5pEamUpGQgbritYxrfc03p78ttrG72sWmTN0DpOSJzGixwi1A7L53i8hJMCEuEj7161m\\\n",
              "wztLABiYMUENreaPj5h6O9A61HY/vhFXdghJ9MKOMm197dq1VOfu5YPXX+G9zcf5nfOPJO1IInty\\\n",
              "NpmfZnbY5zybrxJ7cPWDbC3dij5Az/wb5hMRFNHqzstGnZGtJ7dyY9yNarD5Wva3n9zOxpKNbD+5\\\n",
              "nfk3zFc7HX1Lho9e+yjJ5mSSzclYnVb1zs5C+EiACXGRBmZMUL/7Qqvgm11079mLUT+cpT4PtAq1\\\n",
              "zwO3kUQvddp61oksxo0bxyt/Xsh7m4/zq+rfqFPan1j1BNtnreblN/7WaZYTAXX57/ERj7c7CaN5\\\n",
              "e37zsU8OjwOHx4HdbWdjyUaW5S7jwWEPqo0izQMPZNKGaJsEmBAXyRRmZsTU27HXVON2OkkcNIzC\\\n",
              "vbsp3Lub5Gta7kNsHnYVFRVkv/93HDjUaeu+EHtg5s/Ux5pPaV/+0cfMvHUyN8++twM+aduSzcm8\\\n",
              "OqH1ZPjmzg4e38QPgKX7lzIqZlSL17cVeM3J1HnRnASYEN/R/nWr2fLBMtKmTAegocFD/q4cdn+2\\\n",
              "En1QkLps6Au73C8/4/HpU3hm8T/Icpy5ZchiFgPK3Yibh1dMTAx/+dWTXD/1Bx35Mb+Ts2cZNp+y\\\n",
              "4bsOBuevtGTqvGhO4/V6vR19EpdDWloaOTk5HX0aoguw11Sz+7OVlBw6SOG+3Yy+fRb6oCBsNdXs\\\n",
              "+M8KEgcP5dZH/g9TmJmv3nuHre8vA6C8to7X1m0lwGFkMYuxoFQUVqzcz/1UUUVsbKza4OHPluxb\\\n",
              "os4y9F3LupgKSiqwy8+f/u2UCkyI78gUZkYfFEThvt0EBYdwdNd2EgcMQdP0fOHePexft5pe117H\\\n",
              "wY3rAAiLiqZHn1R+WGtjxRyjCKsAACAASURBVKYj7R47Ozvbr8PLFzi+PWPfNXjkWphozi8mcQjR\\\n",
              "Wdhrqtn+8QfYa6pbPD4wYwJh3aNx2uo4dewIOStXoA8MZNQPZzF04q3kbdvCsl/9guqyUgKDg6kp\\\n",
              "L+NkRSXr9pazkIVYsGBt+rJgYSELCSeczMxMDh8+3EGf9rvzLfmtK1p3QaOqhPg2JMCE+BZ2f7aS\\\n",
              "De8sYfdnK4EzgQYQFhkFgFavZ+jEW+l3fToaLxTszqE0L5d6mw1jmJnw6FjKa+t4eekn/Kr6GbVh\\\n",
              "4/6mrwIK1MYO+wmlxd5fQ0zmGIrLSQJMiG/Bq2n5fdd/lUDb9d+VTPjpz7HExtPgdmOO6s6hr9az\\\n",
              "5YNlVJ9SprNrAgK4fuZdODyN/GvtQWWf11ndhlVUkUVWqxC7ftQoigryO+hTX7wLHRIsxMWQABPi\\\n",
              "AtlrqvE460kcPJSkIdey/eMP8DiVGX65m9YBcMdv/8ioH86iuvwU+zd+2eL93sZG1r71BjWFR7k/\\\n",
              "7s5W4RVmDOTnt95Mo9HRIsQyyOCamG6c/GZnu+fV1rKmEFc7aeIQ4gLtX7eanJUr1J8L9+7h2u9P\\\n",
              "xxIbj/VEMev/+Xemz3sGQ2AQWz9XOg31RhONHjcNbjeA+j1q7An+a/sXr598Tw2vZx64m2hzGMGN\\\n",
              "LrI37SCrNosMMrD8UMPjM37TYmP02ed19uQPIboCCTAhLtDAjAnYq6spPXoId1PlpQ8M5LbHnmb1\\\n",
              "3/6Ks66O1W++hsflIjgiEpfDgdthJ6RbFHq9AWtpiXosp62O3jNDufXIdfxn7Tqe+vEPCQuA0rxc\\\n",
              "+vZLJRP421c7GfBgP+Y/+xygVFqbl7+DVwPXfG+KOpWj+SZpIboSCTAh2nH2/EJTmBmT2UzJwf0A\\\n",
              "xPUfROqYdHI3r6e2soLqslJK83JbHafudHmbx+85ZDiTQ8301TcS3OCm6uQJLLHx3PbY03y55DVM\\\n",
              "BgPpA/qy/eMP1HFVWz5QKjtDYJBabfk2SQvR1UiAiS6vvenxvqU5t9OJPiiIXtdeh6veSVhUNDXl\\\n",
              "ZWh1WnI3r1c3Jod1j8YYEkp5YQGNHk+bv8toDker0xMaEYneEEhpXi7BgQbq7TZCu0VhMiu/P7bf\\\n",
              "AAr37uHU8WMU7t0NKBWW2+nEq5FqSwiQABOi3WtIvpBw1TvZ8M4Sig7sJX9XDmlTpnPq+DG69+yF\\\n",
              "u15ZSkwcPJTQyO7sX/eF+n5dYCCepud1QUaMISE0eDzUVZRTV1FObOoA4voPoqqsFFtlBZqAAEoO\\\n",
              "7mf9P//OLQ9mAeBx1hPbr78armNm3nlF/k6E8AcSYKLLa+8aUvP5hRovuOvr6dGrD8NumaKG3ujb\\\n",
              "ZzH2zvsYmDGBfz75v+p7NZoANbwAPE4HtU6H+nNY92g0Xig5uI/Qbsr+MWNIGOHRPUi/6yeYwsxK\\\n",
              "M8j7yxh7532dagq9EJ2FBJjo8i7kGtLJY3nk78ph1A9nqWOhfMt5va69jv3rVhMcFq5e7/J6GwkK\\\n",
              "DaXf6LGcLjpOg9vDySO59OiTiiEwiJvu/x8OfbUegNqm95QdyyNtynTW//PvpN/1E2nOEOI8JMCE\\\n",
              "OI/961aTvyuH5GvS0HhRlxv1QUFseGcJJw4dpHDvboZOvJUArRbryRO4HHZ6Dh5O/xvG8fW/32XY\\\n",
              "1O+z49MVaHUGCvftYcv7yxj9w1nYa2s4uGkdLruNuNRBnDp+lMK9ewDUZUQhRNskwIQ4D18F1Ova\\\n",
              "68jdvJ7Rtys3q3TU1lJ0YC9hUdEU7t2NKTSMpCHXqJ2Ihzavp+zYYapOllJVdhLriWL1mIc2ryc6\\\n",
              "uRfW0hJcdhsACYMGkzomnS8Xv05YVDSfvPw8hfuUBg7pMhSiNZnEIcR5+JYYj+34mq3vL0MfFIQp\\\n",
              "zMyxHV+TvysHvSGQ5GvS6Hd9ujpiKjA4BIC41EFYYuPJuOunjL59Fr1HjkGrN9BvTDoDMybQvWcv\\\n",
              "9XXXfG8KkXHxJA29hj2ff0Lhvt0kDhqG2+mUKRtCtEEqMCEuUIu7KpcUU7BnF9d+fzp6QyD5u3JI\\\n",
              "GDCYa743BUNgELH9BvL1v98lKDQU64liKooL1OaPm3/6EKAsTQ66aSIms1k99vaPP1Db9TVeZebi\\\n",
              "lqbQlCpMiJYkwIS4QM2bPT57dSGF+3aj1eu45cGsVnde3v7xB+TvyqFHrz5ql2Lzdn2308mWD5bh\\\n",
              "djoZM/NO7DXVfPbqQvJ3KTcSvH6G0i5vr6nGEBgkjRxCtEECTIiLkH7XT9TvbXUxNq/Wmo98cjud\\\n",
              "uOqdOGprAHC5lFb75o0izcNKpmwI0T4JMCEuQmRcPNPnPdPu8+0Fj68dP3HwMECZpQhtB97Z2psY\\\n",
              "IkRXJQEmxGXmCx6306lWWel3/YRjO75Wg+tCKi2ZOi9ESxJgQlxmvuAZ9cMzUztMYWYi4+K/1XFk\\\n",
              "Y7MQLUmACXEZNF/uu5DlwQsh18OEaEkCTIjL4OzlPgkeIS49CTAhLgNZ7hPi8pMAE+IykOU+IS4/\\\n",
              "GSUlhBDCL0mACSGE8EsSYEIIIfySBJgQQgi/JAEmhBDCL0mACSGE8EsSYEIIIfxSpwmwxx9/nNTU\\\n",
              "VIYMGcIPfvADqqqq1OeeffZZevfuTb9+/fjvf//bgWcphBCis+g0AXbzzTezb98+vvnmG/r27cuz\\\n",
              "zz4LwIEDB3j33XfZv38/n332GQ8++CANDQ0dfLZCCCE6WqcJsIkTJ6LTKYNBRo0aRXFxMQAfffQR\\\n",
              "d9xxB4GBgSQnJ9O7d2+2bdvWkacqhBCiE+g0Adbc4sWLmTRpEgAlJSUkJCSoz8XHx1NSUtJRpyaE\\\n",
              "EKKTuKKzECdMmMDJkydbPT5//nxuu+029c86nY4777zzWx8/Ozub7OxsAMrLy7/byQohhOjUrmiA\\\n",
              "rV69+pzPL126lJUrV7JmzRo0Gg0AcXFxFBUVqa8pLi4mLi6uzfdnZmaSmZkJQFpa2iU6ayGEEJ1R\\\n",
              "p1lC/Oyzz/jTn/7Exx9/jMlkUh+fOnUq7777LvX19eTn55OXl8fIkSM78EyFEEJ0Bp3mdio///nP\\\n",
              "qa+v5+abbwaURo7XX3+dgQMHMnPmTAYMGIBOp2PRokVotdoOPlshhBAdTeP1er0dfRKXQ1paGjk5\\\n",
              "OR19GkII4Vf86d/OTrOEKIQQQnwbEmBCCCH8kgSYEEIIvyQBJoQQwi9JgAkhhPBLEmBCCCH8kgSY\\\n",
              "EEIIvyQBJoQQwi9JgAkhhPBLEmBCCCH8kgSYEEIIvyQBJoQQwi9JgAkhhPBLEmBCCCH8kgSYEEII\\\n",
              "vyQBJoQQwi9JgImLUlFR0eoxR52LL9/fjaPO1QFnJIToaiTABKCEz87Pj58zfBx1Lrb+fC/PzP0d\\\n",
              "Q4YM4fDhwy3e+8nbG7nv7uksuum1K3XaQoguTAKsi2kvqA5uLmXLiqMc3Fza7nv3zDuEc1EFSX9J\\\n",
              "xH7Czrhx4zh8+DAHN5fy4eJ1zHtyDr91/Jq07UPJnpx9uT+KEKKLkwDrYpoHlaPOxbb/HOOrD/Kw\\\n",
              "17oYcWsS/cfEAG0H3Wfaf1NAAUkksZCFaogV1OziX5/P5+mqp0giiQIKeGLVE/zyqV911McUQnQB\\\n",
              "EmBdTP8xMYyenkLy0G6sXnqA7Z8UsPuLIvZ8UYQuUIsxxAC0rsgqKirIfu8NsshqFWIPzLiPp61n\\\n",
              "wiuLLKqo4m/Zf2vzWpkQQlwKuo4+AXFlGUMMDJ/Yk52fH6dwXyWxfcx4vRAZF4y7vgFrmY38PadJ\\\n",
              "HtoNUALPWmZj83tFLPjfbP73t/eQZc9iIQtJIonFLAbAgqVFeEVFRrP6i9VERkZ25McVQlzFpALr\\\n",
              "ovqPiSHt1iQCtAGUHqmmpsJJzicFrF92iC0rjrJ+2SH6j4nBGGJgw7LDFO6rxHMylEe+/yKE6Mgi\\\n",
              "CytWLE1fVqxqeMXGxrJp8waGXDOooz+mEOIqJgHWRRlDDOgDtRTnWgntFoSjtp6YPmYs0cEAlORW\\\n",
              "cXBzKdYyG9XlDgDCogLp26cvd9yQdc5jZ2dn07dv38v+GYQQXZsE2FXuXO3x/cfEENPbTO1pJ+XH\\\n",
              "bZTmVRMUomfErUkMTI+l6EAla/+ZS22FE4NJS/lxG5XOEj7btJiFLFQrL18ltpCFhBNOZmam2mIv\\\n",
              "hBCXiwTYVa6t9nhfqAFoNMpjWp2GQemx9B0ZjS5Qi/WEjeJcK7WVTuJTLZijjJRVFfHiov/jN3VP\\\n",
              "qw0b9zd9tdWdKCEmhLicJMCucr5rXZ76BrUK27u2mC0rjrJ3bTFRSWEANHi8GEMMbHovjy0rjnIi\\\n",
              "rxqAusp6eqSYCYmBtz7+Lb91/LpVt2EVVW12J2akZ0gXohDispEAu8o5bW6O5JSx/ZMCVi89gKPO\\\n",
              "hbfpuUPbTpJyTRRptyYx4tYk7HUuCvdVtjrG8X2nCQu18GDqw63Cy2yK5NEfPY/XpG0RYhlkkH7N\\\n",
              "1Da7EC9k6ocQQpyPBNhVbtN7eVSVOQgK0VG4r5LVSw/Qd2Q04dFGasqd5HxawHXf78XgcfEUH7AC\\\n",
              "EBSiA82ZY5Qfr2PPF0X0+fFYvr5mV4vweuqevzJ58mSeuuuv6CwGssjiZV4maFI0ry55sc1zupCp\\\n",
              "H0IIcT4SYFe5G2b0IT7VQs8hkZijjBTuqyR/z2kmPziEmD5m6u1uNn2Qx7b/5FNd7kCr0+Cs8xAc\\\n",
              "bmh1rNIj1YSMHMr3p80iPLgbv/7Jq/RJ6UPu5pME0505E/+EPiKQob8ZyrJPX1c7Gs+uuHybqX1T\\\n",
              "P4QQ4mLIRuarjKPOxcHNpeoeLkt0MD1SzOR8UgBAfKqF5KHdyNtWRl1lPbUVTsqO1aILUkquBo+y\\\n",
              "wGiztlze0wcF4HY2EhoZxPiIOxlovpmQgAhO5FWrm6E5Ai8+uowpPxnJzs+PqwG1eukBdWly+MSe\\\n",
              "6mZqIYT4LiTArjK+5Tl3fQP6QC3JQ7tx8mi1+nyPFDP5e06zvSnQALR6DR6nt42jKXSBAYRHm3DW\\\n",
              "eUgcFMH+9ScICTLjdjQAUFdVz4T7BpDzaQGF+yrZ9F5ei2tphfsqSRwUIRWXEOKSkgDzU2dXWj6+\\\n",
              "kPDUN7BlxVFKDlspzrUSlxpObEo4fUZGc3hbGcNuTgAgb3sZtioXAVpobGg6iAbwQoAedDotOr2G\\\n",
              "8uN1AJhCDAy7OYG8HaewVdYTaNKq19Im3DuAg5tLSR7ajfy+p1sE1tnnKYQQ35UEmJ/yVVpAi+U4\\\n",
              "3/Kcr9vQ42qge88whoyLB84s542ensLwiT05vO0koISXMUSP1hBAo6cRe42bRje43A24lEEcxPYx\\\n",
              "0z05jE3/L48gkw5bZT3Jw6Kw17i4YUYfjCEG+o+JaRWsslwohLgcJMD8lK+6Odey3KnjNeryHSih\\\n",
              "V7ivkvBoIzG9zez8/DjB4UHYq90AOOrc6nvNUUaCQnSU5dcCyrWziT8ZyIrnd6ijpQCCgvWEWoI4\\\n",
              "vK2MIePi2w1WIYS41KQL0U/5Kq32luWah1Xhvkq1KkocFEFVmYOcTwvYsuIosX3DieoZSkDT/8rE\\\n",
              "9jEzKD2W0Mgg0m5NJrpXKMZQHWUFNXy1Io8RU5LR6pWGj9DIILzA9k8KyPmkQF0+TBwUoU6z92dt\\\n",
              "bsK2VVDx6QKwyQZtITqaVGBXKV9lFtPbTM6nBSQP7YYxxKBep4rpbQZg4A2x6A1ayo/XotVpCIsK\\\n",
              "oqrMQXGulTqrk6qyM9XWoc1lOGrcNLiVho/aCicGg5ZhNydQXlRLTG+z2sCR3/c0lonBV/6DgxIu\\\n",
              "u9+GYbMhOPL8j5/13pJfrWJpQy6vvr+EtWvXnhlMbKvg8Gt3ctsz28gaXEfmlgWX/7MIIdolFdhV\\\n",
              "ylehlR6pVvd+NXd0VzmF+yo5vK1M3bPc4PGSu7mMBk8j8akWbrqnP0NvTiAyPhi9UUu/MdHcMKMP\\\n",
              "w25OIKaPmWE3JzB4XDzGUAMluVVqF2J8qgV3s9FVV9zut+GLXyvfbRXw1ctnwsv3uE/z54GSX60i\\\n",
              "b2E8cX/p3Wqm4+GPX+K2Z7bxhO0l+m6dSPbk7I74dEKIJlKBXeWaXyuzltn49NVvqCpzEJ9qAZSG\\\n",
              "w8Hj4nHUuSnYexqv10vpkWpGT08hplc44d1NmEIN6nEObi5Fb9BSmldN0mBlmdBT30DarUn0HRlN\\\n",
              "ft/TeOob2P5JAfpAbcdcBxs2+8x3X2gdXQs9BkH6vDPPw5nnAa6fy9KGXOLwqDMds05kMW7cOLKz\\\n",
              "s3nsf9/nCdtL6jitJ1Y9wYn7V/DMK++0X9EJIS6bTleBvfjii2g0Gk6fVioGr9fLI488Qu/evRky\\\n",
              "ZAg7d+7s4DP0L82vlfnGSoVHGxk7qy+jp6coFVSIgfRZ/RicEY/N6mqxZ6v52KdvmoYAu1wNjJ6e\\\n",
              "QvLQbqxeekANK0t0MMMn9mTwuPiOnbQRHAnXz1X+7LJBrww4thY2vwInzvrvZ9hsuPl3MGw2FRUV\\\n",
              "vPrem20OJp49ZTZPnHqy1SzIv73/ORXr37jSn1AIQSerwIqKivj8889JTExUH1u1ahV5eXnk5eXx\\\n",
              "9ddfM2fOHL7++usOPEv/dcOMPmwijxtm9MESHdzqGlXzas3XHNJ/TAzu+gY89Q04m5YENSgdhjs/\\\n",
              "P97mJuVOM2lj99uw/o8w+hHl5wY35H0O294AQ/CZa2HXzwVbBZHfZLP24T6Me3YTWbVZLGQhSSSx\\\n",
              "mMUAWLC0CK/YmB6sffF+ItN/1oEfUoiuq1NVYFlZWfzpT39CozkzSfajjz7i7rvvRqPRMGrUKKqq\\\n",
              "qigtlSGwF8MSHcz3fz5MnVF4trM7G32bpTUonYa+hg69QQucmWk44d4BnXOTsq+60njh2DqIG678\\\n",
              "7HYoy4Yf3H+mm3BbNqx/jr71e1h7jwlTaDVZZKk36/TdvFMNr9hY1q5bT99Z82X5UIgO0mkC7KOP\\\n",
              "PiIuLo6hQ4e2eLykpISEhAT15/j4eEpKSq706XU5jjoXq5ceYMuKo3iB0dNTWiw7wvlb+X3H6bBb\\\n",
              "p/iqK7dT+XnvB1B3GvV+MsfWKVVaeR7sXa48Ft6TvkNHkz0l6JyHzs7OPtOdKIToEFd0CXHChAmc\\\n",
              "PHmy1ePz589nwYIFfP7559/p+NnZ2WRnK51h5eXl3+lYXZ1vH1nioAiGNF0nA751a/wV29h8rhb5\\\n",
              "U/uV77UnYMtfIP0JpZnDbYNTebD2RvA4wBgBVcc5fKqex1ZFsJA/qJUXKEuIC1lIFllkZma2bLEX\\\n",
              "QlxxVzTAVq9e3ebje/fuJT8/X62+iouLGT58ONu2bSMuLo6ioiL1tcXFxcTFxbV5nMzMTDIzMwFI\\\n",
              "S0u7xGd/9Ws+X7Gt62EX40ImhlwS295Qrne5bDDuqZaB1n0gHN8MhlAYcgcMmgGHPwWXHfb8U3m/\\\n",
              "3gR9b+Xwl0u5bUl5i27DLLIA1GtizbsTJcSE6DidYglx8ODBnDp1ioKCAgoKCoiPj2fnzp306NGD\\\n",
              "qVOn8o9//AOv18vWrVsxm83ExMhU88uhecfhhSwPXohLdZzz07T8vi1buc61LRtMyigtXLVgSYB9\\\n",
              "7ynPbXml6S06SJlARXEuty0xtAqvqqavtroTx40aSsWhbZf5s/mPNqeXnONxIb6LThFg5zJ58mR6\\\n",
              "9epF7969+elPf8qrr77a0ad01fLbG03aKpRqqlcGpExQNia7bcpze5dDys3KsuHoR8BWruwJA9SL\\\n",
              "YV4P5H5MZMV2spKntwqv2FANKx9IUBs7fCGWQQY/HdJIZM7z7Z9Xs03S/shjtVLx5pt4rNZzvq5k\\\n",
              "UQnzH5/PkCFD1I3fPge2b2dMr2t54+ZFl/NURRfUqdrofQoKCtQ/azQaFi2S//CvhE7T/v5t7X5b\\\n",
              "ubYFoDUorfK9xkFEL6g8Bhv/BHe+p4SJb9MyoPz/W2OLQ2Xev5XsV6t44sgaNbzWPnkjfaMMrDVW\\\n",
              "Mu5tB1lVWWSQwdDH4nlm2FSY2M5IqbM2SXdmHquV6hUrME+fjs5iUR+vXrGCU8+/AEDkAw+0+d7C\\\n",
              "5/M49n8lxBGHHXuLpdUD27czLf02nnIsIGl1EtmTs8n8NPOKfCZx9ev0FZgQ5zVstlJd9RwD4T3P\\\n",
              "bFxOnaL82RQNSyZD6V4Ii4fgaOV90QMhuHvLY1UXkXnnF8y91ayE16PD6BtcC8Xb6NsvlbWzdZgs\\\n",
              "ToY+2Ydnnn9FCUZTBKxdAGufbVltNdsk3dn5gqp6xYoWVZd5+nS6P/4Y5unT1deeXZVlr3669dLq\\\n",
              "uHF88skn/GDCDCW8mk0v+b+pU89b0QlxITRer7f9W/H6sbS0NHJycjr6NMTl0FbHYfPqasRPlVBx\\\n",
              "OaDsG6Vd/tvoeT24HVQcySEywgLOaujWB360DFY9RsW+L4mcMBeCo1qOqwIlsDp5tdUWXwUWctNN\\\n",
              "lD33HLb1GzCNHo1p+DVYZs9uUZVVvPkmp55/ge6PPwbTpjFk4EDsZfVqk0tbjS/Nl2S763RseuEF\\\n",
              "+sz1v7+nrsCf/u3slEuIQgDtt8b7AsNlUyZq9J2sXAML7wlVx6EiD0yjziwrxo+EmhNQVwaNZ+55\\\n",
              "hj4Y3HbAq3Qodk9FbQI5sZNIU4ASXuE9ITlDaf6IHkLksXVwcp9S5YFyfi6b8l4/qLbaorNYiHzg\\\n",
              "ASrefBPb+g3oExOxb9mCfcsWHPv2ET1vHnVffol5+nS1Ggu56SbqPvyQ9+66ix/8+c9keS5kekkM\\\n",
              "Kx56iOS77+7IjyuuEhJgovNq7xqSLyRcduX5gk3Kda8xDyvB0mNQUzChLCFG9oHiZp2CepPyfIML\\\n",
              "8EKATrlmlvvxmdfEj4TyQ1BfDeZ42P435fH0J5QqK2EMaPVKeAZHKq37VwFfOHkqKqhcvARdz0Rs\\\n",
              "6zdQBtjWbwCUa2GRDzxA+St/5fSiRUTFx7M0IZF7S4rJcmWxmMVYUCq2VtNLZNuBuIQkwETn1Xyq\\\n",
              "fHPN5heCV1kqjL0GRv7sTOj5gmbYbFj2ozPv1WjPhJuvGmv0wJEvlD+HJ0H/qXBihxJeoMxQHPMI\\\n",
              "6I3K7wiOVJYs8z6HpBsg6upZCvNVYvX5+dQfPUq3OXNw7NiB8dpr8brceCoq8FitNFRVUbXyPwB4\\\n",
              "iovp06c3v3W5eLKkrt1jy/QScalJgInOq/lU+fac2KUESfo8Jbz6Tj6znNd3ctO9v87M1sTboEzc\\\n",
              "6HcrWI9B9/5KW33lUTB1gzvfVzY5H//qzHuKt0HKTcqft72hhFh74XqVqHz7bWzrN+DMPYR5yq3Y\\\n",
              "Nm5SlxQDjEaqV63Cc7wQXWwsBGg4joYXTzpZyEKZXiKuGOlCFP5r99tKePWZCHiVyuvwp8p1sfXP\\\n",
              "warHlcdihipLgsHdQRsIjkowWpTqydQNbvkTmKLAYYU1v1WCL+2nEKjctZqeY5Tjr39Omfax7Y3z\\\n",
              "39nZD5xrj1dd03JhQ1kZlW8uptHhwDR6NGHTp1P10ce4j+WjT0xEHxvLkWP5/M+aHfyy4Xm1YeP+\\\n",
              "pq+2uhPP3icmxMWSCkz4r+ZVkL1Sqcb6TlYeK9gE4YlKo4UpAlLGKeHjcyJHGS8FSgDam2Zn5v4H\\\n",
              "EkZA5ZEzS4hJY2Fk5pmuRntl09gqO4x78sp81svA+vbbnF70Ko12O1EPP0x9fj5lzz1H9Lx5hIy9\\\n",
              "kap/LYPgYMKn3QZ4sW/ZAhoNNDUuB99wPZ6xY3nk//23RXj5rnkBZJHVagRX+nXXsTsnh+iUlA78\\\n",
              "9OJqIBWY8F++JcbgSKXyyvtc+e77s86khNOgGajLiEHhyvfuA5UGj9GPKBuRU7+vNHOkfl8JxB6D\\\n",
              "lNf1HKOEV3AkhHRTWvIr8pTn3Da/nbThsVqxbdsOQKNTmdbva58veughIu66i+D0sWCzERAYRO3q\\\n",
              "Ncobm+26qV3zJY3/+AdzAie2Cq9oo5G3ZszEoKtrNb1kulZLwKeftnteFzL5QwiQCkxcLXzVWMIY\\\n",
              "WPeHM00XvkaLkZlgMCkV2r73oWirEkYpNykVWsII+P7LyjF2vw3X3HNmnxcoQeWr7vpOPjMM2E8m\\\n",
              "bZytesUKHNuVAMOr7O3qNmcO9QUFuI/lU7NyJbHPPYf17XeoXvkf3IWFoNeD+8w2hIayMuxlZUy7\\\n",
              "ZRD/2fIez5z4l7rPa0mPGPoHGliakMj9FafJqlGml/S+pZ7786NocV3yrPM63+QPIXwkwMTVwVeN\\\n",
              "vTNDCSatAaa93vrOy6AE2bF1SnV29kZkl63lVHtQJmysf67lkmFUUxekweSXjRzm6dNptDtodNhx\\\n",
              "HjyIfcsWgtPHEjZhApVvLm6qzjR4qqy4jxcSYDbTWF2NNj6OhuKW9+Orz81lYug+jiRbWF5Ux9K+\\\n",
              "/UgdPBiv20OSwcC/xk9g9tYtDM0cytNz56ojq9o7r+bfhTgXCTBxdfHNJZy4oP0uxubXzoIjz2xE\\\n",
              "dtmV61ug3LVZ5T3re5ML6ZLsJM6edaizWLDMvpOSR3+BfcsW9InKfi+v241p9GhlA/P27WhCQwFo\\\n",
              "dLvRhIaiNZpoaHVwDwHh4TwcGMiPtTosRiPO3bsB0PdKpseBA3x6880MnDtXbdP3WK2Uv/IKoMEy\\\n",
              "+0510ofveSEuhASYuLpE9VHmE55LW8Hja8fvNU75WW8689zIn52p5NpyrptpdhK+pblGu50Ak0kd\\\n",
              "GWXfsgVQGjLcJUnqCKmgYUNx7t6Dt7ZWOYDdjhdw+X5uJiDCQtgtt1D1r2WEa7V465S9YPqeicQu\\\n",
              "WED5X/4Cm7dQ8be/oYuMxDx9OtUrVnB6kXJniQCTUUJLXBQJMNF1+YLHZTvTjj9xgXJ9q3lYna/S\\\n",
              "6kRT59ubKu9bkmu0Ozj1/AvYtm1TRkb1TMR9vBCdJYKIu+6iqKgI+5YtBA0b1vLAvu7DZtfBAvun\\\n",
              "EhASQmDfvgQEBWEckYZjew4B5jD0iYnU792HbeMmTNcMx755C86DuWpgKkuYdkAjy4XiokmAia5L\\\n",
              "ndox78zUjuDIbz9ZoxNtam6vCaL50l2AyajMMRw5kpCbbqJm5SeAl5qVn+A+lk9w+ljcZaeUN2q1\\\n",
              "EBCAacQI7Pv2Qo1SgQWYzRCgxbE9B8d2ZfBr0LBhaIKCaKyuobGmpuk3e7HMnk2AyYjx2ms5bdAT\\\n",
              "ctNN6CwWoh5++Er9Ab7NqAAACI9JREFUtYirlASY6FqaL/edfS3sYnWia2Hna4LQWSzqEl7ITTdR\\\n",
              "9+WXgJfTi17FNGY03R56CMvsO8mfMVN5Q0MDNDRg37xZPUZAeDiNVVXUVyv75HRxcRiahv8CaIKC\\\n",
              "MKalYZ4yhbApU9SKsHrFCmzrN1A3ciSBsmQoLgHZBya6Fl/VtfvtlvvIrhK+Sqv58mFzHquVE/Pm\\\n",
              "cer5Fyh77rmmak1DcPpY7Ju3AF6qV6ygx69/RYA5DABNSAgAQcOGYho9moTXX8M0erRyQK2WoGHD\\\n",
              "6PHrXxF+548JCAvD63RS88EKQKP+Duvbb9Nod9DtoQdlyVBcMlKBia6lEy33dQRfFWQaPZrAlN4Y\\\n",
              "Bw3CMvtOLE3PeSorOb3oVbo99BAJb7xByWOPExASjDY0jMC+fah651/UDuiPafg1OPbuxVtXR90n\\\n",
              "n2Aa0B9deLi6dGhMSwO82NZvUDZEo+H0okV0f/yxdsNViG9LAkx0LZ1oua8jnGnmsHN60atqoKiT\\\n",
              "L7xntgycfu01PMXFzd6tPOc8eBD75i1qi70mNBTz9OlU/P3v6iuDr7sOy+w7UTYsewm+8QYc+/YS\\\n",
              "ctNNl/cDii5FAkyILqRlM4dJDTRf80fEA/crG5r/f3v3F9PUFYAB/IN14IgycQpWcEK5gPUfQUR0\\\n",
              "2wutNTGQGoFEEh5IxMREEv9F1EcfMGUkJvLggzE42WbsgzOWUKyJopszMczExGG3pJo2oQ0QqTCC\\\n",
              "gkh39oDclE1RJ/Zy2u/3AvRA+HrS9Ov9d+6r41e9z0cx3tODUF8fxMsJJG3ejCX79uFZQQHG+/ow\\\n",
              "+ts9LGv6FrqUFMTPmwcASPpqM5LLSvHX5cuYOr422t2NZz//guE1a9T/yy0x+lAsMKIYFH7B8Auv\\\n",
              "FyO/3sGiXbsQP2+eeqLFF7W1yPzhe/W42dQNLUe/+RrxSUkY/ukyUusPI2HFCgRbWpBcVqaW01Qh\\\n",
              "Lq6rQ2r9YfWsx6nT+AEuFUUfjgVGFOOmLmiOS/gUyxobp22ZAZNlN7ku4uS91cLHPi8vR/DsWTw9\\\n",
              "9x0mgkGkHTkCAJhvMuFZVxeSy0qRmJUFAEgMO42fJ3LQbGCBEcW4tGPH0P/q65uWcvr3dVsTg4P4\\\n",
              "+/lzDP54AaO/dwMAxv74Ux0f6ex87SnzXCqKZhMLjCjGJWZl4cszZ97rb8KXglq0axfikz5D2rFj\\\n",
              "6vjbrkd704ohRO+DBUZE72yqeOabTOpSUOGL8U5525YWb5tCs4EFRkQzCt9aCi+eD1kKirdNodnA\\\n",
              "AiOiGYWX1mwVD4+F0WxggRHRjMJLi8VDcwkLjIhmxNKiuYqL+RIRkZRYYEREJCUWGBERSYkFRkRE\\\n",
              "UmKBERGRlFhgREQkJRYYERFJKU4I9RasUWXx4sXIzMzUOoamnjx5giVLlmgdY87gfEzH+ZiO8zHJ\\\n",
              "5/NhYGBA6xjvJGoLjIANGzbg3r17WseYMzgf03E+puN8yIe7EImISEosMCIiktInx48fP651CPp4\\\n",
              "CgsLtY4wp3A+puN8TMf5kAuPgRERkZS4C5GIiKTEAosy9fX1WLlyJdatW4cdO3ZgaGhIHbPZbFAU\\\n",
              "BXl5ebh27ZqGKSPL5XIhLy8PiqKgsbFR6zia6OnpQUlJCVatWoXVq1ejubkZAPD06VNYLBbk5OTA\\\n",
              "YrFgcHBQ46SRFQqFUFBQgLKyMgCA1+tFcXExFEXBzp07MT4+rnFCmgkLLMpYLBZ0d3fjwYMHyM3N\\\n",
              "hc1mAwC43W7Y7XY8fPgQLpcLe/fuRSgU0jjtxxcKhVBXV4erV6/C7Xbj4sWLcLvdWseKOJ1Oh5Mn\\\n",
              "T8LtduPu3bs4ffo03G43GhsbYTab4fF4YDabY67gm5ubYTQa1Z+PHj2KgwcP4tGjR0hJSUFLS4uG\\\n",
              "6ehtWGBRZuvWrdDpJu9TumnTJvj9fgCAw+FAVVUVEhMTkZWVBUVR0NXVpWXUiOjq6oKiKDAYDEhI\\\n",
              "SEBVVRUcDofWsSJOr9dj/fr1AIAFCxbAaDQiEAjA4XCgpqYGAFBTU4MrV65oGTOi/H4/nE4ndu/e\\\n",
              "DQAQQqCzsxOVlZUAYm8+ZMQCi2Lnzp3Dtm3bAACBQADLly9XxzIyMhAIBLSKFjGx+rxn4vP5cP/+\\\n",
              "fRQXF6O/vx96vR4AsHTpUvT392ucLnIOHDiApqYmxMdPvg0Gg0EsXLhQ/QDI18rcp9M6AL2/LVu2\\\n",
              "oK+v7z+PnzhxAtu3b1e/1+l0qK6ujnQ8msNGRkZQUVGBU6dOITk5edpYXFwc4uLiNEoWWe3t7UhN\\\n",
              "TUVhYSFu3bqldRz6n1hgErp+/fqM4+fPn0d7eztu3LihviGlp6ejp6dH/R2/34/09PSPmnMuiNXn\\\n",
              "/TovX75ERUUFqqurUV5eDgBIS0tDb28v9Ho9ent7kZqaqnHKyLhz5w7a2trQ0dGBsbExDA8PY//+\\\n",
              "/RgaGsLExAR0Ol1Mv1ZkwV2IUcblcqGpqQltbW1ISkpSH7darbDb7Xjx4gW8Xi88Hg82btyoYdLI\\\n",
              "KCoqgsfjgdfrxfj4OOx2O6xWq9axIk4IgdraWhiNRhw6dEh93Gq1orW1FQDQ2tqqbsFHO5vNBr/f\\\n",
              "D5/PB7vdDpPJhAsXLqCkpASXLl0CEFvzIS1BUSU7O1tkZGSI/Px8kZ+fL/bs2aOONTQ0CIPBIHJz\\\n",
              "c0VHR4eGKSPL6XSKnJwcYTAYRENDg9ZxNHH79m0BQKxdu1Z9bTidTjEwMCBMJpNQFEWYzWYRDAa1\\\n",
              "jhpxN2/eFKWlpUIIIR4/fiyKiopEdna2qKysFGNjYxqno5lwJQ4iIpISdyESEZGUWGBERCQlFhgR\\\n",
              "EUmJBUZERFJigRERkZRYYEREJCUWGBERSYkFRkREUmKBERGRlFhgREQkJRYYERFJiQVGRERSYoER\\\n",
              "EZGUWGBERCQlFhgREUmJBUZERFJigRERkZRYYEREJCUWGBERSYkFRkREUvoH4n6YZLUc2ikAAAAA\\\n",
              "SUVORK5CYII=\\\n",
              "\"\n",
              "  frames[1] = \"data:image/png;base64,iVBORw0KGgoAAAANSUhEUgAAAbAAAAEgCAYAAADVKCZpAAAABHNCSVQICAgIfAhkiAAAAAlwSFlz\\\n",
              "AAALEgAACxIB0t1+/AAAADh0RVh0U29mdHdhcmUAbWF0cGxvdGxpYiB2ZXJzaW9uMy4yLjIsIGh0\\\n",
              "dHA6Ly9tYXRwbG90bGliLm9yZy+WH4yJAAAgAElEQVR4nO3de1yUdf7//8dwPigHERHBA4ogYmiJ\\\n",
              "h8wMUmw1v2i2ubb6XXe3pM3abanM2t0+WbumuZXrb9P9NH1rtd3KT7UmfTyWhW1bmVGZpRlkkDAi\\\n",
              "IQ4oZxjm98fAKIKnEmYueN65dZvhumbG10w2z97v63W9L5PdbrcjIiJiMB6uLkBEROT7UICJiIgh\\\n",
              "KcBERMSQFGAiImJICjARETEkBZiIiBiSAkxERAxJASYiIoakABMREUNSgImIiCEpwERExJAUYCIi\\\n",
              "YkgKMBERMSQFmIiIGJICTEREDEkBJiIihqQAExERQ1KAiYiIISnARETEkBRgIiJiSAowERExJAWY\\\n",
              "iIgYkgJMREQMSQEmIiKGpAATERFDUoCJiIghKcBERMSQFGAiImJICjARETEkBZiIiBiSAkxERAxJ\\\n",
              "ASYiIoakABMREUNyqwCrra1l7NixjBw5ksTERB566CEA8vPzGTduHLGxsfzkJz+hvr7exZWKiIir\\\n",
              "mex2u93VRbSw2+1UVVXRo0cPGhoamDhxIqtXr+bJJ59k9uzZzJ07l1/96leMHDmS22+//Zyv1bt3\\\n",
              "bwYNGtQ5hYuIdBEFBQUcO3bM1WVcEC9XF3A6k8lEjx49AGhoaKChoQGTycTbb7/Niy++CMCCBQtY\\\n",
              "unTpeQNs0KBB5OTkdHjNIiJdSXJysqtLuGBuNYUIYLPZGDVqFH369CEtLY0hQ4YQEhKCl5cja6Oj\\\n",
              "o7FYLC6uUkREXM3tAszT05O9e/dSVFTEnj17OHjw4AU/12w2k5ycTHJyMqWlpR1YpYiIa5WVlV3U\\\n",
              "9q7I7QKsRUhICKmpqXzwwQeUl5fT2NgIQFFREVFRUe0+JyMjg5ycHHJycggPD+/MckVEOoVljYVl\\\n",
              "i5eRlJREbm5uq325ublMTJyIebrZRdV1LrcKsNLSUsrLywGoqanhzTffJCEhgdTUVF599VUA1q9f\\\n",
              "z8yZM11ZpoiIS1jWWMi7M4+ox6OoPlJNamqqM8Ryc3OZOWkmS0qWELctrluEmFsFWHFxMampqSQl\\\n",
              "JTFmzBjS0tKYMWMGjz32GE8++SSxsbGUlZVxyy23uLpUEZFOt65gHQUUMIhBrGKVM8S2bNniDK9B\\\n",
              "DKKAApZsW8LSpUtdXXKHcqs2+kspOTlZXYgi0mWUlZWRlJRE9ZFqVrHKGVSZZAK02VZOOf369WPf\\\n",
              "vn2EhYVd8J9jpO9OtxqBiYhI+8LCwsjOziagXwCZZDpHYs81/7QXXtnZ2RcVXkajABMRcaHjVfU8\\\n",
              "/c4hjlfVt7rfnri4OF7bsoP6EG8yycSKldDmHyvWNuEVFxfXye+mcynARERc6JWcQpZvO8g9L+9l\\\n",
              "/fv5LN92kFdyCs8abO+V+hA4ZdE5X9NsNnf58AI3W4lDRKS7uSm5P+/mHSP7q1JyS04yLiaUKcMj\\\n",
              "nMH2bt4xquoa+LSwgrLKOk5+d5imretZxSrnyAsglFBWsYpMMsnIyNAITEREOlavQB9GDwwBwFJe\\\n",
              "y4f5Vh7K+oKyyjquGBDCf74+xqeFFQBs2Pkh/7zn1zxe/ZDzmNcvm3/a60488zyxrkYBJiLiYgsm\\\n",
              "xDCkdwAAfp7wn6/LML+bT953J52PsdWc4Ij5Ef5o/X2bho1yyls1dpweYl15ZQ4FmIhIJzvz+NYr\\\n",
              "OYUUHq8GoNbmeIzJBCdbfgE8/YNI63tLm/DqG9mPzZs3t+lOTCGFhQsXdukuRB0DExHpZC3Ht3Z/\\\n",
              "U8bQPj0xv/sNAd4e1Dc1OR/T3hm6H9x0OZ6vvseWQ49TTjmePXrx82XPcv31PyI7O5vU1FQyj2SS\\\n",
              "QgpxD4zo8icyawQmItLJxgzqRWiAN9lflbLti2IAPDxMBPp4nve57980CvtV0/DuGUbEzcvpEz2Y\\\n",
              "41X1ZBd78tqWHdh7+5J9lT+Dr/t5B78L19MITESkkz22/SDW6gYACq01eJigss52nmc5NNkhZOI8\\\n",
              "Bl/zY4YOiOSauHDueXkv2V+V8sC0YeR8/Clv5VdzU3L/jnwLbkEBJiLSCY5X1bP+/XxqGpqcx7sA\\\n",
              "vDxMNDade0U/T6Al3rw9TfQO9KX4BHyYf5y/vp1H9lelpMaHc1Nyf3oF+hA7oOPehztRgImIdICW\\\n",
              "5oyWUHklp5DVb33t3B/o64EHJk5ewMjr9Ec02OwMCAtgQFgAYOfX1w5l/OAw55/TnegYmIhIB2hp\\\n",
              "1HglpxBwnLCccXUMUSF+AFTVNV1QeAH4epqc9709ID6iByOjg/kw38o7ud9x2zVDul14gUZgIiId\\\n",
              "ouUYVMttr0Afwnr4YimvBWBcTC/iI3rw1sHvsJTXYgJOn0j08TRRb3NsabkFaGiC53cfpn+of/MW\\\n",
              "E92VAkxEpAP0CvThtmuGtNp2U3J/quttgJ1r4vqw+NXPnIGWPjKSHftLqG10tNJfO6wP7+aVUm9r\\\n",
              "4urYcL4qOYmlvJYgPy9O1DZSaK1hSHgg6aP6dfZbcxuaQhQR6SS9An3ITIsjMy2ev76dx6HSKgaF\\\n",
              "BXDX5FgeSh/BbdcMBuCqIWHE9w2iqr6JvkH+vP1VKZOH9WFibBgnahsZF9OLibFhHCqtYueBEhe/\\\n",
              "K9dxqwArLCwkNTWV4cOHk5iYyOrVqwE4fvw4aWlpDB06lLS0NKxWq4srFRH5Yf4wYzip8eE8+/Mx\\\n",
              "ZKbF0yvQhwUTYnhg2jAemTWCmgYbg8ICKLTWAPDNsWpGDwwFYPzgXvx/N1/BA9OGcVNy//NehqWr\\\n",
              "cqsrMhcXF1NcXMwVV1zByZMnGT16NJs2bWLdunX06tWL+++/nxUrVmC1WnnsscfO+VpGuqqoiEiL\\\n",
              "41X1zvO6AMbFhOLt6cHDM0cQGuDTqrOxxdPvHGL5toM8MG1Ym2nLi2Wk7063OgYWGRlJZGQkAD17\\\n",
              "9iQhIQGLxUJWVha7du0CYMGCBaSkpJw3wEREjOiVnEKyvyplYmxvRg8MYcGEmFZh1V5Andkw0l24\\\n",
              "VYCdrqCggE8//ZRx48ZRUlLiDLa+fftSUtJ953xFpGs7PYwutDW+vYaR7sAtA6yyspIbb7yRv/zl\\\n",
              "LwQFBbXaZzKZMJnabxs1m82YzWYASktLO7xOEZFLrbuG0ffhVk0cAA0NDdx4443MmzeP2bNnAxAR\\\n",
              "EUFxsWPBy+LiYvr06dPuczMyMsjJySEnJ4fw8PBOq1lERDqfWwWY3W7nlltuISEhgbvvvtu5PT09\\\n",
              "nfXr1wOwfv16Zs6c6aoSRUTETbjVFOJ7773HP/7xDy677DJGjRoFwKOPPsr999/PnDlzePbZZxk4\\\n",
              "cCAvv/yyiysVERFXc6sAmzhxImfr6n/rrbc6uRoREXFnbjWFKCIicqEUYCIiYkgKMBERMSQFmIiI\\\n",
              "GJICTEREDEkBJiIihqQAExERQ1KAiYiIISnARETEkBRgIiJiSAowERExJAWYiIgYkgJMREQMSQEm\\\n",
              "IiKGpAATERFDUoCJiIghKcA6WVlZ2UVtFxGR9rldgP3yl7+kT58+jBgxwrnt+PHjpKWlMXToUNLS\\\n",
              "0rBarS6s8PuxrLGwbPEykpKSyM3NbbUvNzeXiYkTMU83u6g6ERHjcbsA+/nPf8727dtbbVuxYgWT\\\n",
              "J08mLy+PyZMns2LFChdV9/1Y1ljIuzOPqMejqD5STWpqqjPEcnNzmTlpJktKlhC3LU4hJiJygdwu\\\n",
              "wCZNmkSvXr1abcvKymLBggUALFiwgE2bNrmitO9tXcE6CihgEINYxSpniG3ZssUZXoMYRAEFLNm2\\\n",
              "hKVLl7q6ZBERt+d2AdaekpISIiMjAejbty8lJSUurujClZWVsfbFtWSS2SbE5s+Y3yq8MsmknHKe\\\n",
              "eeYZHRMTETkPQwTY6UwmEyaTqd19ZrOZ5ORkkpOTKS0t7eTK2hcWFkZ2djYB/QJahdhzzT9nhle/\\\n",
              "fv3Izs4mLCzM1aWLiLg1QwRYREQExcXFABQXF9OnT592H5eRkUFOTg45OTmEh4d3ZonnFBcX5wix\\\n",
              "SEeIWbES2vxjxdomvOLi4lxdsoiI2zNEgKWnp7N+/XoA1q9fz8yZM11cEdiqGjj5ThENpdVUvPkt\\\n",
              "FW9+i62qwbn9zPtxcXH85TePnvM1zWazwktE5AKZ7Ha73dVFnO7mm29m165dHDt2jIiICB5++GFm\\\n",
              "zZrFnDlzOHz4MAMHDuTll19u0+hxpuTkZHJycjqszpPvFFGxLR/PMD9sZbUA9Jw8AA8fTyq25RM8\\\n",
              "LYamehsn3zqMZ5gfx6/24cfpP2FJ6f0MYhBWHKcChBLqnEIM6BegEZiIuFRHf3deSm4XYJdKR/9L\\\n",
              "sFU1YH35K2q/OnVOmk9MEKGzh1J74DheEQGUbTgItTa+OV7Iwpf+iwcq/9DqmBfAKla12qYQExFX\\\n",
              "MlKAGWIK0R15BnoTOice7wE9nNvq809Q9vwBR3i98CXU2rDWVHDrCw+2Ca/y5p/2uhNTU1PVhSgi\\\n",
              "ch4KsIt0+nEtz0Bv7LbTBrAe0FhaQ9n6/dDQBECofzB39l3Ybrfh5s2b23QnppDCwoUL1YUoInIe\\\n",
              "Xq4uwGgq3z/CybcO02Ctoclah+1k/amdTc23Z0zKzr7pKja+8j4PfbPCEV4RkWy882muGJtKdnY2\\\n",
              "qampZB7JJIUULntghE5kFhG5ABqBXYSG0mqq934HQM2+Y9R+ZcVe3wR+5/8YZ980gV9cNYu+weFs\\\n",
              "vMtMVEUwFZu/cbbY+/f2JeaqEBZfd1tHvw0RQ9DC13I+CrCLULH5G0fHoQns1Y2OT6/WBnVN530u\\\n",
              "wN0Tf8mbv3mBpBsm4Bnmh6mHNxVvfsuQqBj2fryXh5f9kYDkiI59EyJuTgtfy4VSgJ3H6ed7eYT6\\\n",
              "golTU4RnmTI8Kw8Iqfej8j8WbGW11Hz8HSffOkx1Tgl9BvSl5zXReAZ6X/o3IWIQWvhaLoYC7Ayn\\\n",
              "N2kAVOeUULEtn/JNX1O9++ipsPL9Hh9dc+DZbU30mBRF4NVR9Jw8QKMukWZa+FouhgLsDC2BVZ3j\\\n",
              "WDA4IDmCnpMHYG9yJJdHiC/eA3o6pg39PC/qtU3+nnhFBVKffwKTtyeh1w8mOG2gRl0iaOFruXgK\\\n",
              "sDMEJEcQPC3GOSryDPTGw8eT+vwTeIb50VReh3MYVmsD/wv8CD3AXmPDdtyxaoe9wdYB1YsYlxa+\\\n",
              "loulADuDZ6B3m2NRLaHmN9zxH0pjaY1zn3d4YKvne4T44DWoh+NYWS9fPPsGAOCXEIZHoBf2Gkdw\\\n",
              "NVgqndOUIuLg7MqN9NfC13JeCrAL0BJqQSn98Qr3x15jwzPMj56TB9Drpjh6Th6AT0wQAIGj+xKY\\\n",
              "EO4YpB2vgzobAeP7Yq+z0VTViG9sCL6xIdQdqnBOU4p0ZdZaK3//4u/kV+S3urXWWtt9XPiAcOb8\\\n",
              "Yc45X1MLXwvoROaL4hnoTdjPhlOx+RuCZwzGO9wxugpOG4itqh/VOSUEJEfQVN1A5Z5ibGW12Kx1\\\n",
              "1B+qoLG0Br/4UELnxAM4HyvS1W36ehNPfvwkr+W9Rv6J5vCqc4TXrNhZbPp6Eyn9U3j4/Yf5+LuP\\\n",
              "+eqrr9j68FZWsco58gLHwterWEUmmWRkZGgEJlrM91KxVTVQnVOC3/BeVGz+htqvrPjEBGHy9CAo\\\n",
              "bSD1BScISI5oNTXZ8pwzt4t0JdZaK7//z+951/Iu/p7+1NhqCPEJYdbQWfh7+fO3z/6Gr4cvdU11\\\n",
              "1B2to/KxSh61PqqFr11Ei/l2Qy3diy3h5RcfStj84YTfehm+A4PaPcfrzI5Hka4o1C+UZROXMb7v\\\n",
              "eGpsNXjiSXl9Oev2r+PfRf/Gy+RFXVMdjZWNWB+1tgkvLXwtZ6MAu0RaGj2CZwwmeFoMoXPizzuq\\\n",
              "OrPjUaQraTmmZa21EuoXyrCwYQDYsOFtcvy3sb9sP432RgC8enjxo4E/0sLXcsF0DOwSaWn0APC+\\\n",
              "JuCinyPS1bx08CX+9tnfqGmsYVrMNN7+9m3nvgZ7+x24n93zGc8+8SybP99MOeX0jujNNcuuYfjE\\\n",
              "4W0Wvo77fZxOZO7mDDMC2759O/Hx8cTGxrJixQpXlyMi52CttfLR0Y8A+OjoRzz43oMcrjyMv4f/\\\n",
              "WZ9jwoQdO3vv2Yv3TG+8QrxI+H0Cn5s+588f/dnZYk8feG/mewybO6yz3o64KUOMwGw2G3fccQdv\\\n",
              "vvkm0dHRjBkzhvT0dIYPH+7q0kSkHZu+3kROiaMRIKckh57ePQGoa6o763Pspy0qGnFDBGFpYfQb\\\n",
              "2I8RfiP46bCfsmjnIhaPWUzOJzn82/pvZsXO6tg3IW7PEAG2Z88eYmNjGTx4MABz584lKytLASbi\\\n",
              "Zqy1Vl46+BLWWiuRAZEUVxcDcLLhJABNXNiVG0yY8OrhRVxIHDEhMazfv57dR3cDsHbKWoZEDemY\\\n",
              "NyCGYogAs1gs9O/f3/l7dHQ0H374oQsrEhFwBNamrzcxK3YWoX6hbPp6E3/77G8/+HVbRmOFlYW8\\\n",
              "dug15sbPxdvTm8VjFv/g15auwzDHwC6E2WwmOTmZ5ORkSktLXV2OSJfXcpLypq83AY4Tk3+e+HMi\\\n",
              "AyMBiAiIcN56XMTXTZBPEIlhiTQ0OZo9Qv1CWTtlLTHBMZf4HYiRGWIEFhUVRWFhofP3oqIioqKi\\\n",
              "2jwuIyODjIwMwHEynoh0rJbjUC23oX6h9PLrRXGVY+qwt39vSqpLnLcXwhtvTtSfYH/ZfgDGR47n\\\n",
              "5mE3d0D1YnSGGIGNGTOGvLw88vPzqa+vZ8OGDaSnp7u6LJFuL9QvlF+M+AWhfqHObbNiZzE+cnyr\\\n",
              "xx2rOQbgbOYA8PP048qIKx33TX6E+4UD0EADIb4hp57cJdcKkkvBEAHm5eXFU089xXXXXUdCQgJz\\\n",
              "5swhMTHR1WWJSDtC/UJZOWkld4++G38vR9t838C+XB11NSsnrSQq0DF7Umurxe7hSKfQgFBKa0uJ\\\n",
              "DIxkZPhIyuvKSY5IZnzkeHYf3e2cohQ5nSGmEAGmT5/O9OnTXV2GiFyAlpFZSv8U/vzRn1k8ZrHz\\\n",
              "+NVLM17ipYMvAXBVv6soqSoh/0Q+AAODBnJ5n8v5rPQzxvQdw83DbnY2iYicSYv5irhYWVlZu8sh\\\n",
              "nW17V9DSbv9pyafsPrqb0RGj8fbw5nfjfkeIb0irzsaWx5+5TTqGkb47DTGFKNIVWdZYWLZ4GUlJ\\\n",
              "SeTm5rbal5uby8TEiZinm11UXcdqabfffXQ3V0ddzaqUVTwz9RligmPaPa52ZrejCBhoClGkK7Gs\\\n",
              "sZB3Zx5RRFGNY1X1lkuD5ObmMnPSTJaULGHQtkGYp5vJ2Jrh6pIvqVmxs6hpdFzZ/OZhN593VHVm\\\n",
              "t6MIaAQm4hLrCta1e2mQLVu2nAqv5lXZl2xb0uUWrQ31C2XRqEUsGrXogqYE2xuViSjARDpZWVkZ\\\n",
              "a19c2+71rebPmN8qvFouKfLMM8/oulciZ1CAiXSysLAwsrOz21zf6rnmn/auh5Wdnd1lGzpEvi8F\\\n",
              "mIgLtFwapCXErFgJbf6xYm0TXnFxca4uWcTtKMBELpHqExV89Pq/qD5R0e7vZz4uum8Ef/3LqnO+\\\n",
              "ptlsVniJnIW6EEUukf27dvLvF/5O1YkKSr7O5URZKSe+c6z/l5gyhf27djpv//3C3/nWcoQlDzzJ\\\n",
              "KlY5R14AoYSyilVkkklGRoZGYCJnoQATuUQSU6YAUPDZpxR9+QUAvoE9qDpRwd7tm/ngXy/x6Y7N\\\n",
              "NNbXU97QxNMPrubBiodaHfMCWMUqZ2NH5pHMVi32InKKphBFLpGAoGDGpN/IhDnz8QvsAUBdVSUf\\\n",
              "/+9GDn36EZ7ePpw8Vsqx0lLWb/uY35X9oU3DRjnl7XYnpqamqgtR5AwKMJFL7MhX+6mtqgSTCf8e\\\n",
              "QQB8983X2BrqAQj09WFeyMx2uw03b97cpjsxhRQWLlyoLkSRMyjARH6gMksRG1cspcxSRPWJCqpO\\\n",
              "VIDJBHY7NZUn2n1OeMpRdvR90RleYSHBPDB3NuNHjWzVnbia1Yx8aGSXO5FZ5FLQMTCRH6D6RAWb\\\n",
              "HnuE8pIjWIstRA0bwf5db573efamJnpPOsKYL8L5ML+G314/hbqifN75x/9j9v1Lyc7OJiUlhd7X\\\n",
              "eHPf3Zmd8E5EjEcjMJEfYP+unZSXHAGg/GgxB9/bdVHPv25EHPdMncSoMeOIuTyZUVP/DxtXLCUs\\\n",
              "MID1Kx9lWFM1+3ft7IDKRYxPIzCR76H6RAX7d+2kX3wikUOHcazoMA011dgaGi7uhUwmAn19qCg9\\\n",
              "StzYCXy8dSOHP/8MgB8tyiQkqKezu1FEWlOAiVyAlsBKTJlCQFCw81yu0H7RWI8Uff8Xbr4cnwkT\\\n",
              "/37h74ycej2eXt5c839vdXY1ikj73GYK8ZVXXiExMREPD482F1Nbvnw5sbGxxMfHs2PHDhdVKN1Z\\\n",
              "S2C1TOclpkxhwGUjsR4pwicgkMBe369D0Ns/gMihw+gTMwSAgJ5BzL5/KWFR0ZesdpGuym0CbMSI\\\n",
              "EWzcuJFJkya12n7gwAE2bNjA/v372b59O4sWLcJms7moSumuElOmMGneL5zTeQFBwfSLHw5AfXUV\\\n",
              "QWHhhPSNPOvzTZ6ezXdMznPEABpqqinOO4iXry8xlycTf9U1HfcmRLoYtwmwhIQE4uPj22zPyspi\\\n",
              "7ty5+Pr6EhMTQ2xsLHv27HFBhdKdtUznBQQFO7ddft0MohJGANBka6T8aDGBoY6RmKe3d+sXaJ4q\\\n",
              "xG6nvr7Oubln73D6Dh3GkYMHyP80h4Pvv9Oxb0SkC3GbADsbi8VC//79nb9HR0djsVhcWJGIQ0BQ\\\n",
              "MOl3P8Ckeb/A29cPAE9vx2Hl2DET8PT2cT62Vz/HlKDJ2wcPT8djeoaFc/JYKUfzDlKcd9Cx396Z\\\n",
              "70DE2Dq1iWPKlCkcPXq0zfZly5Yxc+bMH/z6ZrMZs9kMQGlp6Q9+PZHzaRmZDR49jnf+8f8Yd8Nc\\\n",
              "jny1n8SUKVz7iwz2bt+M3QSDkkbz/iv/oOSbQ9RVVeIfFEzchKv5+H83EpUwgsghcXj5+TLquhmu\\\n",
              "fksihtGpAbZz58WfzxIVFUVhYaHz96KiIqKiotp9bEZGBhkZGQAkJyd/vyJFvoewqGhm378UgKj4\\\n",
              "Yc7tE+bMo/pEBdvXrnK2x/sHBTPz3gcJjYwkMCjY2dkIpy61cvo2EWmf27fRp6en89Of/pS7776b\\\n",
              "I0eOkJeXx9ixY11dlsgFaQmv/E9zGDBiFP2GJXD5dTOc4XRmm3xLt2N7+0SkNbcJsNdee41f//rX\\\n",
              "lJaWcv311zNq1Ch27NhBYmIic+bMYfjw4Xh5ebFmzRo8Wzq6RNzc/l07yf80h5jLk/nRoszzjqpa\\\n",
              "uhx18rLI+ZnsdnuXPGycnJzc5nwykc525gnQIu7OSN+dbjMCE+mKtJqGSMdx+zZ6ERGR9ijARETE\\\n",
              "kBRgIiJiSAowERExJAWYiIgYkgJMREQMSQEmIiKGpAATERFDUoCJiIghKcBERMSQFGAiImJICjAR\\\n",
              "ETEkBZiIiBiSAkxERAxJASYiIobkNgG2ePFihg0bRlJSEjfccAPl5eXOfcuXLyc2Npb4+Hh27Njh\\\n",
              "wipFRMRduE2ApaWl8cUXX7Bv3z7i4uJYvnw5AAcOHGDDhg3s37+f7du3s2jRImw2m4urFRERV3Ob\\\n",
              "AJs6dSpeXo4LRI8fP56ioiIAsrKymDt3Lr6+vsTExBAbG8uePXtcWaqIiLgBtwmw0z333HNMmzYN\\\n",
              "AIvFQv/+/Z37oqOjsVgsripNRETchFdn/mFTpkzh6NGjbbYvW7aMmTNnOu97eXkxb968i359s9mM\\\n",
              "2WwGoLS09IcVKyIibq1TA2znzp3n3L9u3To2b97MW2+9hclkAiAqKorCwkLnY4qKioiKimr3+RkZ\\\n",
              "GWRkZACQnJx8iaoWERF35DZTiNu3b2flypW8/vrrBAQEOLenp6ezYcMG6urqyM/PJy8vj7Fjx7qw\\\n",
              "UhERcQedOgI7lzvvvJO6ujrS0tIARyPHf//3f5OYmMicOXMYPnw4Xl5erFmzBk9PTxdXKyIirmay\\\n",
              "2+12VxfREZKTk8nJyXF1GSIihmKk7063mUIUERG5GAowERExJAWYiIgYkgJMREQMSQEmIiKGpAAT\\\n",
              "ERFDUoCJiIghKcBERMSQFGAiImJICjARETEkBZiIiBiSAkxERAxJASYiIoakABMREUNSgImIiCEp\\\n",
              "wERExJAUYCIiYkhuE2APPvggSUlJjBo1iqlTp3LkyBEA7HY7v/nNb4iNjSUpKYlPPvnExZWKiIg7\\\n",
              "cJsAW7x4Mfv27WPv3r3MmDGDRx55BIBt27aRl5dHXl4eZrOZ22+/3cWVdi9lZWUXtV1EpLO4TYAF\\\n",
              "BQU571dVVWEymQDIysriZz/7GSaTifHjx1NeXk5xcbGryuw2LGssLFu8jKSkJHJzc1vty83NZWLi\\\n",
              "RMzTzS6qTkTEjQIM4Pe//z39+/fnhRdecI7ALBYL/fv3dz4mOjoai8XiqhK7BcsaC3l35hH1eBTV\\\n",
              "R6pJTU11hlhubi4zJ81kSckS4rbFKcRExGU6NcCmTJnCiBEj2vyTlZUFwLJlyygsLGTevHk89dRT\\\n",
              "F/36ZrOZ5ORkkpOTKS0tvdTldxvrCtZRQAGDGMQqVjlDbMuWLc7wGsQgCihgybYlLF261NUli0g3\\\n",
              "ZLLb7XZXF3Gmw4cPM336dL744gtuu+02UlJSuPnmmwGIj49n165dREZGnvM1kpOTycnJ6Yxyu5Sy\\\n",
              "sjKSkpKoPlLNKlY5gyqTTIA228opp1+/fuzbt4+wsDAXVy8iP5SRvjvdZgoxLy/PeT8rK4thw4YB\\\n",
              "kJ6ezvPPP4/dbmf37t0EBwefN7zk+wsLCyM7O5uAfgFkkukciT3X/NNeeGVnZyu8RKTTuU2A3X//\\\n",
              "/YwYMYKkpCTeeOMNVq9eDcD06dMZPHgwsbGxLFy4kLVr17q4UmOqqaznkze+paayvt3fT39cZYEv\\\n",
              "2zbvwD/SEWJWrIQ2/1ixtgmvuLg4V7wlEenmvFxdQIt//etf7W43mUysWbOmk6vper58v5gPNh6i\\\n",
              "oc5GY72Nb/aWcqK0FoCECZF8+X6x8/aDjYe4cvYQ7r31Ef74x3vP+ppms1nhJSIu4zYBJh0rYYJj\\\n",
              "2rXmZD173ywEwDfAi5qT9aMT/fUAABRbSURBVOzLLiJnSwHffn6MhrpGevb2o9qzlLV/fYxVrHKO\\\n",
              "vABCCWUVq8gkk4yMDI3ARMRl3GYKUTqWfw8frpg6kNM7duqqG9n7ZiGWr6xEDA7iSF4FpYer+Prr\\\n",
              "PP7vzLn8ofx3zmNev2z+aa878czzxEREOoMCrJvx8fF03DGBX6DjfvHXFXz37QkAKmsrWP/6wzxU\\\n",
              "9Yc2DRvllLdq7Dg9xLQyh4h0NgVYF3d6s0ZNZT0N9TYwAXaorWq+D9htjtsefsHM772wTXiFh0Xw\\\n",
              "r1dea9OdmEIKCxcuVBeiiHQ6HQPr4lqOb7U0b7Qc/3Jq5yzAftPH8ebWD1hbuJJyygkL6cOvpjxG\\\n",
              "lG8S2dnZpKamknkkkxRSGP7ACJ3ILCIuoRFYF1ZTWc+RXEfzReGXx8nLKQHA09eEp5fpnM/tN30c\\\n",
              "V45OJzggjPt+spqIkP401tucLfbeYb7UjQ7ixpRbO/x9iIi0RyOwLqimsp4v3y+msc7GkbwKAEq+\\\n",
              "OeHcb6u7sMVXrk9ewDUjZjFi1GBsjXYa6218sPEQY64fxCcff8p3X9U7uxtFRDqbAqwLaAmshAmR\\\n",
              "+PfwcZ7LFRkbjG+AJ3XVtgt+LS8/aKw99XsPv2COW6qpKK0helgo4Jh1jB4YSfTAS/xGREQuggKs\\\n",
              "C2gJLIArpg4kYUIkllwrh784DoB/kDeN9TYaapvO+1q21gtz4Bvoydj0GL768CjJ0wfRf3gvjbpE\\\n",
              "xC0owLqAlkBpufXv4cPEm4byr28+pq66ES9vD2pONJz1+R7e0NS8235axvkEeFBXZePAe0ewHCyn\\\n",
              "z8Agxv2fwR32PkRELoYCrAtoOUn5dPmfHaOuuhGA3v17Ul9rIyDIG2txTZvn288yw1hf3URwuD+N\\\n",
              "9Y5UO3fbh4hI51KAdVEJEyJprLNhB3L3HKWuqtEZQLFj+nDo41LsTY5mjpCIAKzF1Zg8Iai3PxUl\\\n",
              "NYRFB9JQZ6OitIaK0hpCIvwZOjbCZe9HRORMCrAuyr+HD2Obp/sGJPbi7fVfctVNQzl+pIqECZGM\\\n",
              "nRHDv1/KpXf/Hgy+PJwPX/+G+ppGSr+tJDI2mIiYIPa+WUi/ocF4eHpQdNBK/mfHCJ0a6OJ31jnK\\\n",
              "ysraPTn7bNtFpPPpPLBuIHJwCPMevpJBI3pzxdSB+PfwITQikJm/vZwrrhtIztYCLAfLKf22EgBP\\\n",
              "Lw+8mpec6hcXytRbE7ly9hBiRvZu9xIsXYlljYVli5eRlJTUZo3H3NxcJiZOxDzd7KLqROR0GoF1\\\n",
              "YzWV9excd4DDXxwnelgoIRH+lJfUMOnmOPwCvfH29XS25l8xdSCfvPFtq27HrsayxkLenXlEEUU1\\\n",
              "jjUeW1bbz83NZeakmSwpWcKgbYMwTzeTsTXD1SWLdGsKsG7sy/eLOfzFcQaM6MWUnw/Hv4dPq/1n\\\n",
              "htSZ3Y5dzbqCdUQR5VyoOPNIJqmpqZjNZu695V5HeDWvEblk2xKOLD2iZbREXMjtphCfeOIJTCYT\\\n",
              "x44dA8But/Ob3/yG2NhYkpKS+OSTT1xcYdeRMCGSK2cPaTe82tMyEruQxxpNWVkZa19c2+5q+/Nn\\\n",
              "zG8VXi0LHD/zzDNahV/EhdwqwAoLC3njjTcYMGCAc9u2bdvIy8sjLy8Ps9nM7bff7sIKu5auHEgX\\\n",
              "KywsjOzs7Dar7T/X/HNmePXr14/s7Gw1dIi4kFsFWGZmJitXrsRkOnXGUVZWFj/72c8wmUyMHz+e\\\n",
              "8vJyiouLXVilGEpVGby32nF7+v12HhMX1RxiYU1kkokVK6HNP1asbcJLV6IWcS23CbCsrCyioqIY\\\n",
              "OXJkq+0Wi4X+/fs7f4+OjsZisXR2eWJUe/8Jb/4XZC+HNWMd9/f+s3WYtTxm7z+Ji4vDfNe0c76k\\\n",
              "2WxWeIm4gU5t4pgyZQpHjx5ts33ZsmU8+uijvPHGGz/o9c1mM2azo8W5tLT0B72WdBGj5kN9NXz4\\\n",
              "NNRawcsfqo7Bnqfhnceg4D8w5jYIGQhfbibXM4F7V73HKlY5R14AoYQ6GjvIJCMjQyMwETdgstvt\\\n",
              "F3ZtjQ70+eefM3nyZAICAgAoKiqiX79+7Nmzh4ceeoiUlBRuvvlmAOLj49m1axeRkefuhEtOTiYn\\\n",
              "J6fDaxcDeG+1Y4R1ul6DIaA3FO0B32CoqyC3zMbMdX4sqXy81TEvgFWsarUtoF+AQky6JCN9d7rF\\\n",
              "FOJll13Gd999R0FBAQUFBURHR/PJJ5/Qt29f0tPTef7557Hb7ezevZvg4ODzhpdIK6PmQ0SS475X\\\n",
              "IAT3h+PfQPFnjm11FZRVNzHz7z5twqu8+ae97sTU1FR1IYq4kFsE2LlMnz6dwYMHExsby8KFC1m7\\\n",
              "dq2rSxIjaDnGVZrnOMZV/q1je2MV1Fc57tvqnA8PC/AgM/Latt2GffuwefPmNt2JKaSwcOFCdSGe\\\n",
              "x9kCXsEvl4JbTCF2BCMNg6UDZD/qOMY1cAJ8+z4ERkBVyXmfZn7xRyzJe8MRXj1NZP/XVOLu3U5u\\\n",
              "bi6pqalUH6kmhRRGPjCUpY+u7IQ3YkyWNRbWFaxj7Ytr20y1tqxqknlFplYzcUNG+u50+xGYyEUr\\\n",
              "zYPPNjjulxc6bqtKIHwYmM79Vz5j/lvcdU01/YJ9HOG14K9QVUZc6Tayt2wkoLedkddsZen1UR38\\\n",
              "JozLuSTX41HOqdaWdSVPX5Irbluc1pWUH0QBJl3D6W3x2xafmjKsKARTc7Nt6cHWV+xsT1MDS1P8\\\n",
              "2HfPIOIuG+PYtulX8OZ/EVe1m30ff8TSZSsdx9WkXesK1rV7vHDLli2n1pM8bUkuLccl35emEMWY\\\n",
              "Ws7fGjUfAsNOdRoOnQqBfRz7wDHiOl9onckvBGrLHfeHToW8Nxy3s/7b8WfJWZWVlZGUlET1keo2\\\n",
              "nZvQtpuz5cTwffv26XiimzDSd6cW8xVjajn5GOCquxxBVvAfR9iENC9C7OEFTY3g4QNNF3EJmN5D\\\n",
              "wW4CL2+4+j4YNPFUUMo5tSzJlZqaSuaRTGdgPcdzgON8Oi3JJZeKphDFmEbNh7RHTk3lBYbB1Ecd\\\n",
              "4dMyfdjU2Hx7RniZvIBTy5Xh4X/qvncgFH0EXl7w7Xtw6E1HQCq8nBqtVsqefZZGq7Xd/XFxcY4l\\\n",
              "uSL9tSSXdCgFmBhTYFjbYMndCsfyoNcQx+9+wY7uQ6BVYNkbgdNmzptqTt337em4bWn+OP153VhL\\\n",
              "aNXl53Pk/vv57s+PU7FxY6swO/1+XFwcj9900zlfU0tyyQ+lKUTpOlpGY3HT4X9udoQZFY5tI34M\\\n",
              "BzdDY3NYhQwETx8oywO/UPD2h5NHoGckVB51NH8MTgHsjuNt3XwEVrFxI9/9+XGs//MyDYcP4z1g\\\n",
              "AD2uvda5HaCpuppja9Zi/Z+XqV1yH4+8tE1LckmHUhOHdE2lebDtXug1FAJ7wdjbHNv/8xco2Qcp\\\n",
              "f4CDWXBwKxw/5FhaashkKDkAh99zhFf/8fDOCsdU5VV3ufLduFyj1cqR+++n6p1/O7cFTLgSv4QE\\\n",
              "PPz88Bs5Esvd92CvrKSgvp67iqv5Xe1yLcllQEb67lSASfdTVeZojc9rXjw6oDdUH3McPzuWd6rj\\\n",
              "EBzNInHTHdOT3byRo9Fq5fCtC6nbvx9MJmj+6gi6cTYn/ncz1NdTbrPxs3wrv7f9uU23IUAIIe2G\\\n",
              "mLoQ3YeRvjt1DEy6l9PDa3AKXHM/zN3gCK30vzlGWy3t8i3H2XK3nroMSzdz+nEtr9BQGo8fd+yw\\\n",
              "28HTE4AT/9oI9Y5GmRBPT24PmNZuq7yW5JJLTcfApHvZ+8/2z+ua94rjdsCYts9pObbWDU9etv7z\\\n",
              "nxxbs5am6mqCZsygqbLy1M6zTN5M6/cR24qa+GPVFsopJzI8nBcmTuTK4cNbtdinkMJl98XpRGb5\\\n",
              "3hRg0r2cHkYXOh3YMhLrZhqtVqr2fARA1Z6PqHzvfewnT0JgIDQ2Ql3dWZ87LfpjDh3z5F9Vfrww\\\n",
              "8WoiPttHyYoVxD39NNnZ2Vwzbhz9PN/lrrgZnfV2pAtSgEn30k3D6Puo2LiRmo8cAVbz0UeYevRw\\\n",
              "7KiuPuvo63R39g5nfmgvomNiqKusxDOsN6V/fYrB8+exNycHr127CJ49uyPfgnRxCjARaaXRasX6\\\n",
              "z3/SWF4Ovr7OkZa9ZfrwQvu+TCZCPD2p+/xzGg4fpuHwYQA8AvyJuOUWGDKkI8qXbkQBJtKNNVqt\\\n",
              "VGzcSPDs2XiFhgKOkdexNWdcd8/bGxoaLvyFPT3BZsMjJITAiVfh4T8F7HY8/AM06pJLRl2IIt1Y\\\n",
              "y4nIFRs3OrcFz56N/5hkADwjI/GKjnaEl5/fuV/MdNqqJTYbJn9/Aq66ivIXX8LDz4+I++4j/Nd3\\\n",
              "OoNS5IdSgIl0Y8GzZ9Nn8b2tRkVeoaEEjh0LgK24mIBxYx3hVVuLV0zM2V/Mbj+18paHCXtNDdX/\\\n",
              "+Q8ATbW1HfUWpBtzmwBbunQpUVFRjBo1ilGjRrF161bnvuXLlxMbG0t8fDw7duxwYZUiXYtXaChh\\\n",
              "t9zSZlQUOn8+AVdeCUD9oW+gOYC8e/c+9aCAAAA8ovqBhwf+EybgEz/MsWvSJDx6hdJU4VjKq/bL\\\n",
              "L8+6+K/I9+U2AQaQmZnJ3r172bt3L9OnTwfgwIEDbNiwgf3797N9+3YWLVqEzWZzcaUiXZtXaChR\\\n",
              "Tz5Bn8X3YvJ2HCr3HjiAyEcepvcddxAw4Uqoribwmkn0mnUDNDXR8O231B88iH9yMn5DhtB03Ir/\\\n",
              "mDEEXHkl1e9/0GqaUuRScPsmjqysLObOnYuvry8xMTHExsayZ88ermz+v0MR6Rgto7Me115LyYoV\\\n",
              "RNx/P74xMYT/+k5n80ePa6+l/NVX8Ro4gMZvHV2GJm9vPJqPlwWOHUPo/PnORhGRS8mtAuypp57i\\\n",
              "+eefJzk5mSeeeILQ0FAsFgvjx493PiY6OhqLxeLCKkW6F9+YGAY8/XS7+05s3szxZx0Xq/RPTsbk\\\n",
              "7U3f/3oQz5AQPAICnN2NYbfc4lyW6vSOR5EfolMDbMqUKRw9erTN9mXLlnH77bfz4IMPYjKZePDB\\\n",
              "B7nnnnt47rnnLur1zWYzZrMZgNLS0ktSs4i01dK92PuOO+h9xx2AndD581sFU9gtt7T7nPb2iXwf\\\n",
              "nRpgO3fuvKDHLVy4kBkzHEvMREVFUVhY6NxXVFREVFRUu8/LyMggIyMDcKyoLCIdo2U68GJGU6c/\\\n",
              "R+RScJsmjuLiYuf91157jREjRgCQnp7Ohg0bqKurIz8/n7y8PMY2t/iKiGucrXvxUj9H5Fzc5hjY\\\n",
              "fffdx969ezGZTAwaNIinm+fcExMTmTNnDsOHD8fLy4s1a9bg2XwZBxER6b50QUsREXEy0nen20wh\\\n",
              "ioiIXAwFmIiIGJICTEREDEkBJiIihqQAExERQ+qyXYi9e/dm0KBBri6jQ5WWlhIeHu7qMtyaPqPz\\\n",
              "02d0YbrL51RQUMCxY8dcXcYF6bIB1h0Yqd3VVfQZnZ8+owujz8n9aApRREQMSQEmIiKG5Ll06dKl\\\n",
              "ri5Cvr/Ro0e7ugS3p8/o/PQZXRh9Tu5Fx8BERMSQNIUoIiKGpAAzoMWLFzNs2DCSkpK44YYbKC8v\\\n",
              "d+5bvnw5sbGxxMfHs2PHDhdW6Xrbt28nPj6e2NhYVqxY4epy3EJhYSGpqakMHz6cxMREVq9eDcDx\\\n",
              "48dJS0tj6NChpKWlYbVaXVyp69lsNi6//HLntQnz8/MZN24csbGx/OQnP6G+vt7FFYoCzIDS0tL4\\\n",
              "4osv2LdvH3FxcSxfvhyAAwcOsGHDBvbv38/27dtZtGgRNpvNxdW6hs1m44477mDbtm0cOHCAl156\\\n",
              "iQMHDri6LJfz8vLiiSee4MCBA+zevZs1a9Zw4MABVqxYweTJk8nLy2Py5MkKfGD16tUkJCQ4f1+y\\\n",
              "ZAmZmZl8/fXXhIaG8uyzz7qwOgEFmCFNnToVLy/HpdzGjx9PUVERAFlZWcydOxdfX19iYmKIjY1l\\\n",
              "z549rizVZfbs2UNsbCyDBw/Gx8eHuXPnkpWV5eqyXC4yMpIrrrgCgJ49e5KQkIDFYiErK4sFCxYA\\\n",
              "sGDBAjZt2uTKMl2uqKiILVu2cOuttwJgt9t5++23+fGPfwzoM3IXCjCDe+6555g2bRoAFouF/v37\\\n",
              "O/dFR0djsVhcVZpL6bM4v4KCAj799FPGjRtHSUkJkZGRAPTt25eSkhIXV+dav/3tb1m5ciUeHo6v\\\n",
              "yLKyMkJCQpz/46i/T+7Bba7ILK1NmTKFo0ePttm+bNkyZs6c6bzv5eXFvHnzOrs8MbjKykpuvPFG\\\n",
              "/vKXvxAUFNRqn8lkwmQyuagy19u8eTN9+vRh9OjR7Nq1y9XlyDkowNzUzp07z7l/3bp1bN68mbfe\\\n",
              "esv5ZRMVFUVhYaHzMUVFRURFRXVone5Kn8XZNTQ0cOONNzJv3jxmz54NQEREBMXFxURGRlJcXEyf\\\n",
              "Pn1cXKXrvPfee7z++uts3bqV2tpaTpw4wV133UV5eTmNjY14eXnp75Ob0BSiAW3fvp2VK1fy+uuv\\\n",
              "ExAQ4Nyenp7Ohg0bqKurIz8/n7y8PMaOHevCSl1nzJgx5OXlkZ+fT319PRs2bCA9Pd3VZbmc3W7n\\\n",
              "lltuISEhgbvvvtu5PT09nfXr1wOwfv165yi/O1q+fDlFRUUUFBSwYcMGrr32Wl544QVSU1N59dVX\\\n",
              "AX1GbsMuhjNkyBB7dHS0feTIkfaRI0fab7vtNue+P/3pT/bBgwfb4+Li7Fu3bnVhla63ZcsW+9Ch\\\n",
              "Q+2DBw+2/+lPf3J1OW7h3XfftQP2yy67zPn3Z8uWLfZjx47Zr732WntsbKx98uTJ9rKyMleX6hay\\\n",
              "s7Pt119/vd1ut9sPHTpkHzNmjH3IkCH2H//4x/ba2loXVydaiUNERAxJU4giImJICjARETEkBZiI\\\n",
              "iBiSAkxERAxJASYiIoakABMREUNSgImIiCEpwERExJAUYCIiYkgKMBERMSQFmIiIGJICTEREDEkB\\\n",
              "JiIihqQAExERQ1KAiYiIISnARETEkBRgIiJiSAowERExJAWYiIgYkgJMREQM6f8HB7bCHNf66+EA\\\n",
              "AAAASUVORK5CYII=\\\n",
              "\"\n",
              "  frames[2] = \"data:image/png;base64,iVBORw0KGgoAAAANSUhEUgAAAbAAAAEgCAYAAADVKCZpAAAABHNCSVQICAgIfAhkiAAAAAlwSFlz\\\n",
              "AAALEgAACxIB0t1+/AAAADh0RVh0U29mdHdhcmUAbWF0cGxvdGxpYiB2ZXJzaW9uMy4yLjIsIGh0\\\n",
              "dHA6Ly9tYXRwbG90bGliLm9yZy+WH4yJAAAgAElEQVR4nO3df1SUZcI38O8AYYumEIni4Io4DsLo\\\n",
              "wOqItuvbMglW5AOrtmavnth0GR/byp1Ww/N2eqSeCHNzyecRTzturrRvxdtPp8MPTQ13t9IlMnLT\\\n",
              "zZkMnpgBCcdBU/yBeL1/IBM0A4LC3Pc9fD9zOgfuuZm+u9h8ve77mutSCSEEiIiIFCZI6gBERETX\\\n",
              "gwVGRESKxAIjIiJFYoEREZEiscCIiEiRWGBERKRILDAiIlIkFhgRESkSC4yIiBSJBUZERIrEAiMi\\\n",
              "IkVigRERkSKxwIiISJFYYEREpEgsMCIiUiQWGBERKRILjIiIFIkFRkREisQCIyIiRWKBERGRIrHA\\\n",
              "iIhIkVhgRESkSCwwIiJSJBYYEREpEguMiIgUiQVGRESKxAIjIiJFYoEREZEiscCIiEiRWGBERKRI\\\n",
              "LDAiIlIkFhgRESmSrArswoULSElJQVJSEnQ6HdavXw8AqK2txaxZs6DRaHD//ffj0qVLEiclIiKp\\\n",
              "yarAhg0bhg8++ACff/45ampqsGvXLhw8eBC5ubkwm8346quvEBERgZdfflnqqEREJLEQqQN0pVKp\\\n",
              "MGLECABAW1sb2traoFKp8MEHH+C1114DAGRnZyMvLw+rVq3q9bVuu+02xMbGDnZkIqKAUldXh5Mn\\\n",
              "T0odo09kVWAA0N7ejhkzZuCrr77Cb37zG0yaNAnh4eEICemIGhMTA6fTec3XiY2NRXV19WDHJSIK\\\n",
              "KAaDQeoIfSarS4gAEBwcjJqaGjgcDlRVVeHLL7/s889aLBYYDAYYDAY0NzcPYkoiInlxuVz9Oh4I\\\n",
              "ZFdgncLDw2E0GnHgwAG0tLTg8uXLAACHwwG1Wu3zZ0wmE6qrq1FdXY3Ro0f7My4RkSScRU7kr82H\\\n",
              "Xq+HzWbr9pzNZsMc3RxYMiwSpRtcsiqw5uZmtLS0AADOnz+PPXv2ICEhAUajEW+99RYAoLi4GFlZ\\\n",
              "WVLGJCKSBWeRE/ZH7FC/oEZrQyuMRqOnxGw2G7LuyEJuUy60FdqALDFZFVhjYyOMRiP0ej1mzpyJ\\\n",
              "9PR0zJ8/H88//zz+8Ic/QKPRwOVyYcWKFVJHJSKS3I66HahDHWIRi0IUekqsrKzMU16xiEUd6pBb\\\n",
              "kYu8vDypIw8olRBCSB1iMBgMBk7iIKKA5XK5oNfr0drQikIUeorKDDMAeB1rQQvGjRuHw4cPIzIy\\\n",
              "ssfXVdJ7p6xGYERE1DeRkZGorKxE2LgwmGH2jMS2X334Kq/Kyspey0tpWGBERAql1Wq7lZgbbkRc\\\n",
              "fbjh9iovrVYrdeQBxQIjIlIwrVYLi6X3CRoWiyXgygtggRERKZrNZsOaFWtQiELPyKtzJFaIQoQj\\\n",
              "HCaTyWuKfSBggRERKVTXqfKd97yWX334mp0YaCXGAiMiUiCXy+VVXp33vFrQ0m1iR9cSC6SVOVhg\\\n",
              "REQKFBkZCfN0s8/ZhqWlpV6zE1ORipycnICahSi7xXyJiKi7U+cuofjjOrjPXcQXDWdwU7AKzy3U\\\n",
              "w1RugiXDgtyKXK/ZhpWVlTAajTA3mJGKVCStTwq4DzKzwIiIZOy/9h7DH/Z+5XX82dKj+PNDKTCV\\\n",
              "m9CQ14Bt27Z1myrftcSScgKvvAAWGBGRLJ06dwlr3qjBB8d876wxLCQIp85dwq3DQ5GXl4dHH33U\\\n",
              "6/KgVqu95sobSsYCIyKSkY7LhbWw1jhR5zrf43m7jjThJz+ux8qfTwKAHksqUMsLYIEREcnKm9X1\\\n",
              "2LzP+5LhD2UlReOXhvF+SCRfnIVIRCQjvzSMx+q5GoRc49059rbhuHV4qH9CyRQLjIhIRm4dHgpz\\\n",
              "ejz+9OBMjLw5xKvIvv9e5e9ossNLiEREMpQ6JQqH8+7yTKEHBLJ/OhFAx2XGoX75EGCBERHJWseI\\\n",
              "rPtCvJ0TN4Y6XkIkIiJFklWB1dfXw2g0IjExETqdDps3bwYAnDp1Cunp6Zg8eTLS09PhdrslTkpE\\\n",
              "RFKTVYGFhIRg06ZNOHr0KA4ePIiioiIcPXoUGzZswNy5c2G32zF37lxs2LBB6qhERCQxWRVYdHQ0\\\n",
              "pk+fDgC45ZZbkJCQAKfTCavViuzsbABAdnY2du7cKWVMIiKSAVkVWFd1dXX47LPPMGvWLDQ1NSE6\\\n",
              "OhoAMHbsWDQ1NUmcjoiIpCbLWYhnz57FokWL8OKLL2LkyJHdnlOpVFCpfH/+wWKxeLbWbm72vX4Y\\\n",
              "EREFBtmNwNra2rBo0SIsXboUCxcuBACMGTMGjY2NAIDGxkZERUX5/FmTyYTq6mpUV1dj9OjRfstM\\\n",
              "RET+J6sCE0JgxYoVSEhIwOOPP+45npmZieLiYgBAcXExsrKypIpIREQyIatLiB999BH+8pe/YNq0\\\n",
              "aUhOTgYAPPfcc1i3bh0WL16Ml19+GRMmTMAbb7whcVIiIpKarApszpw5EEL4fG7fvn1+TkNERHIm\\\n",
              "q0uIREREfcUCIyIiRWKBERGRIrHAiIhIkVhgRESkSCwwIiJSJBYYEREpEguMiIgUiQVGRESKxAIj\\\n",
              "IiJFYoEREZEiscCIiEiRWGBERKRILDAiIlIkFhgRESkSC4yIiBSJBUZERIrEAhsgLperX8eJiOjG\\\n",
              "yK7Ali9fjqioKEydOtVz7NSpU0hPT8fkyZORnp4Ot9stYcLunEVO5K/Nh16vh81m6/aczWbDHN0c\\\n",
              "WDIsEqUjIgpcsiuwX/3qV9i1a1e3Yxs2bMDcuXNht9sxd+5cbNiwQaJ03TmLnLA/Yof6BTVaG1ph\\\n",
              "NBo9JWaz2ZB1RxZym3KhrdCyxIiIBpjsCuyOO+7Arbfe2u2Y1WpFdnY2ACA7Oxs7d+6UIpqXHXU7\\\n",
              "UIc6xCIWhSj0lFhZWZmnvGIRizrUIbciF3l5eVJHJiIKGLIrMF+ampoQHR0NABg7diyampokTtRx\\\n",
              "b2vra1thhtmrxJbNX9atvMwwowUt2LZtG++JERENEEUUWFcqlQoqlcrncxaLBQaDAQaDAc3NzYOa\\\n",
              "IzIyEpWVlQgbF9atxLZfffywvMaNG4fKykpERkYOai4ioqFCEQU2ZswYNDY2AgAaGxsRFRXl8zyT\\\n",
              "yYTq6mpUV1dj9OjRg55Lq9V2KzE33Ii4+nDD7VVeWq120DMREQ0ViiiwzMxMFBcXAwCKi4uRlZUl\\\n",
              "caLvabVaWCy9T9CwWCwsLyKiASa7AnvggQdw++2349ixY4iJicHLL7+MdevWYc+ePZg8eTL27t2L\\\n",
              "devWSR3Tw2azYc2KNShEoWfk1TkSK0QhwhEOk8nkNcWeiIhujEoIIaQOMRgMBgOqq6sH9d/Rdap8\\\n",
              "13teAFCIwm7HwsaF8TIiEcmeP947B4rsRmBK4XK5fJZXy9WHr9mJRqORsxCJiAYIC+w6RUZGwjzd\\\n",
              "7HO2YWlpqdfsxFSkIicnh7MQiYgGSIjUAeSurbkVLdbjCA4PRdu3rbhysR3tZy4h8v4pMJWbYMmw\\\n",
              "ILci12u2YWVlJYxGI8wNZqQiFUnrk/hBZiKiAcQR2DWcfOUoLn7Vgtbqb9H2zVm0N50Hzrfj1BvH\\\n",
              "AACmchNWr1/tNVW+6xR7lhcR0cDjCKwX3/2jAe3N530+JyDQ1tyKm0aHIS8vD48++qjX5UGtVovD\\\n",
              "hw/zsiHRdXK5XD7/++npOA0tHIH9QPu5Nnz3Vwfce+tw+t3jPZ/Y2o7TpV97vu3pPyb+R0bUf9zl\\\n",
              "gfqCBfYDrdVNOF1Ri3N763s/MVSFUfPj/BOKaAjhLg/UVyywHwgzjMGoeyZieNr4Xs8LHh6KoLCb\\\n",
              "/JSKaOjgLg/UVyywHwgefhNu+XkMItJiEfkrHVRhIQiKHOZ5XjU8BKpRoWh3X0RrtfSr4hMFEu7y\\\n",
              "QP3BlTj6oP1cG1qrmxBmGIPg4Td5fU9EA8dms8FoNKK1odWzoo0bHbuwRyDC5y4PXOFm4HAljgDT\\\n",
              "OSrrLKsffk9EA4e7PFBfscCISHa4ywP1BQuMiGSHuzxQX7DAiEhWfO3ysPzqw9fsRJbY0MUCIyLZ\\\n",
              "4C4P1B8sMCKSlPuCG5uqNyHn/RycCTnDXR6oz7gWIhH53dvH3sYz/3gGV8SVbsd//8nvsbV8K3d5\\\n",
              "oD5RzAhs165diI+Ph0ajwYYNG6SOQ0TXqfZ0LfIO5nmVFwDcdvNtcF9wc5cH6hNFfJC5vb0dWq0W\\\n",
              "e/bsQUxMDGbOnInXX38diYmJPf6Mkj6MRzQUuC+4UVhdiHePv9vreY/PeBwPTX0IAFejl4KS3jsV\\\n",
              "MQKrqqqCRqNBXFwcQkNDsWTJElitVqljEVEfuS+48eSHT16zvG656Rb8QvMLz/fc5YF6o4gCczqd\\\n",
              "GD/++8V1Y2Ji4HQ6JUxERP2x86ud+Lvz7wi6xltOXDh3eKC+U0SB9ZXFYoHBYIDBYEBzc7PUcYjo\\\n",
              "ql9ofoHHZzyO5//X87g56Gaf50TeHInPmz/Hzq92+jkdKZUiZiGq1WrU13+/P5fD4YBarfY6z2Qy\\\n",
              "wWQyAei4jktE8hBxc4TnvtbdcXfDfcGNrTVbsd+xH5E3R2Lm2JlYOHkh9tfv73YJkag3ipjEcfny\\\n",
              "ZWi1Wuzbtw9qtRozZ87Ea6+9Bp1O1+PPKOlGJBGRXCjpvVMRI7CQkBBs2bIFd911F9rb27F8+fJe\\\n",
              "y4uIiAKfIgoMADIyMpCRkSF1DCIikomAmsRBRERDBwuMSAI9LT7LRWmJ+o4FRuRHziIn8tfmQ6/X\\\n",
              "e20DYrPZMEc3B5aM3jdyJKIOLDAiP3EWOWF/xA71C2qvvay67oGlrdCyxIj6gAVG5Cc76nb43Muq\\\n",
              "rKzMaw+s3IpcLlRLdA0sMCI/cLlc2PraVp8bMi6bv8znBo7btm3jPTGiXrDAiPwgMjLSsw1I1xLb\\\n",
              "fvXhawPHyspKLlpL1AsWGJGfdN3Lygwz3HAj4urDDbdXeXXugUVEvrHAiPxIq9XCYul9gobFYmF5\\\n",
              "EfUBC4zIj2w2G9asWINCFHpGXp0jsUIUIhzhMJlMXlPsicgbC4zIT7pOle+857X86sPX7ESWGFHv\\\n",
              "WGBEfuByubzKq/OeVwtafM5ONBqNnIVI1AsWGNEgch77EtvN/44LJ5thnm72OduwtLTUa3ZiKlKR\\\n",
              "k5PDWYhEvVDMavRESuByOrDz98+ipdHR7fiuoj/AVG6BJcOC3Ipcr9mGlZWVMBqNMDeYkYpUJK1P\\\n",
              "4geZia6BIzCiAdJ65jTefu4pr/ICgPBoNT55720sK7kfq9ev9poq33WKPcuLqG8UsSPz9VDSrqKk\\\n",
              "fC6nA6/+HzPaLpz3fYJKBQiBO5Y+hJmZi+ByuXxeHuzpOJG/KOm9k5cQiW5A65nTOLJ/L2xVB3ou\\\n",
              "LwAQAhHjYqBLTQOAHkuK5UXUd7K5hPjmm29Cp9MhKCjIq/0LCgqg0WgQHx+P3bt3S5SQyNuR/Xvx\\\n",
              "t1f/jPOn3b2fqFLhrn//LcJGjvJPMKIhQDYjsKlTp+Kdd97BypUrux0/evQoSkpKcOTIETQ0NCAt\\\n",
              "LQ02mw3BwcESJSX6XueIaly8DrtfehHuBu/7X0DH5cOGY0egjp/i34BEAUw2BZaQkODzuNVqxZIl\\\n",
              "SzBs2DBMnDgRGo0GVVVVuP322/2ckMhb2MhRmJm5CACwvPAlAB33wyq2bIL7hBOTU36GmZmL8PWn\\\n",
              "//CUHRENDNkUWE+cTidmz57t+T4mJgZOp1PCRES9i1THYFlBodcxIhpYfi2wtLQ0nDhxwut4fn4+\\\n",
              "srKybvj1LRaLZ6HU5ubmG349IiKSL78W2N69e/v9M2q1GvX19Z7vHQ4H1Gq1z3NNJhNMJhOAjqmg\\\n",
              "REQUuGQzC7EnmZmZKCkpwcWLF1FbWwu73Y6UlBSpYxERkcRkU2DvvvsuYmJicODAAdx777246667\\\n",
              "AAA6nQ6LFy9GYmIi7r77bhQVFXEGIhERcSUOIiL6npLeO2UzAiMiIuoPFhgRESkSC4yIiBSJBUZE\\\n",
              "RIrEAiMiIkVigRERkSKxwIiISJFYYEREpEgsMCIiUiQWGBERKRILjIiIFIkFRkREisQCIyIiRWKB\\\n",
              "ERGRIrHAiIhIkVhgRESkSCwwIiJSJBYYEREpkmwKbO3atZgyZQr0ej0WLFiAlpYWz3MFBQXQaDSI\\\n",
              "j4/H7t27JUxJRERyIZsCS09PxxdffIHDhw9Dq9WioKAAAHD06FGUlJTgyJEj2LVrFx5++GG0t7dL\\\n",
              "nJaIiKQmmwKbN28eQkJCAACzZ8+Gw+EAAFitVixZsgTDhg3DxIkTodFoUFVVJWVUIiKSAdkUWFfb\\\n",
              "t2/HPffcAwBwOp0YP36857mYmBg4nU6pohERkUyE+PNflpaWhhMnTngdz8/PR1ZWlufrkJAQLF26\\\n",
              "tN+vb7FYYLFYAADNzc03FpaIiGTNrwW2d+/eXp/fsWMHSktLsW/fPqhUKgCAWq1GfX295xyHwwG1\\\n",
              "Wu3z500mE0wmEwDAYDAMUGoiIpIj2VxC3LVrFzZu3Ij33nsPYWFhnuOZmZkoKSnBxYsXUVtbC7vd\\\n",
              "jpSUFAmTEhGRHPh1BNabRx55BBcvXkR6ejqAjokcL730EnQ6HRYvXozExESEhISgqKgIwcHBEqcl\\\n",
              "IiKpqYQQQuoQg8FgMKC6ulrqGEREiqKk907ZXEIkIiLqDxYYEREpEguMiIgUiQVGRESKxAIjIiJF\\\n",
              "YoEREZEiscCIiEiRWGBERKRILDAiIlIkFhgRESkSC4yIiBSJBUZERIrEAiMiIkVigRERkSKxwIiI\\\n",
              "SJFYYEREpEgsMCIiUiTZFNhTTz0FvV6P5ORkzJs3Dw0NDQAAIQQee+wxaDQa6PV6HDp0SOKkREQk\\\n",
              "B7IpsLVr1+Lw4cOoqanB/Pnz8cwzzwAAKioqYLfbYbfbYbFYsGrVKomTBh6Xy9Wv40REciCbAhs5\\\n",
              "cqTn63PnzkGlUgEArFYrHnzwQahUKsyePRstLS1obGyUKmZAcRY5kb82H3q9HjabrdtzNpsNc3Rz\\\n",
              "YMmwSJSOiKh3sikwAHjyyScxfvx4vPrqq54RmNPpxPjx4z3nxMTEwOl0ShUxYDiLnLA/Yof6BTVa\\\n",
              "G1phNBo9JWaz2ZB1RxZym3KhrdCyxIhIlvxaYGlpaZg6darXP1arFQCQn5+P+vp6LF26FFu2bOn3\\\n",
              "61ssFhgMBhgMBjQ3Nw90/ICyo24H6lCHWMSiEIWeEisrK/OUVyxiUYc65FbkIi8vT+rIRETdqIQQ\\\n",
              "QuoQP/TNN98gIyMDX3zxBVauXInU1FQ88MADAID4+Hjs378f0dHRvb6GwWBAdXW1P+Iqjsvlgl6v\\\n",
              "R2tDKwpR6CkqM8wA4HWsBS0YN24cDh8+jMjISInTE9FgUtJ7p2wuIdrtds/XVqsVU6ZMAQBkZmbi\\\n",
              "lVdegRACBw8exKhRo65ZXtS7yMhIVFZWImxcGMwwe0Zi268+fJVXZWUly4uIZCVE6gCd1q1bh2PH\\\n",
              "jiEoKAgTJkzASy+9BADIyMhAeXk5NBoNwsLC8Oc//1nipIFBq9WisrISRqMR5gYztmM7IhABAHDD\\\n",
              "7VVeWq1W4sRERN3JpsDefvttn8dVKhWKior8nGZo0Gq1sFgsWDZ/WY/nWCwWlhcRyZJsLiGS/9ls\\\n",
              "NqxZsQaFKEQEIuC++ohABApRiHCEw2QyeU2xJyKSAxbYENV1qnznPa/lVx++ZieyxIhIblhgQ5DL\\\n",
              "5fIqr857Xi1o6Taxo2uJcWUOIpITFtgQFBkZCfN0s8/ZhqWlpV6zE1ORipycHM5CJCJZkc0kDhp4\\\n",
              "589ewqHd/4Om2jMYGXUzWk60Iig4CMZlU2AqN8GSYUFuRa7XbMOusxNTkYqk9Un8IDMRyQ5HYAGs\\\n",
              "rKgGNXvq0fjVaRz7uAlNX3+HRvtpfPhmx2fuTOUmrF6/2muqfGeJhY0LY3kRkWxxBBaA3E3nsHvb\\\n",
              "F3A5zvVwhsD5s5fwoxGhyMvLw6OPPup1eVCr1XLlDSKSNRZYADl/9hIOVzrwz8p6XGxt7/G8b75w\\\n",
              "418fN2L6vAkA0GNJsbyISM5YYAHkXx83orqs7prnTUyORMJPuRwXESkb74EFkISfRsNwbyyCb1L1\\\n",
              "el77Zdmt30xE1G8ssADyoxGhmPVvccgy/wQjbh3WrchUQcBNw4IwesJwfPPFKfzrY24KSkTKxkuI\\\n",
              "ASg6LhzZz/0M589ewj8rHRAA9MYY/GhEKM6fvYR/fdzIS4hEpHgssAD2oxGhSPm3OK9jnZM3iIiU\\\n",
              "jJcQacjraYksLp1FJG8sMBqynEVO5K/Nh16v91qs2GazYY5uDiwZFonSEdG1sMBoSHIWOWF/xA71\\\n",
              "C2qvFfe7rtSvrdCyxIhkigVGQ9KOuh0+V9wvKyvzWqk/tyKXy2kRyZDsCmzTpk1QqVQ4efIkAEAI\\\n",
              "gcceewwajQZ6vR6HDh2SOCEpncvlwtbXtvrcNmbZ/GU+t5nZtm0b74kRyYysCqy+vh7vv/8+fvzj\\\n",
              "H3uOVVRUwG63w263w2KxYNWqVRImpEAQGRnpWay4a4ltv/rwtc1MZWUll9YikhlZFZjZbMbGjRuh\\\n",
              "Un3/AVyr1YoHH3wQKpUKs2fPRktLCxob+SFcujFdV9w3www33Ii4+nDD7VVenSv1E5F8yKbArFYr\\\n",
              "1Go1kpKSuh13Op0YP3685/uYmBg4nU5/x6MApNVqYbH0PkHDYrGwvIhkyq8fZE5LS8OJEye8jufn\\\n",
              "5+O5557D+++/f0Ovb7FYPG9Izc3NN/RaFPhsNhvWrFiDQhR6Rl4AEIEIFKIQZphhMpk4AiOSKb8W\\\n",
              "2N69e30e/+c//4na2lrP6MvhcGD69OmoqqqCWq1GfX2951yHwwG1Wu3zdUwmE0wmEwDAYDAMcHoK\\\n",
              "JF2nyne95wUAhSj0TOwwN5hhNBpZYkQyJItLiNOmTcO3336Luro61NXVISYmBocOHcLYsWORmZmJ\\\n",
              "V155BUIIHDx4EKNGjUJ0NNfxo+vncrl8llfL1Yev2YlGo5GzEIlkRhYF1puMjAzExcVBo9EgJycH\\\n",
              "W7dulToSKdU5F/DRZkTeDJinm33ONiwtLfWanZiKVOTk5HAWIpHMqIQQAbk5lMFgQHV1tdQxSErN\\\n",
              "duCdHOCkHQgKAi5+B0AAM3OAe1+AJcOC3Ipcr9mGNpsNRqMRrQ2tSEUqktYn8YPM18nlcvks/p6O\\\n",
              "k/SU9N4p+xEY0XV76yGg8TOg7Sxw8QyAq39XO/oe8NFmmN5chNXrV3tNle86xZ7ldX24ziT5A0dg\\\n",
              "FJjKcoFPXvL9nCoEEJeB9GeAn63mKGGAda4z2Xl5NmxcWLfRbdf7j7Z7bDCVm6SOTF0o6b2TIzAK\\\n",
              "HFfvceGT4p7LC+gor8nzgORlANBjSbG8rg/XmSR/4QiMAsdHm4E9/wEE3QRcaev5vNARwOrDwHAW\\\n",
              "1EBzuVzQ6/VobWj1fBzB10cUfjh55vDhw/wLg0wo6b2TOzJT4Lg6okJoOFC2Gp57Xj8Ulei3SENN\\\n",
              "5zqTRqMR5gazp7C2YzuAjg+Jc51JGii8hEiBY3gk8LPVwMxs4DefdFwm/N9vA2P0gCoUGJ0ITPgp\\\n",
              "4KgCav6v1GkDFteZJH/hCIwC0+jJwNI3O77Wpn1//Jyro7w6R2s0KDrXmVw2v+f/n7nOJN0ojsBo\\\n",
              "aOkcpfH+16Dytc5k50isEIUIRzhMJpPXFHui/mCBEdGA8rXO5PKrD1+zE1lidL1YYEQ0YLjOJPkT\\\n",
              "C4yIrttltxvN//3faPzP/8T/PLQcI86c4TqT5DecxEFE/Xbq/72Bprw84AcfI23asAGm8j/2uM5k\\\n",
              "1yn2XGeSbhRHYETUL9/97W9oWr/eq7wAQDXiFlx2u2EqN3GdSRp0XImDiPrkstuNhv9Yj3N79vR6\\\n",
              "XtTaNYhcsQIAV6NXIiW9d/ISIhFd02W3Gw3r1uHcX//W63nBY8Zg1MKFnu+5ziQNJl5CJKJrOv3O\\\n",
              "O9csLwC4Ze5chERE+CEREUdgRNQHnaMqoQpC8wsvAFeu+DyP5UX+xAIjomsKiYjw3Ne6bflDHdPn\\\n",
              "t2zB2Q8/hPr55xE6YQJOv/NOt8uHRINNNpcQ8/LyoFarkZycjOTkZJSXl3ueKygogEajQXx8PHbv\\\n",
              "3i1hSiICOgot+qmnMHn3boQlJ3sKjiMw8idZjcDMZjPWrFnT7djRo0dRUlKCI0eOoKGhAWlpabDZ\\\n",
              "bAgODpYoJRERyYFsRmA9sVqtWLJkCYYNG4aJEydCo9GgqqpK6lhERCQxWRXYli1boNfrsXz5crjd\\\n",
              "bgCA0+nE+PHjPefExMTA6XRKFZGIiGTCrwWWlpaGqVOnev1jtVqxatUqHD9+HDU1NYiOjsbvfve7\\\n",
              "fr++xWKBwWCAwWBAc3PzIPwvICIiufDrPbC9e/f26bycnBzMnz8fAKBWq1FfX+95zuFwQK1W+/w5\\\n",
              "k8kEk8kEoOPT5EREFLhkcwmxsbHR8/W7776LqVOnAgAyMzNRUlKCixcvora2Fna7HSkpKVLFJCIi\\\n",
              "mZDNLMQnnngCNTU1UKlUiI2NxR//+EcAgE6nw+LFi5GYmIiQkBAUFRVxBiIREQXuYr633XYbYmNj\\\n",
              "r3lec3MzRo8ePfiB+kmuuQD5ZmOu/pNrNrnmAuSbbaBy1dXV4eTJkwOQaPAFbIH1lVxXXpZrLkC+\\\n",
              "2Zir/+SaTa65APlmk2uuwSSbe2BERET9wQIjIiJFCs7jlqiYMWOG1BF8kmsuQL7ZmKv/5JpNrrkA\\\n",
              "+WaTa67BMuTvgRERkTLxEiIRESnSkC2wp556Cnq9HsnJyZg3bx4aGhoAAEIIPPbYY9BoNNDr9Th0\\\n",
              "6JBfc61duxZTpkyBXq/HggUL0NLS4nlOym1l3nzzTeh0OgQFBXnNdJLDdje7du1CfHw8NBoNNmzY\\\n",
              "IEkGAFi+fDmioqI8H8QHgFOnTiE9PR2TJ09Genq6Z51Pf6qvr4fRaERiYiJ0Oh02b94sm2wXLlxA\\\n",
              "SkoKkpKSoNPpsH79egBAbW0tZs2aBY1Gg/vvvx+XLl3yezYAaG9vx09+8hPP6kByyBUbG4tp06Yh\\\n",
              "OTnZs+qQHH6XfieGqNOnT3u+3rx5s1i5cqUQQoiysjJx9913iytXrogDBw6IlJQUv+bavXu3aGtr\\\n",
              "E0II8cQTT4gnnnhCCCHEkSNHhF6vFxcuXBBff/21iIuLE5cvX/ZbrqNHj4ovv/xS/PznPxeffPKJ\\\n",
              "57jUuYQQ4vLlyyIuLk4cP4+9Cc0AAAVHSURBVH5cXLx4Uej1enHkyBG/Zuj017/+VXz66adCp9N5\\\n",
              "jq1du1YUFBQIIYQoKCjw/E79qaGhQXz66adCCCHOnDkjJk+eLI4cOSKLbFeuXBHfffedEEKIS5cu\\\n",
              "iZSUFHHgwAHxy1/+Urz++utCCCFWrlwptm7d6vdsQgixadMm8cADD4h7771XCCFkkWvChAmiubm5\\\n",
              "2zE5/C79bciOwEaOHOn5+ty5c1CpVAA6tm958MEHoVKpMHv2bLS0tHRb5mqwzZs3DyEhHQukzJ49\\\n",
              "Gw6Hw5NLym1lEhISEB8f73Vc6lwAUFVVBY1Gg7i4OISGhmLJkiWwWq1+zdDpjjvuwK233trtmNVq\\\n",
              "RXZ2NgAgOzsbO3fu9Huu6OhoTJ8+HQBwyy23ICEhAU6nUxbZVCoVRowYAQBoa2tDW1sbVCoVPvjg\\\n",
              "A9x3332SZnM4HCgrK8Ovf/1rAB1XaOSQyxc5/C79bcgWGAA8+eSTGD9+PF599VU888wzAOS1fcv2\\\n",
              "7dtxzz33yC5XV3LIJYcMvWlqakJ0dDQAYOzYsWhqapI0T11dHT777DPMmjVLNtna29uRnJyMqKgo\\\n",
              "pKenY9KkSQgPD/f8ZU6q3+lvf/tbbNy4EUFBHW+VLpdLFrlUKhXmzZuHGTNmwGKxAJDfnzN/kM1a\\\n",
              "iIMhLS0NJ06c8Dqen5+PrKws5OfnIz8/HwUFBdiyZQuefvppWeTq/DokJARLly71S6a+5qIbo1Kp\\\n",
              "PKN9KZw9exaLFi3Ciy++2O0qBCBttuDgYNTU1KClpQULFizAl19+KUmOrkpLSxEVFYUZM2Zg//79\\\n",
              "Usfp5sMPP4Rarca3336L9PR0TJkypdvzUv8585eALrC+bt+ydOlSZGRk4Omnn+7X9i2DlWvHjh0o\\\n",
              "LS3Fvn37PH8I5ZDLF3/kUkKG3owZMwaNjY2Ijo5GY2MjoqKiJMnR1taGRYsWYenSpVi4cKGssnUK\\\n",
              "Dw+H0WjEgQMH0NLSgsuXLyMkJESS3+lHH32E9957D+Xl5bhw4QLOnDmD1atXS54LgOffGRUVhQUL\\\n",
              "FqCqqkp2v0t/GLKXEO12u+drq9Xq+RtMZmYmXnnlFQghcPDgQYwaNcozLPeHXbt2YePGjXjvvfcQ\\\n",
              "FhbmOS7XbWXkkGvmzJmw2+2ora3FpUuXUFJSgszMTL9m6E1mZiaKi4sBAMXFxZKMZoUQWLFiBRIS\\\n",
              "EvD444/LKltzc7Nntu358+exZ88eJCQkwGg04q233pIsW0FBARwOB+rq6lBSUoI777wTr776quS5\\\n",
              "zp07h++++87z9fvvv4+pU6fK4nfpdxJPIpHMwoULhU6nE9OmTRPz588XDodDCNExI+rhhx8WcXFx\\\n",
              "YurUqd1m3PnDpEmTRExMjEhKShJJSUme2ZFCCPHss8+KuLg4odVqRXl5uV9zvfPOO0KtVovQ0FAR\\\n",
              "FRUl5s2bJ4tcncrKysTkyZNFXFycePbZZyXJIIQQS5YsEWPHjhUhISFCrVaLP/3pT+LkyZPizjvv\\\n",
              "FBqNRsydO1e4XC6/5/r73/8uAIhp06Z5/myVlZXJItvnn38ukpOTxbRp04ROpxNPP/20EEKI48eP\\\n",
              "i5kzZ4pJkyaJ++67T1y4cMHv2TpVVlZ6ZiFKnev48eNCr9cLvV4vEhMTPX/e5fC79DeuxEFERIo0\\\n",
              "ZC8hEhGRsrHAiIhIkVhgRESkSCwwIiJSJBYYEREpEguMiIgUiQVGRESKxAIjIiJFYoEREZEiscCI\\\n",
              "iEiRWGBERKRILDAiIlIkFhgRESkSC4yIiBSJBUZERIrEAiMiIkVigRERkSKxwIiISJFYYEREpEgs\\\n",
              "MCIiUqT/D5tFAiZzVc9IAAAAAElFTkSuQmCC\\\n",
              "\"\n",
              "  frames[3] = \"data:image/png;base64,iVBORw0KGgoAAAANSUhEUgAAAbAAAAEgCAYAAADVKCZpAAAABHNCSVQICAgIfAhkiAAAAAlwSFlz\\\n",
              "AAALEgAACxIB0t1+/AAAADh0RVh0U29mdHdhcmUAbWF0cGxvdGxpYiB2ZXJzaW9uMy4yLjIsIGh0\\\n",
              "dHA6Ly9tYXRwbG90bGliLm9yZy+WH4yJAAAgAElEQVR4nO3df3BU9f3v8ddCRr6T649gJBI21AjL\\\n",
              "hhDYpBJ+dIZLWUlQApN8EYtQHOlAWS7WkcaCMNdxQMcY6tRGZghj10pBr5pWq8ZJAgga+20dGBoR\\\n",
              "UfjirpRMk03AsCb1Jz899w/Ifgm7oQkke85Jno8dxs3ZzfJyAvvinH2fz3EYhmEIAACbGWB2AAAA\\\n",
              "rgQFBgCwJQoMAGBLFBgAwJYoMACALVFgAABbosAAALZEgQEAbIkCAwDYEgUGALAlCgwAYEsUGADA\\\n",
              "ligwAIAtUWAAAFuiwAAAtkSBAQBsiQIDANgSBQYAsCUKDABgSxQYAMCWKDAAgC1RYAAAW6LAAAC2\\\n",
              "RIEBAGyJAgMA2BIFBgCwJQoMAGBLFBgAwJYoMACALVFgAABbosAAALZEgQEAbMlSBXby5ElNnDhR\\\n",
              "2dnZysrK0tq1ayVJR48e1aRJk+RyuXTPPffo9OnTJicFAJjNUgU2aNAgvfvuu/roo4+0f/9+bd++\\\n",
              "XXv27NHq1atVXFyszz77TIMHD9bzzz9vdlQAgMkSzA5wMYfDoWuvvVaSdObMGZ05c0YOh0Pvvvuu\\\n",
              "Xn75ZUnSokWLtG7dOi1fvvyyr3XTTTcpPT29tyMDQJ9SX1+vEydOmB2jSyxVYJJ07tw5jR8/Xp99\\\n",
              "9pl+8YtfaOTIkUpKSlJCwvmoaWlpCoVC//Z10tPTVVdX19txAaBPyc3NNTtCl1nqEKIkDRw4UPv3\\\n",
              "71djY6P27t2rw4cPd/l7/X6/cnNzlZubq5aWll5MCQDWEg6Hu7W9L7BcgbVLSkqS1+vV7t271dbW\\\n",
              "prNnz0qSGhsb5XQ6Y36Pz+dTXV2d6urqNGTIkHjGBQBThMpDKllVIo/Ho0Ag0OGxQCCgKVlT5C/w\\\n",
              "m5Sud1mqwFpaWtTW1iZJ+u6777Rz505lZmbK6/XqtddekyRt3bpVRUVFZsYEAEsIlYcUfCAo52+c\\\n",
              "+rbpW3m93kiJBQIBFU0t0urjq+Xe5u6TJWapAmtubpbX65XH49GECROUn5+v2bNn69e//rV++9vf\\\n",
              "yuVyKRwOa8mSJWZHBQDTbanfonrVK13pKlNZpMSqq6sj5ZWudNWrXqu3rda6devMjtyjHIZhGGaH\\\n",
              "6A25ubkMcQDos8LhsDwej75t+lZlKosUVbGKJSlqW5vaNGzYMB04cEDJycmdvq6d3jsttQcGAOia\\\n",
              "5ORk1dbWKnFYoopVHNkT23zhFqu8amtrL1tedkOBAYBNud3uDiXWqlYNvnBrVWtUebndbrMj9ygK\\\n",
              "DABszO12y++//ICG3+/vc+UlUWAAYGuBQEArl6xUmcoie17te2JlKlOSkuTz+aJG7PsCCgwAbOri\\\n",
              "Ufn2z7wWX7jFmk7sayVGgQGADYXD4ajyav/Mq01tHQY7Li6xvrQyBwUGADaUnJys4tuKY04bVlVV\\\n",
              "RU0nTtM0LV26lClEAID5fDU+BWYGoqYNZ82a1WE6cYM2KHttdp87kZkCAwAb89X4tGLtiqhR+YtH\\\n",
              "7PtieUmsxAEAlvf7/zqiJ7cd1v+dOVo/nzoy5nPC4XDMw4Odbe+Mnd472QMDAIt7ouawvjfO/7cz\\\n",
              "nZVUX/rM61IUGADAligwAIAtJZgdAABwefXrZ5kdwZLYAwMA2BIFBgCwJQoMAGBLFBgAwJYsVWAN\\\n",
              "DQ3yer0aM2aMsrKytGHDBknSF198ofz8fI0aNUr5+flqbW01OSkAwGyWKrCEhAQ9/fTTOnTokPbs\\\n",
              "2aPy8nIdOnRI69ev1/Tp0xUMBjV9+nStX7/e7KgAAJNZqsBSU1N12223SZKuu+46ZWZmKhQKqbKy\\\n",
              "UosWLZIkLVq0SG+++aaZMQEAFmCpArtYfX29PvzwQ02aNEnHjx9XamqqJGno0KE6fvy4yekAAGaz\\\n",
              "5InMX3/9tebOnatnnnlG119/fYfHHA6HHA5HzO/z+/3y+/2SpJaWll7PCQAwj+X2wM6cOaO5c+dq\\\n",
              "4cKFuuuuuyRJN998s5qbmyVJzc3NSklJifm9Pp9PdXV1qqur05AhQ+KWGQAQf5YqMMMwtGTJEmVm\\\n",
              "Zuqhhx6KbC8sLNTWrVslSVu3blVRUZFZEQEAFmGpQ4jvv/++XnzxRY0bN045OTmSpCeffFJr1qzR\\\n",
              "vHnz9Pzzz+uWW27Rn/70J5OTAgDMZqkCmzJlijq7vuY777wT5zQAACuz1CFEAAC6igIDANgSBQYA\\\n",
              "sCUKDABgSxQYAMCWKDAAgC1RYAAAW6LAAAC2RIEBAGyJAgMA2BIFBgCwJQoMAGBLFBgAwJYoMACA\\\n",
              "LVFgAABbosAAALZEgQEAbMlyBbZ48WKlpKRo7NixkW1ffPGF8vPzNWrUKOXn56u1tdXEhFI4HO7W\\\n",
              "dgBAz7Ncgf3sZz/T9u3bO2xbv369pk+frmAwqOnTp2v9+vWmZAuVh1SyqkQej0eBQKDDY4FAQFOy\\\n",
              "pshf4DclGwD0N5YrsKlTp+rGG2/ssK2yslKLFi2SJC1atEhvvvlm3HOFykMKPhCU8zdOfdv0rbxe\\\n",
              "b6TEAoGAiqYWafXx1XJvc1NiABAHliuwWI4fP67U1FRJ0tChQ3X8+PG4Z9hSv0X1qle60lWmskiJ\\\n",
              "VVdXR8orXemqV71Wb1utdevWxT0jAPQntiiwizkcDjkcjpiP+f1+5ebmKjc3Vy0tLT32e4bDYW16\\\n",
              "eZOKVRxVYvfOvrdDeRWrWG1q03PPPcdnYgDQi2xRYDfffLOam5slSc3NzUpJSYn5PJ/Pp7q6OtXV\\\n",
              "1WnIkCE99vsnJyertrZWicMSO5TY5gu3S8tr2LBhqq2tVXJyco9lAAB0ZIsCKyws1NatWyVJW7du\\\n",
              "VVFRUdwzuN3uDiXWqlYNvnBrVWtUebnd7rhnBID+xHIFtmDBAv3oRz/Sp59+qrS0ND3//PNas2aN\\\n",
              "du7cqVGjRmnXrl1as2aNKdncbrf8/ssPaPj9fsoLAOLAYRiGYXaI3pCbm6u6uroefc2Lpw3Tla5W\\\n",
              "nT8fbbAGRw4hJg5LZA8MgG31xntnb7HcHphVXVpe9arX4gu3WNOJl54nBgDoWRRYF4TD4ajyav/M\\\n",
              "q01tMacTvV4vU4gA0IsosC5ITk5W8W3FMacNq6qqoqYTp2mali5dyhQiAPQiCqyLfDU+BWYGoqYN\\\n",
              "Z82a1WE6cYM2KHttNicyA0Avo8C6wVfj04q1K6JG5S8esae8ACA+mEK8ROOav0buJ04dphsLRkY9\\\n",
              "JxwOxzw82Nl2AN3H3zNzMIXYR3z7X00xt3f2l4e/VMDV46oP6CoK7DISpw4zOwLQr3DVB3QHBXaJ\\\n",
              "tPX/O/Ir1uFDAL2Hqz6gOygwAJbAVR/QXRQYAEvgqg/oLgoMgGVw1Qd0BwUGwFK46gO6igIDYCmB\\\n",
              "QEArl6xUmcoie17te2JlKlOSkuTz+VgwGxQYAOvgqg/oDgoMgCVw1Qd0FwUGwBK46gO6iwIDYBlc\\\n",
              "9QHdYZsC2759uzIyMuRyubR+/Xqz4wDoJVz1AV1li9Xoz507J7fbrZ07dyotLU0TJkzQK6+8ojFj\\\n",
              "xnT6PXZaURnoT1pPtmrqH6dGvv540ccxn8dq9Oaw03unLfbA9u7dK5fLpREjRuiaa67R/PnzVVlZ\\\n",
              "aXYsAFfgzc/e7NLzuOoD/h1bFFgoFNLw4cMjX6elpSkUCpmYCMCV+k/Xf5odAX1EgtkBepLf74+c\\\n",
              "wd/S0mJyGgCxDP6PwZ0eNgS6wxZ7YE6nUw0NDZGvGxsb5XQ6o57n8/lUV1enuro6DRkyJJ4RAQBx\\\n",
              "ZosCmzBhgoLBoI4eParTp0+roqJChYWFZscCAJjIFocQExIStHHjRt1xxx06d+6cFi9erKysLLNj\\\n",
              "AQBMZIsCk6SCggIVFBSYHQMAYBG2OIQIAMClKDAgjjpbeJYFaYHuo8CAOAiVh1SyqkQejyfqEiCB\\\n",
              "QEBTsqbIX3D5izgC6IgCA3pZqDyk4ANBOX/jjLqO1cXXv3Jvc1NiQDdQYEAv21K/JeZ1rKqrq6Ou\\\n",
              "f7V622oWqQW6iAIDelE4HNamlzfFvBjjvbPvjXnxxueee47PxIAuoMCAXpScnNzhOlbtJbb5wi3W\\\n",
              "xRtra2tZsBboAgoM6GUXX8eqWMVqVasGX7i1qjWqvNqvfwXg8igwIA7cbndkoenO+P1+ygvoBgoM\\\n",
              "iINAIKCVS1aqTGWRPa/2PbEylSlJSfL5fFEj9gA6R4EBveziUfn2z7wWX7jFmk6kxICuocCAXhQO\\\n",
              "h6PKq/0zrza1xZxO9Hq9TCECXUCBAb0oOTlZxbcVx5w2rKqqippOnKZpWrp0KVOIQBdQYEAv89X4\\\n",
              "FJgZiJo2nDVrVofpxA3aoOy12ZzIDHQRBQbEga/GpxVrV0SNyl88Yk95Ad3jMAzDMDtEb8jNzVVd\\\n",
              "XZ3ZMdCPPH3P7Mj9X/2xKuZzwuFwzMODnW0H4s1O753sgQFx1FlJUV5A91FgAABbskyBvfrqq8rK\\\n",
              "ytKAAQOidl9LS0vlcrmUkZGhHTt2mJQQuLxf/bEq8gtA70swO0C7sWPH6vXXX9eyZcs6bD906JAq\\\n",
              "Kip08OBBNTU1KS8vT4FAQAMHDjQpKQDACiyzB5aZmamMjIyo7ZWVlZo/f74GDRqkW2+9VS6XS3v3\\\n",
              "7jUhIQDASixTYJ0JhUIaPnx45Ou0tDSFQiETEwEArCCuhxDz8vJ07NixqO0lJSUqKiq66tf3+/2R\\\n",
              "Fb9bWlqu+vUAANYV1wLbtWtXt7/H6XSqoaEh8nVjY6OcTmfM5/p8Pvl8Pknnz2UAAPRdlj+EWFhY\\\n",
              "qIqKCp06dUpHjx5VMBjUxIkTzY4FADCZZQrsjTfeUFpamnbv3q1Zs2bpjjvukCRlZWVp3rx5GjNm\\\n",
              "jO68806Vl5czgQgAYCkpAMD/sNN7p2X2wAAA6A4KDABgSxQYAMCWKDAAgC1RYAAAW6LAAAC2RIEB\\\n",
              "AGyJAgMA2BIFBgCwJQoMAGBLFBgAwJYoMACALVFgAABbosAAALZEgQEAbIkCAwDYEgUGALAlyxTY\\\n",
              "qlWrNHr0aHk8Hs2ZM0dtbW2Rx0pLS+VyuZSRkaEdO3aYmBIAYBWWKbD8/Hx98sknOnDggNxut0pL\\\n",
              "SyVJhw4dUkVFhQ4ePKjt27fr/vvv17lz50xOCwAwm2UKbMaMGUpISJAkTZ48WY2NjZKkyspKzZ8/\\\n",
              "X4MGDdKtt94ql8ulvXv3mhkVAGABlimwi23evFkzZ86UJIVCIQ0fPjzyWFpamkKhkFnRAAAWkRDP\\\n",
              "3ywvL0/Hjh2L2l5SUqKioqLI/YSEBC1cuLDbr+/3++X3+yVJLS0tVxcWAGBpcS2wXbt2XfbxLVu2\\\n",
              "qKqqSu+8844cDockyel0qqGhIfKcxsZGOZ3OmN/v8/nk8/kkSbm5uT2UGgBgRZY5hLh9+3Y99dRT\\\n",
              "euutt5SYmBjZXlhYqIqKCp06dUpHjx5VMBjUxIkTTUwKALCCuO6BXc4DDzygU6dOKT8/X9L5QY5n\\\n",
              "n31WWVlZmjdvnsaMGaOEhASVl5dr4MCBJqcFAJjNYRiGYXaI3pCbm6u6ujqzYwCArdjpvdMyhxAB\\\n",
              "AOgOCgwAYEsUGADAligwAIAtUWAAAFuiwAAAtkSBAQBsiQIDANgSBQYAsCUKDABgSxQYAMCWKDAA\\\n",
              "gC1RYAAAW6LAAAC2RIEBAGyJAgMA2BIFBgCwJQoMAGBLlimwRx99VB6PRzk5OZoxY4aampokSYZh\\\n",
              "6MEHH5TL5ZLH49G+fftMTgoAsALLFNiqVat04MAB7d+/X7Nnz9bjjz8uSdq2bZuCwaCCwaD8fr+W\\\n",
              "L19uclL7C4fD3doOAFZkmQK7/vrrI/e/+eYbORwOSVJlZaXuu+8+ORwOTZ48WW1tbWpubjYrpq2F\\\n",
              "ykMqWVUij8ejQCDQ4bFAIKApWVPkL/CblA4AuscyBSZJjzzyiIYPH66XXnopsgcWCoU0fPjwyHPS\\\n",
              "0tIUCoXMimhbofKQgg8E5fyNU982fSuv1xspsUAgoKKpRVp9fLXc29yUGABbiGuB5eXlaezYsVG/\\\n",
              "KisrJUklJSVqaGjQwoULtXHjxm6/vt/vV25urnJzc9XS0tLT8W1tS/0W1ate6UpXmcoiJVZdXR0p\\\n",
              "r3Slq171Wr1ttdatW2d2ZAC4LIdhGIbZIS71z3/+UwUFBfrkk0+0bNkyTZs2TQsWLJAkZWRk6L33\\\n",
              "3lNqauplXyM3N1d1dXXxiGt54XBYHo9H3zZ9qzKVRYqqWMWSFLWtTW0aNmyYDhw4oOTkZJPTA4gn\\\n",
              "O713WuYQYjAYjNyvrKzU6NGjJUmFhYV64YUXZBiG9uzZoxtuuOHflhc6Sk5OVm1trRKHJapYxZE9\\\n",
              "sc0XbrHKq7a2lvICYGkJZgdot2bNGn366acaMGCAbrnlFj377LOSpIKCAtXU1MjlcikxMVF/+MMf\\\n",
              "TE5qT263W7W1tfJ6vSpuKtZmbdZgDZYktao1qrzcbrfJiQHg8ixTYH/+859jbnc4HCovL49zmr7J\\\n",
              "7XbL7/fr3tn3dvocv99PeQGwBcscQkTvCwQCWrlkpcpUpsEarNYLt8EarDKVKUlJ8vl8USP2AGBF\\\n",
              "FFg/cfGofPtnXosv3GJNJ1JiAKyOAusHwuFwVHm1f+bVprYOgx0XlxgrcwCwMgqsH0hOTlbxbcUx\\\n",
              "pw2rqqqiphOnaZqWLl3KFCIAS6PA+glfjU+BmYGoacNZs2Z1GLHfoA3KXpvNicwALI8C60d8NT6t\\\n",
              "WLsialS+fcQ+cVgi5QXANiy5EkdPsNPZ5D2p/P+8G7n/i2dvj/mccDgc8/BgZ9sB9B92eu9kD6wf\\\n",
              "6qykKC8AdkKBAQBsyTIrcaBndHbYEAD6GvbAAAC2RIEBAGyJAgMA2BIFhn6ps2WyWD4LsA8KDP1K\\\n",
              "qDykklUl8ng8UQsWBwIBTcmaIn+B36R0ALqDAkO/ESoPKfhAUM7fOKNW3b94tX73NjclBtgABYZ+\\\n",
              "Y0v9lpir7ldXV0et1r9622qW1AIsjgJDvxAOh7Xp5U0xLx1z7+x7Y15q5rnnnuMzMcDCLFdgTz/9\\\n",
              "tBwOh06cOCFJMgxDDz74oFwulzwej/bt22dyQthRcnJyh1X320ts84VbrEvN1NbWsrwWYGGWKrCG\\\n",
              "hga9/fbb+sEPfhDZtm3bNgWDQQWDQfn9fi1fvtzEhLCzi1fdL1axWtWqwRdurWqNKq/21foBWJOl\\\n",
              "Cqy4uFhPPfWUHA5HZFtlZaXuu+8+ORwOTZ48WW1tbWpubjYxJezM7XbL77/8gIbf76e8ABuwTIFV\\\n",
              "VlbK6XQqOzu7w/ZQKKThw4dHvk5LS1MoFIp3PPQRgUBAK5esVJnKInte7XtiZSpTkpLk8/miRuwB\\\n",
              "WE9cF/PNy8vTsWPHoraXlJToySef1Ntvv31Vr+/3+yP/um5pabmq10Lfc/Go/MWfeUlSmcoigx3F\\\n",
              "TcXyer0cRgQszhIXtPz44481ffp0JSYmSpIaGxs1bNgw7d27V2vXrtW0adO0YMECSVJGRobee+89\\\n",
              "paamXvY17XRRNvS+cDisKVlTYk4bSlKSkiIl1v5Y4rBEHThwgEEO9Ct2eu+0xCHEcePG6fPPP1d9\\\n",
              "fb3q6+uVlpamffv2aejQoSosLNQLL7wgwzC0Z88e3XDDDf+2vIBLJScnq/i24pjThlVVVVHTidM0\\\n",
              "TUuXLqW8AAuzRIFdTkFBgUaMGCGXy6WlS5dq06ZNZkeCTflqfArMDERNG86aNavDdOIGbVD22mxO\\\n",
              "ZL4KrDWJeLBkgdXX1+umm26SJDkcDpWXl+vIkSP6+OOPlZuba3I62JmvxqcVa1dEjcpfPGJPeV05\\\n",
              "1ppEPFniM7DeYKfjuOhh6274n/ur/iH9r+jDgOFwOObhwc62499rX2vy4s8Q2/+RcOkATWBmQL4a\\\n",
              "n9mREYOd3jstuQcG9Jj9/y/m5s5KivK6cqw1iXijwNC35dxrdoJ+gbUmYYa4ngcGxMW6f5mdoN9p\\\n",
              "X2vS6/WquKk4ckrCZm2WJA3WYNaaRI9jDwxAj2CtScQbBQagx7DWJOKJAgPQY1hrEvFEgQHoEbHW\\\n",
              "mlx84RZrOpESw9WiwABctXA4HHOh5LYLt1jTiV6vlylEXBUKDMBVY61JmIECA9AjWGsS8UaBAegx\\\n",
              "rDWJeGItRADd8t+jMyP3Mw//d8znsNakfdnpvZM9MAA9jrUmEQ8UGADAllgLEUC3dHbYEIg39sAA\\\n",
              "ALZkmQJbt26dnE6ncnJylJOTo5qamshjpaWlcrlcysjI0I4dO0xMCQCwCksdQiwuLtbKlSs7bDt0\\\n",
              "6JAqKip08OBBNTU1KS8vT4FAQAMHDjQpJQDACiyzB9aZyspKzZ8/X4MGDdKtt94ql8ulvXv3mh0L\\\n",
              "AGAySxXYxo0b5fF4tHjxYrW2tkqSQqGQhg8fHnlOWlqaQqGQWREBABYR1wLLy8vT2LFjo35VVlZq\\\n",
              "+fLlOnLkiPbv36/U1FT96le/6vbr+/1+5ebmKjc3Vy0tLb3wfwAAsIq4fga2a9euLj1v6dKlmj17\\\n",
              "tiTJ6XSqoaEh8lhjY6OcTmfM7/P5fPL5fJLOn00OAOi7LDPE0dzcrNTUVEnSG2+8obFjx0qSCgsL\\\n",
              "9dOf/lQPPfSQmpqaFAwGNXHixH/7evX19VEl1tLSoiFDhvR8+B5AtitDtitDtivTH7LV19dffZg4\\\n",
              "sUyBPfzww9q/f78cDofS09P1u9/9TpKUlZWlefPmacyYMUpISFB5eXmXJhBPnDgRtc3Ka3yR7cqQ\\\n",
              "7cqQ7cqQzVosU2Avvvhip4898sgjeuSRR+KYBgBgdZaaQgQAoKsGrutnF+YZP3682RE6RbYrQ7Yr\\\n",
              "Q7YrQzbr6LPXAwMA9G0cQgQA2FK/KLBHH31UHo9HOTk5mjFjhpqamiRJhmHowQcflMvlksfj0b59\\\n",
              "++Kaa9WqVRo9erQ8Ho/mzJmjtra2yGNmL2D86quvKisrSwMGDIiabDI7myRt375dGRkZcrlcWr9+\\\n",
              "vSkZLrZ48WKlpKRETv+QpC+++EL5+fkaNWqU8vPzI6vLxFNDQ4O8Xq/GjBmjrKwsbdiwwTLZTp48\\\n",
              "qYkTJyo7O1tZWVlau3atJOno0aOaNGmSXC6X7rnnHp0+fTru2dqdO3dOP/zhDyPnpVolW3p6usaN\\\n",
              "G6ecnJzI6UJW+JnGndEP/Otf/4rc37Bhg7Fs2TLDMAyjurrauPPOO43vv//e2L17tzFx4sS45tqx\\\n",
              "Y4dx5swZwzAM4+GHHzYefvhhwzAM4+DBg4bH4zFOnjxp/OMf/zBGjBhhnD17Nq7ZDh06ZBw+fNj4\\\n",
              "8Y9/bPz973+PbLdCtrNnzxojRowwjhw5Ypw6dcrweDzGwYMH45rhUn/5y1+MDz74wMjKyopsW7Vq\\\n",
              "lVFaWmoYhmGUlpZGfr7x1NTUZHzwwQeGYRjGl19+aYwaNco4ePCgJbJ9//33xldffWUYhmGcPn3a\\\n",
              "mDhxorF7927jJz/5ifHKK68YhmEYy5YtMzZt2hT3bO2efvppY8GCBcasWbMMwzAsk+2WW24xWlpa\\\n",
              "Omyzws803vrFHtj1118fuf/NN9/I4XBIOr9Q8H333SeHw6HJkyerra1Nzc3Nccs1Y8YMJSScP5Nh\\\n",
              "8uTJamxsjOQyewHjzMxMZWRkRG23Qra9e/fK5XJpxIgRuuaaazR//nxVVlbGNcOlpk6dqhtvvLHD\\\n",
              "tsrKSi1atEiStGjRIr355ptxz5WamqrbbrtNknTdddcpMzNToVDIEtkcDoeuvfZaSdKZM2d05swZ\\\n",
              "ORwOvfvuu7r77rtNzSadX/WnurpaP//5zyWdP2JjlWyxWOFnGm/9osCk8+eSDR8+XC+99JIef/xx\\\n",
              "SdZaKHjz5s2aOXOm5XJdygrZrJChK44fPx5ZXWbo0KE6fvy4qXnq6+v14YcfatKkSZbJdu7cOeXk\\\n",
              "5CglJUX5+fkaOXKkkpKSIv+wM/Nn+8tf/lJPPfWUBgw4/zYZDoctk83hcGjGjBkaP368/H6/JOv9\\\n",
              "eYsHy5zIfLXy8vJ07NixqO0lJSUqKipSSUmJSkpKVFpaqo0bN+qxxx6zRK72+wkJCVq4cGFcMnUn\\\n",
              "G3qGw+GI7Pmb4euvv9bcuXP1zDPPdDgiIZmbbeDAgdq/f7/a2to0Z84cHT582JQcl6qqqlJKSorG\\\n",
              "jx+v9957z+w4Uf72t7/J6XTq888/V35+vkaPHt3hcbP/vMVLnymwri4UvHDhQhUUFOixxx7r1kLB\\\n",
              "vZVry5Ytqqqq0jvvvBP5AxePXF3JFku8slk9Q1fcfPPNkTU+m5ublZKSYkqOM2fOaO7cuVq4cKHu\\\n",
              "uusuS2Vrl5SUJK/Xq927d6utrU1nz55VQkKCaT/b999/X2+99ZZqamp08uRJffnll1qxYoUlskmK\\\n",
              "/L4pKSmaM2eO9u7da7mfaTz0i0OIwWAwcr+ysjLyr5XCwkK98MILMgxDe/bs0Q033BDZBY+H7du3\\\n",
              "66mnntJbb72lxMTEyPbCwkJVVFTo1KlTOnr0aJcXMI4HK2SbMGGCgsGgjh49qtOnT6uiokKFhYVx\\\n",
              "zdAVhYWF2rp1qyRp69atpuzVGoahJUuWKDMzUw899JClsrW0tEQmb7/77jvt3LlTmZmZ8nq9eu21\\\n",
              "10zNVlpaqsbGRtXX16uiokK33367XnrpJUtk++abb/TVV19F7r/99tsaO3asJX6mcWfyEElc3HXX\\\n",
              "XUZWVpYxbtw4Y/bs2UZjY6NhGOenoO6//35jxIgRxtixYztM28XDyJEjjbS0NCM7O9vIzs6OTEca\\\n",
              "hmE88cQTxogRIwy3223U1NTENZdhGMbrr79uOJ1O45prrjFSUlKMGTNmWCabYZyfIB01apQxYsQI\\\n",
              "44knnjAlw8Xmz59vDB061EhISDCcTqfx+9//3jhx4oRx++23Gy6Xy5g+fboRDofjnuuvf/2rIckY\\\n",
              "N25c5M9ZdXW1JbJ99NFHRk5OjjFu3DgjKyvLeOyxxwzDMIwjR44YEyZMMEaOHGncfffdxsmTJ+Oe\\\n",
              "7WK1tbWRKUQrZDty5Ijh8XgMj8djjBkzJvLn3wo/03hjJQ4AgC31i0OIAIC+hwIDANgSBQYAsCUK\\\n",
              "DABgSxQYAMCWKDAAgC1RYAAAW6LAAAC2RIEBAGyJAgMA2BIFBgCwJQoMAGBLFBgAwJYoMACALVFg\\\n",
              "AABbosAAALZEgQEAbIkCA2jeMfAAAAATSURBVADYEgUGALAlCgwAYEv/H+zDHbqoZHiFAAAAAElF\\\n",
              "TkSuQmCC\\\n",
              "\"\n",
              "  frames[4] = \"data:image/png;base64,iVBORw0KGgoAAAANSUhEUgAAAbAAAAEgCAYAAADVKCZpAAAABHNCSVQICAgIfAhkiAAAAAlwSFlz\\\n",
              "AAALEgAACxIB0t1+/AAAADh0RVh0U29mdHdhcmUAbWF0cGxvdGxpYiB2ZXJzaW9uMy4yLjIsIGh0\\\n",
              "dHA6Ly9tYXRwbG90bGliLm9yZy+WH4yJAAAfv0lEQVR4nO3de2xUdf7/8ddAI0njpWylUqZdKwxT\\\n",
              "SmHaleGyCV+XkRblkjaIi7AY2cAyfHGNbF0QEmNAYy1r1m8locQdVxY0ar+rq9a0XAStm10D6VZE\\\n",
              "FL46I0uz7bRgGdv1ytXz+wM6v5aZsi20c84pz8eEZHpmOrxM67w4Z97ncxyGYRgCAMBmBpkdAACA\\\n",
              "y0GBAQBsiQIDANgSBQYAsCUKDABgSxQYAMCWKDAAgC1RYAAAW6LAAAC2RIEBAGyJAgMA2BIFBgCw\\\n",
              "JQoMAGBLFBgAwJYoMACALVFgAABbosAAALZEgQEAbIkCAwDYEgUGALAlCgwAYEsUGADAligwAIAt\\\n",
              "UWAAAFuiwAAAtkSBAQBsiQIDANgSBQYAsCUKDABgSxQYAMCWKDAAgC1RYAAAW7JUgZ08eVKTJk1S\\\n",
              "Xl6ecnNztW7dOknS0aNHNXnyZLlcLt1zzz06ffq0yUkBAGazVIENGTJE7777rj766CMdOHBAO3fu\\\n",
              "1L59+7RmzRqVlJTo888/19ChQ/X888+bHRUAYLIkswN05nA4dO2110qSzpw5ozNnzsjhcOjdd9/V\\\n",
              "yy+/LElavHix1q9frxUrVlzytW688UZlZWX1d2QAGFAaGhp04sQJs2P0iKUKTJLOnTunCRMm6PPP\\\n",
              "P9evf/1rjRo1SikpKUpKOh81IyND4XD4P75OVlaW6uvr+zsuAAwoXq/X7Ag9ZqlDiJI0ePBgHThw\\\n",
              "QE1NTaqrq9Onn37a4+8NBALyer3yer1qbW3tx5QAYC2RSKRX2wcCyxVYh5SUFPl8Pu3du1ft7e06\\\n",
              "e/asJKmpqUlOpzPu9/j9ftXX16u+vl7Dhg1LZFwAMEW4IqzS1aXyeDwKBoNdHgsGg5qaO1WBWQGT\\\n",
              "0vUvSxVYa2ur2tvbJUnff/+9du/erZycHPl8Pr322muSpG3btqm4uNjMmABgCeGKsEIPhOT8vVPf\\\n",
              "NX8nn88XLbFgMKji24q15vgauXe4B2SJWarAWlpa5PP55PF4NHHiRBUWFmrOnDn63e9+p//5n/+R\\\n",
              "y+VSJBLR0qVLzY4KAKbb2rBVDWpQlrJUrvJoidXU1ETLK0tZalCD1uxYo/Xr15sduU85DMMwzA7R\\\n",
              "H7xeL0McAAasSCQij8ej75q/U7nKo0VVohJJitnWrnaNGDFCBw8eVGpqareva6f3TkvtgQEAeiY1\\\n",
              "NVW1tbVKHpGsEpVE98S2XLjFK6/a2tpLlpfdUGAAYFNut7tLibWpTUMv3NrUFlNebrfb7Mh9igID\\\n",
              "ABtzu90KBC49oBEIBAZceUkUGADYWjAY1Kqlq1Su8uieV8eeWLnKlaIU+f3+mBH7gYACAwCb6jwq\\\n",
              "3/GZ15ILt3jTiQOtxCgwALChSCQSU14dn3m1q73LYEfnEhtIK3NQYABgQ6mpqSq5tSTutGF1dXXM\\\n",
              "dOI0TdOyZcuYQgQAmM+/3a/gzGDMtOHs2bO7TCdu1EblrcsbcCcyU2AAYGP+7X6tXLcyZlS+84j9\\\n",
              "QCwviZU4AGBAiEQicQ8Pdre9O3Z677Tc9cAAAF1lra2J3m/YMDvuc7orqYH0mdfFOIQIALAlCgwA\\\n",
              "YEscQgQAi+vusOHVjj0wAIAtUWAAAFuiwAAAtkSBAQBsyVIF1tjYKJ/Pp7Fjxyo3N1cbN26UJH35\\\n",
              "5ZcqLCzU6NGjVVhYqLa2NpOTAgDMZqkCS0pK0tNPP63Dhw9r3759qqio0OHDh7VhwwZNnz5doVBI\\\n",
              "06dP14YNG8yOCgAwmaUKLD09Xbfeeqsk6brrrlNOTo7C4bCqqqq0ePFiSdLixYv15ptvmhkTAGAB\\\n",
              "liqwzhoaGvThhx9q8uTJOn78uNLT0yVJw4cP1/Hjx01OBwAwmyVPZP7mm280b948PfPMM7r++uu7\\\n",
              "POZwOORwOOJ+XyAQUCAQkCS1trb2e04AgHkstwd25swZzZs3T4sWLdJdd90lSbrpppvU0tIiSWpp\\\n",
              "aVFaWlrc7/X7/aqvr1d9fb2GDRuWsMwAgMSzVIEZhqGlS5cqJydHDz30UHR7UVGRtm3bJknatm2b\\\n",
              "iouLzYoIALAISx1CfP/99/Xiiy9q/Pjxys/PlyQ9+eSTWrt2rebPn6/nn39eN998s/785z+bnBQA\\\n",
              "YDZLFdjUqVPV3fU133nnnQSnAQBYmaUOIQIA0FMUGADAligwAIAtUWAAAFuiwAAAtkSBAQBsiQID\\\n",
              "ANgSBQYAsCUKDABgSxQYAMCWKDAAgC1RYAAAW6LAAAC2RIEBAGyJAgMA2BIFBgCwJQoMAGBLliuw\\\n",
              "JUuWKC0tTePGjYtu+/LLL1VYWKjRo0ersLBQbW1tJiaUIpFIr7YDAPqe5Qrsl7/8pXbu3Nll24YN\\\n",
              "GzR9+nSFQiFNnz5dGzZsMCVbuCKs0tWl8ng8CgaDXR4LBoOamjtVgVkBU7IBwNXGcgV222236Uc/\\\n",
              "+lGXbVVVVVq8eLEkafHixXrzzTcTnitcEVbogZCcv3fqu+bv5PP5oiUWDAZVfFux1hxfI/cONyUG\\\n",
              "AAlguQKL5/jx40pPT5ckDR8+XMePH094hq0NW9WgBmUpS+Uqj5ZYTU1NtLyylKUGNWjNjjVav359\\\n",
              "wjMCwNXEFgXWmcPhkMPhiPtYIBCQ1+uV1+tVa2trn/2dkUhEm1/erBKVxJTYvXPu7VJeJSpRu9r1\\\n",
              "3HPP8ZkYAPQjWxTYTTfdpJaWFklSS0uL0tLS4j7P7/ervr5e9fX1GjZsWJ/9/ampqaqtrVXyiOQu\\\n",
              "Jbblwu3i8hoxYoRqa2uVmpraZxkAAF3ZosCKioq0bds2SdK2bdtUXFyc8Axut7tLibWpTUMv3NrU\\\n",
              "FlNebrc74RkB4GpiuQJbuHChfvrTn+qzzz5TRkaGnn/+ea1du1a7d+/W6NGjtWfPHq1du9aUbG63\\\n",
              "W4HApQc0AoEA5QUACeAwDMMwO0R/8Hq9qq+v79PX7DxtmKUsten8+WhDNTR6CDF5RDJ7YABsqz/e\\\n",
              "O/uL5fbArOri8mpQg5ZcuMWbTrz4PDEAQN+iwHogEonElFfHZ17tao87nejz+ZhCBIB+RIH1QGpq\\\n",
              "qkpuLYk7bVhdXR0znThN07Rs2TKmEAGgH1FgPeTf7ldwZjBm2nD27NldphM3aqPy1uVxIjMA9DMK\\\n",
              "rBf82/1auW5lzKh85xF7ygsAEoMpxIs0rf1b9H7Ghv+K+5xIJBL38GB32wH0Dv+PmYcpxAGuu/+B\\\n",
              "+B8LuDJc8QG9QYEBsASu+IDeosAukrHhv6J/ACQOV3xAb1FgAEzHFR9wOSgwAKbjig+4HBQYAEvg\\\n",
              "ig/oLQoMgGVwxQf0BgUGwDKCwaBWLV2lcpVH97w69sTKVa4Upcjv97NYNiRRYAAsgis+oLcoMACm\\\n",
              "44oPuBwUGADTccUHXA4KDIAlcMUH9JZtCmznzp3Kzs6Wy+XShg0bzI4DoB9wxQf0hi1Woz937pzc\\\n",
              "brd2796tjIwMTZw4Ua+88orGjh3b7ffYaUVl4Gozftv46P2PF38c8zir0ZvHTu+dttgDq6urk8vl\\\n",
              "0siRI3XNNddowYIFqqqqMjsWgH7CFR/QE7YosHA4rMzMzOjXGRkZCofDJiYCAJgtyewAfSkQCETP\\\n",
              "4m9tbTU5DYDuxDtsCPSWLfbAnE6nGhsbo183NTXJ6XTGPM/v96u+vl719fUaNmxYIiMCABLMFgU2\\\n",
              "ceJEhUIhHT16VKdPn1ZlZaWKiorMjgUAMJEtDiEmJSVp06ZNuuOOO3Tu3DktWbJEubm5ZscCAJjI\\\n",
              "FgUmSbNmzdKsWbPMjgEAsAhbHEIEAOBiFBiQQN0tPsuitEDvUWBAAoQrwipdXSqPxxNzGZBgMKip\\\n",
              "uVMVmHXpCzkC6IoCA/pZuCKs0AMhOX/vjLmWVedrYLl3uCkxoBcoMKCfbW3YGvdaVjU1NTHXwFqz\\\n",
              "Yw0L1QI9RIEB/SgSiWjzy5vjXpDx3jn3xr2A43PPPcdnYkAPUGBAP0pNTe1yLauOEtty4RbvAo61\\\n",
              "tbUsWgv0AAUG9LPO17IqUYna1KahF25taospr45rYAG4NAoMSAC32x1daLo7gUCA8gJ6gQIDEiAY\\\n",
              "DGrV0lUqV3l0z6tjT6xc5UpRivx+f8yIPYDuUWBAP+s8Kt/xmdeSC7d404mUGNAzFBjQjyKRSEx5\\\n",
              "dXzm1a72uNOJPp+PKUSgBygwoB+lpqaq5NaSuNOG1dXVMdOJ0zRNy5YtYwoR6AEKDOhn/u1+BWcG\\\n",
              "Y6YNZ8+e3WU6caM2Km9dHicyAz1EgQEJ4N/u18p1K2NG5TuP2FNeQO84DMMwzA7RH7xer+rr682O\\\n",
              "gavI0/fMid7/7f9Wx31OJBKJe3iwu+1AotnpvZM9MCCBuispygvoPQoMAGBLlimwV199Vbm5uRo0\\\n",
              "aFDM7mtZWZlcLpeys7O1a9cukxICl/bb/62O/gHQ/5LMDtBh3Lhxev3117V8+fIu2w8fPqzKykod\\\n",
              "OnRIzc3NKigoUDAY1ODBg01KCgCwAsvsgeXk5Cg7Oztme1VVlRYsWKAhQ4bolltukcvlUl1dnQkJ\\\n",
              "AQBWYpkC6044HFZmZmb064yMDIXDYRMTAQCsIKGHEAsKCnTs2LGY7aWlpSouLr7i1w8EAtEVv1tb\\\n",
              "W6/49QAA1pXQAtuzZ0+vv8fpdKqxsTH6dVNTk5xOZ9zn+v1++f1+SefPZQAADFyWP4RYVFSkyspK\\\n",
              "nTp1SkePHlUoFNKkSZPMjgUAMJllCuyNN95QRkaG9u7dq9mzZ+uOO+6QJOXm5mr+/PkaO3as7rzz\\\n",
              "TlVUVDCBCABgKSkAwP9np/dOy+yBAQDQGxQYAMCWKDAAgC1RYAAAW6LAAAC2RIEBAGyJAgMA2BIF\\\n",
              "BgCwJQoMAGBLFBgAwJYoMACALVFgAABbosAAALZEgQEAbIkCAwDYEgUGALAlCgwAYEuWKbDVq1dr\\\n",
              "zJgx8ng8mjt3rtrb26OPlZWVyeVyKTs7W7t27TIxJQDAKixTYIWFhfrkk0908OBBud1ulZWVSZIO\\\n",
              "Hz6syspKHTp0SDt37tT999+vc+fOmZwWAGA2yxTYjBkzlJSUJEmaMmWKmpqaJElVVVVasGCBhgwZ\\\n",
              "oltuuUUul0t1dXVmRgUAWIBlCqyzLVu2aObMmZKkcDiszMzM6GMZGRkKh8NmRQMAWERSIv+ygoIC\\\n",
              "HTt2LGZ7aWmpiouLo/eTkpK0aNGiXr9+IBBQIBCQJLW2tl5ZWACApSW0wPbs2XPJx7du3arq6mq9\\\n",
              "8847cjgckiSn06nGxsboc5qamuR0OuN+v9/vl9/vlyR5vd4+Sg0AsCLLHELcuXOnnnrqKb311ltK\\\n",
              "Tk6Obi8qKlJlZaVOnTqlo0ePKhQKadKkSSYmBQBYQUL3wC7lgQce0KlTp1RYWCjp/CDHs88+q9zc\\\n",
              "XM2fP19jx45VUlKSKioqNHjwYJPTAgDM5jAMwzA7RH/wer2qr683OwYA2Iqd3jstcwgRAIDeoMAA\\\n",
              "ALZEgQEAbIkCAwDYEgUGALAlCgwAYEsUGADAligwAIAtUWAAAFuiwAAAtkSBAQBsiQIDANgSBQYA\\\n",
              "sCUKDABgSxQYAMCWKDAAgC1RYAAAW6LAAAC2ZJkCe/TRR+XxeJSfn68ZM2aoublZkmQYhh588EG5\\\n",
              "XC55PB7t37/f5KQAACuwTIGtXr1aBw8e1IEDBzRnzhw9/vjjkqQdO3YoFAopFAopEAhoxYoVJie1\\\n",
              "v0gk0qvtAGBFlimw66+/Pnr/22+/lcPhkCRVVVXpvvvuk8Ph0JQpU9Te3q6WlhazYtpauCKs0tWl\\\n",
              "8ng8CgaDXR4LBoOamjtVgVkBk9IBQO9YpsAk6ZFHHlFmZqZeeuml6B5YOBxWZmZm9DkZGRkKh8Nm\\\n",
              "RbStcEVYoQdCcv7eqe+av5PP54uWWDAYVPFtxVpzfI3cO9yUGABbSGiBFRQUaNy4cTF/qqqqJEml\\\n",
              "paVqbGzUokWLtGnTpl6/fiAQkNfrldfrVWtra1/Ht7WtDVvVoAZlKUvlKo+WWE1NTbS8spSlBjVo\\\n",
              "zY41Wr9+vdmRAeCSHIZhGGaHuNi//vUvzZo1S5988omWL1+uadOmaeHChZKk7Oxsvffee0pPT7/k\\\n",
              "a3i9XtXX1yciruVFIhF5PB591/ydylUeLaoSlUhSzLZ2tWvEiBE6ePCgUlNTTU4PIJHs9N5pmUOI\\\n",
              "oVAoer+qqkpjxoyRJBUVFemFF16QYRjat2+fbrjhhv9YXugqNTVVtbW1Sh6RrBKVRPfEtly4xSuv\\\n",
              "2tpayguApSWZHaDD2rVr9dlnn2nQoEG6+eab9eyzz0qSZs2ape3bt8vlcik5OVl/+tOfTE5qT263\\\n",
              "W7W1tfL5fCppLtEWbdFQDZUktaktprzcbrfJiQHg0ixTYH/5y1/ibnc4HKqoqEhwmoHJ7XYrEAjo\\\n",
              "3jn3dvucQCBAeQGwBcscQkT/CwaDWrV0lcpVrqEaqrYLt6EaqnKVK0Up8vv9MSP2AGBFFNhVovOo\\\n",
              "fMdnXksu3OJNJ1JiAKyOArsKRCKRmPLq+MyrXe1dBjs6lxgrcwCwMgrsKpCamqqSW0viThtWV1fH\\\n",
              "TCdO0zQtW7aMKUQAlkaBXSX82/0KzgzGTBvOnj27y4j9Rm1U3ro8TmQGYHkU2FXEv92vletWxozK\\\n",
              "d4zYJ49IprwA2IYlV+LoC3Y6m7wvVfz3u9H7v3729rjPiUQicQ8PdrcdwNXDTu+d7IFdhborKcoL\\\n",
              "gJ1QYAAAW7LMShzoG90dNgSAgYY9MACALVFgAABbosAAALZEgeGq1N0yWSyfBdgHBYarSrgirNLV\\\n",
              "pfJ4PDELFgeDQU3NnarArIBJ6QD0BgWGq0a4IqzQAyE5f++MWXW/82r97h1uSgywAQoMV42tDVvj\\\n",
              "rrpfU1MTs1r/mh1rWFILsDgKDFeFSCSizS9vjnvpmHvn3Bv3UjPPPfccn4kBFma5Anv66aflcDh0\\\n",
              "4sQJSZJhGHrwwQflcrnk8Xi0f/9+kxPCjlJTU7usut9RYlsu3OJdaqa2tpbltQALs1SBNTY26u23\\\n",
              "39aPf/zj6LYdO3YoFAopFAopEAhoxYoVJiaEnXVedb9EJWpTm4ZeuLWpLaa8OlbrB2BNliqwkpIS\\\n",
              "PfXUU3I4HNFtVVVVuu++++RwODRlyhS1t7erpaXFxJSwM7fbrUDg0gMagUCA8gJswDIFVlVVJafT\\\n",
              "qby8vC7bw+GwMjMzo19nZGQoHA4nOh4GiGAwqFVLV6lc5dE9r449sXKVK0Up8vv9MSP2AKwnoYv5\\\n",
              "FhQU6NixYzHbS0tL9eSTT+rtt9++otcPBALRf123trZe0Wth4Ok8Kt/5My9JKld5dLCjpLlEPp+P\\\n",
              "w4iAxVnigpYff/yxpk+fruTkZElSU1OTRowYobq6Oq1bt07Tpk3TwoULJUnZ2dl67733lJ6efsnX\\\n",
              "tNNF2dD/IpGIpuZOjTttKEkpSomWWMdjySOSdfDgQQY5cFWx03unJQ4hjh8/Xl988YUaGhrU0NCg\\\n",
              "jIwM7d+/X8OHD1dRUZFeeOEFGYahffv26YYbbviP5QVcLDU1VSW3lsSdNqyuro6ZTpymaVq2bBnl\\\n",
              "BViYJQrsUmbNmqWRI0fK5XJp2bJl2rx5s9mRYFP+7X4FZwZjpg1nz57dZTpxozYqb10eJzJfAdaa\\\n",
              "RCJYssAaGhp04403SpIcDocqKip05MgRffzxx/J6vSang535t/u1ct3KmFH5ziP2lNflY61JJJIl\\\n",
              "PgPrD3Y6jos+tv6GTvf/HfcpkUgk7uHB7rbjP+tYa7LzZ4gd/0i4eIAmODMo/3a/2ZERh53eOy25\\\n",
              "Bwb0t+5KivK6fKw1iUSjwABcMdaahBkSeh4YkBDdHDZE/+lYa9Ln86mkuSR6SsIWbZEkDdVQ1ppE\\\n",
              "n2MPDECfYK1JJBoFBqDPsNYkEokCA9BnWGsSiUSBAegT8daaXHLhFm86kRLDlaLAAFyxSCQSd6Hk\\\n",
              "9gu3eNOJPp+PKURcEQoMwBVjrUmYgQID0CdYaxKJRoEB6DOsNYlEYi1EAL3yf2NyovdzPv2/uM9h\\\n",
              "rUn7stN7J3tgAPoca00iESgwAIAtsRYigF7p7rAhkGjsgQEAbMkyBbZ+/Xo5nU7l5+crPz9f27dv\\\n",
              "jz5WVlYml8ul7Oxs7dq1y8SUAACrsNQhxJKSEq1atarLtsOHD6uyslKHDh1Sc3OzCgoKFAwGNXjw\\\n",
              "YJNSAgCswDJ7YN2pqqrSggULNGTIEN1yyy1yuVyqq6szOxYAwGSWKrBNmzbJ4/FoyZIlamtrkySF\\\n",
              "w2FlZmZGn5ORkaFwOGxWRACARSS0wAoKCjRu3LiYP1VVVVqxYoWOHDmiAwcOKD09Xb/97W97/fqB\\\n",
              "QEBer1der1etra398F8AALCKhH4GtmfPnh49b9myZZozZ44kyel0qrGxMfpYU1OTnE5n3O/z+/3y\\\n",
              "+/2Szp9NDgAYuCwzxNHS0qL09HRJ0htvvKFx48ZJkoqKivSLX/xCDz30kJqbmxUKhTRp0qT/+HoN\\\n",
              "DQ0xJdba2qphw4b1ffg+QLbLQ7bLQ7bLczVka2houPIwCWKZAnv44Yd14MABORwOZWVl6Q9/+IMk\\\n",
              "KTc3V/Pnz9fYsWOVlJSkioqKHk0gnjhxImabldf4ItvlIdvlIdvlIZu1WKbAXnzxxW4fe+SRR/TI\\\n",
              "I48kMA0AwOosNYUIAEBPDV5/lV2YZ8KECWZH6BbZLg/ZLg/ZLg/ZrGPAXg8MADCwcQgRAGBLA77A\\\n",
              "Hn30UXk8HuXn52vGjBlqbm6WJBmGoQcffFAul0sej0f79+9PeLbVq1drzJgx8ng8mjt3rtrb26OP\\\n",
              "mb2A8auvvqrc3FwNGjQoZrLJ7GyStHPnTmVnZ8vlcmnDhg2mZOhsyZIlSktLi57+IUlffvmlCgsL\\\n",
              "NXr0aBUWFkZXl0mkxsZG+Xw+jR07Vrm5udq4caNlsp08eVKTJk1SXl6ecnNztW7dOknS0aNHNXny\\\n",
              "ZLlcLt1zzz06ffp0wrN1OHfunH7yk59Ez0u1SrasrCyNHz9e+fn50dOFrPAzTThjgPv3v/8dvb9x\\\n",
              "40Zj+fLlhmEYRk1NjXHnnXcaP/zwg7F3715j0qRJCc+2a9cu48yZM4ZhGMbDDz9sPPzww4ZhGMah\\\n",
              "Q4cMj8djnDx50vjnP/9pjBw50jh79mxCsx0+fNj49NNPjZ/97GfGP/7xj+h2K2Q7e/asMXLkSOPI\\\n",
              "kSPGqVOnDI/HYxw6dCihGS7217/+1fjggw+M3Nzc6LbVq1cbZWVlhmEYRllZWfTnm0jNzc3GBx98\\\n",
              "YBiGYXz11VfG6NGjjUOHDlki2w8//GB8/fXXhmEYxunTp41JkyYZe/fuNX7+858br7zyimEYhrF8\\\n",
              "+XJj8+bNCc/W4emnnzYWLlxozJ492zAMwzLZbr75ZqO1tbXLNiv8TBNtwO+BXX/99dH73377rRwO\\\n",
              "h6TziwTfd999cjgcmjJlitrb29XS0pLQbDNmzFBS0vkzGaZMmaKmpqZoNrMXMM7JyVF2dnbMditk\\\n",
              "q6urk8vl0siRI3XNNddowYIFqqqqSmiGi91222360Y9+1GVbVVWVFi9eLElavHix3nzzzYTnSk9P\\\n",
              "16233ipJuu6665STk6NwOGyJbA6HQ9dee60k6cyZMzpz5owcDofeffdd3X333aZmk86v+lNTU6Nf\\\n",
              "/epXks4ftbFKtnis8DNNtAFfYNL588gyMzP10ksv6fHHH5dkvUWCt2zZopkzZ0qyXrbOrJDNChl6\\\n",
              "4vjx49HVZYYPH67jx4+bmqehoUEffvihJk+ebJls586dU35+vtLS0lRYWKhRo0YpJSUl+g87M3+2\\\n",
              "v/nNb/TUU09p0KDzb5ORSMQy2RwOh2bMmKEJEyYoEAhIst7vWyJY5kTmK1FQUKBjx47FbC8tLVVx\\\n",
              "cbFKS0tVWlqqsrIybdq0SY899phlsnXcT0pK0qJFixKWq6fZ0DccDkd0798M33zzjebNm6dnnnmm\\\n",
              "y1EJydxsgwcP1oEDB9Te3q65c+fq008/NSXHxaqrq5WWlqYJEybovffeMztOjL///e9yOp364osv\\\n",
              "VFhYqDFjxnR53Ozft0QZEAXW00WCFy1apFmzZumxxx7r1SLB/Zlt69atqq6u1jvvvBP9hbNKtngS\\\n",
              "lc3qGXripptuiq7x2dLSorS0NFNynDlzRvPmzdOiRYt01113WSpbh5SUFPl8Pu3du1ft7e06e/as\\\n",
              "kpKSTPvZvv/++3rrrbe0fft2nTx5Ul999ZVWrlxpiWySon9vWlqa5s6dq7q6Osv9TBNhwB9CDIVC\\\n",
              "0ftVVVXRf6kUFRXphRdekGEY2rdvn2644Ybo7nei7Ny5U0899ZTeeustJScnR7cXFRWpsrJSp06d\\\n",
              "0tGjR3u8gHEiWCHbxIkTFQqFdPToUZ0+fVqVlZUqKipKaIaeKCoq0rZt2yRJ27ZtM2Wv1jAMLV26\\\n",
              "VDk5OXrooYcsla21tTU6efv9999r9+7dysnJkc/n02uvvWZqtrKyMjU1NamhoUGVlZW6/fbb9dJL\\\n",
              "L1ki27fffquvv/46ev/tt9/WuHHjLPEzTTiTh0j63V133WXk5uYa48ePN+bMmWM0NTUZhnF+Aur+\\\n",
              "++83Ro4caYwbN67LpF2ijBo1ysjIyDDy8vKMvLy86ISkYRjGE088YYwcOdJwu93G9u3bE57t9ddf\\\n",
              "N5xOp3HNNdcYaWlpxowZMyyTzTDOT5GOHj3aGDlypPHEE0+YkqGzBQsWGMOHDzeSkpIMp9Np/PGP\\\n",
              "fzROnDhh3H777YbL5TKmT59uRCKRhOf629/+Zkgyxo8fH/09q6mpsUS2jz76yMjPzzfGjx9v5Obm\\\n",
              "Go899phhGIZx5MgRY+LEicaoUaOMu+++2zh58mTCs3VWW1sbnUK0QrYjR44YHo/H8Hg8xtixY6O/\\\n",
              "/1b4mSYaK3EAAGxpwB9CBAAMTBQYAMCWKDAAgC1RYAAAW6LAAAC2RIEBAGyJAgMA2BIFBgCwJQoM\\\n",
              "AGBLFBgAwJYoMACALVFgAABbosAAALZEgQEAbIkCAwDYEgUGALAlCgwAYEsUGADAligwAIAtUWAA\\\n",
              "AFv6f/0MCPKmMVg/AAAAAElFTkSuQmCC\\\n",
              "\"\n",
              "\n",
              "\n",
              "    /* set a timeout to make sure all the above elements are created before\n",
              "       the object is initialized. */\n",
              "    setTimeout(function() {\n",
              "        anim821cb162418c4b2ebe6cffb7073e470d = new Animation(frames, img_id, slider_id, 500.0,\n",
              "                                 loop_select_id);\n",
              "    }, 0);\n",
              "  })()\n",
              "</script>\n"
            ]
          },
          "metadata": {},
          "execution_count": 220
        }
      ]
    },
    {
      "cell_type": "markdown",
      "source": [
        "## That's all folks\n",
        "\n",
        "We have seen that MeanShift can be easily implemented in JAX. Similarly we could easily implement with JAX any of the other clustering algorithms: k-means clustering, dbscan, locality sensitive hashing.\n",
        "\n",
        "I hope you enjoyed this article, feel free to leave a comment or reach out on twitter [@bachiirc](https://twitter.com/bachiirc)."
      ],
      "metadata": {
        "id": "ynGNqYEwyA5D"
      }
    }
  ]
}