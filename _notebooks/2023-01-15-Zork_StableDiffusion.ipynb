{
  "nbformat": 4,
  "nbformat_minor": 0,
  "metadata": {
    "colab": {
      "provenance": []
    },
    "kernelspec": {
      "name": "python3",
      "display_name": "Python 3"
    },
    "language_info": {
      "name": "python"
    },
    "accelerator": "GPU",
    "gpuClass": "standard"
  },
  "cells": [
    {
      "cell_type": "markdown",
      "source": [
        "# Text adventure game with Stable Diffusion\n",
        "> Learn how to use Stable Diffusion in Flax and Gradio to bring to life a text-based adventure game like Zork\n",
        "\n",
        "- toc: false\n",
        "- badges: true\n",
        "- comments: true\n",
        "- author: dzlab\n",
        "- categories: [flax, vision, diffusion]"
      ],
      "metadata": {
        "id": "Se1N-H4USymo"
      }
    },
    {
      "cell_type": "markdown",
      "source": [
        "[Text adventures](https://en.wikipedia.org/wiki/Text-based_game) are text-based games wherein worlds are described in the narrative and the player submits instructions to interact with the worlds. Text-based adventure games were very popular in the 1970s and 1980s. In this article, we will bring to life one of popular games called Zork. We will use Stable Diffusion to generate images corresponding to the scenes descriptions, and [Gradio](https://gradio.app/) to interact with the user."
      ],
      "metadata": {
        "id": "mmClPQpWUTM1"
      }
    },
    {
      "cell_type": "markdown",
      "source": [
        "![zork](https://upload.wikimedia.org/wikipedia/en/a/ac/Zork_I_box_art.jpg)\n",
        "_Zork a text-based adventure game (source [wikipedia](https://en.wikipedia.org/wiki/Zork))_"
      ],
      "metadata": {
        "id": "5JdSBFoTUxHE"
      }
    },
    {
      "cell_type": "markdown",
      "source": [
        "## Setup\n",
        "First, let's install dependencies and import needed modules."
      ],
      "metadata": {
        "id": "EAo8wJ08UIsr"
      }
    },
    {
      "cell_type": "code",
      "execution_count": 1,
      "metadata": {
        "id": "u8S3N739VtH4"
      },
      "outputs": [],
      "source": [
        "%%capture\n",
        "%%bash\n",
        "\n",
        "pip install gradio\n",
        "pip install --upgrade diffusers transformers\n",
        "pip install --upgrade flax"
      ]
    },
    {
      "cell_type": "code",
      "source": [
        "import numpy as np\n",
        "import gradio as gr\n",
        "import jax\n",
        "import jax.numpy as jnp\n",
        "import numpy as np\n",
        "from flax.jax_utils import replicate\n",
        "from flax.training.common_utils import shard"
      ],
      "metadata": {
        "id": "8YBclYcfV7FK"
      },
      "execution_count": 2,
      "outputs": []
    },
    {
      "cell_type": "markdown",
      "source": [
        "## Stable Diffusion\n",
        "Second, let's initiate a Flax Stable Diffusion pipeline and download the model weights."
      ],
      "metadata": {
        "id": "gVCYBAhuNjJg"
      }
    },
    {
      "cell_type": "code",
      "source": [
        "%%capture\n",
        "from diffusers import FlaxStableDiffusionPipeline\n",
        "\n",
        "pipeline, pipeline_params = FlaxStableDiffusionPipeline.from_pretrained(\n",
        "    \"stabilityai/stable-diffusion-2-1\", revision=\"bf16\", dtype=jax.numpy.bfloat16\n",
        ")"
      ],
      "metadata": {
        "id": "1uQ3qWExwj5Y"
      },
      "execution_count": 3,
      "outputs": []
    },
    {
      "cell_type": "markdown",
      "source": [
        "> Note: to learn more about how to use Stable Diffusion in Flax check this tutorial - [link](https://dzlab.github.io/notebooks/flax/vision/diffusion/2022/12/09/Stable_Diffusion_in_Flax_TPU.html)."
      ],
      "metadata": {
        "id": "RrsZ6wZzYc_u"
      }
    },
    {
      "cell_type": "code",
      "source": [
        "num_samples = jax.device_count()\n",
        "prng_seed = jax.random.PRNGKey(0)\n",
        "prng_seed = jax.random.split(prng_seed, num_samples)\n",
        "num_inference_steps = 50\n",
        "\n",
        "params = replicate(pipeline_params)\n",
        "\n",
        "vae, vae_params = pipeline.vae, pipeline_params['vae']"
      ],
      "metadata": {
        "id": "GBbIMm1pyOMK"
      },
      "execution_count": 4,
      "outputs": []
    },
    {
      "cell_type": "code",
      "source": [
        "def prepare_inputs(prompt, num_samples):\n",
        "    prompt = num_samples * [prompt]\n",
        "    prompt_ids = pipeline.prepare_inputs(prompt)\n",
        "    prompt_ids = shard(prompt_ids)\n",
        "    return prompt_ids"
      ],
      "metadata": {
        "id": "t07r7QaGxYDZ"
      },
      "execution_count": 5,
      "outputs": []
    },
    {
      "cell_type": "code",
      "source": [
        "def pil_to_latents(pil_image, height=768, width=768):\n",
        "    # Single image -> single latent in a batch (so size 1, 4, 64, 64)\n",
        "    image = np.asarray(pil_image)\n",
        "    image = jax.image.resize(image, (height, width, 3), \"bicubic\")\n",
        "    image = (image / 127.5 - 1.0).astype(np.float32)\n",
        "    input_im = jnp.expand_dims(image, axis=0)\n",
        "    input_im = jnp.transpose(input_im, (0, 3, 1, 2))\n",
        "    # encode the image\n",
        "    latents = vae.apply({\"params\": vae_params}, input_im, method=vae.encode)\n",
        "    return 0.18215 * latents.latent_dist.sample(prng_seed)"
      ],
      "metadata": {
        "id": "u-s3NsbE7Lwe"
      },
      "execution_count": 6,
      "outputs": []
    },
    {
      "cell_type": "code",
      "source": [
        "def generate(prompt, pil_image=None, target_height=768, target_width=768):\n",
        "    prompt_ids = prepare_inputs(prompt, num_samples)\n",
        "    neg_prompt_ids = prepare_inputs('ugly, low quality', num_samples)\n",
        "    if pil_image:\n",
        "        latents = pil_to_latents(pil_image, target_height, target_width)\n",
        "        latents = jnp.transpose(latents, (0, 3, 1, 2))\n",
        "        latents = jnp.expand_dims(latents, axis=0)\n",
        "    else:\n",
        "        latents = None\n",
        "    output = pipeline(prompt_ids, params, prng_seed, num_inference_steps,\n",
        "                      neg_prompt_ids=neg_prompt_ids,\n",
        "                      height = target_height, width = target_width,\n",
        "                      latents=latents, jit=True)\n",
        "    images = output.images\n",
        "    images = np.asarray(images.reshape((num_samples,) + images.shape[-3:]))\n",
        "    images = pipeline.numpy_to_pil(images)\n",
        "    return images"
      ],
      "metadata": {
        "id": "VUHZRYkqx1R4"
      },
      "execution_count": 7,
      "outputs": []
    },
    {
      "cell_type": "markdown",
      "source": [
        "## Text-based adventure game\n",
        "\n",
        "https://github.com/iamjawa/zork-py"
      ],
      "metadata": {
        "id": "4Mx4IKtsNLAY"
      }
    },
    {
      "cell_type": "code",
      "source": [
        "class Zork:\n",
        "    def __init__(self):\n",
        "        self.loop = 4\n",
        "        self.end = False\n",
        "    \n",
        "    def welcome(self):\n",
        "        lines = []\n",
        "        lines.append(\"Welcome to Zork - The Unofficial Python Version.\")\n",
        "        return '\\n'.join(lines)\n",
        "\n",
        "    def _First_Input_Loop(self, second):\n",
        "        loop, message = self.loop, ''\n",
        "        if second.lower() == (\"take mailbox\"):\n",
        "            message = \"It is securely anchored.\"\n",
        "        elif second.lower() == (\"open mailbox\"):\n",
        "            message = \"Opening the small mailbox reveals a leaflet.\"\n",
        "        elif second.lower() == (\"go east\"):\n",
        "            message = \"The door is boarded and you cannot remove the boards.\"\n",
        "        elif second.lower() == (\"open door\"):\n",
        "            message = \"The door cannot be opened.\"\n",
        "        elif second.lower() == (\"take boards\"):\n",
        "            message = \"The boards are securely fastened.\"\n",
        "        elif second.lower() == (\"look at house\"):\n",
        "            message = \"The house is a beautiful colonial house which is painted white. It is clear that the owners must have been extremely wealthy.\"\n",
        "        elif second.lower() == (\"go southwest\"):\n",
        "            loop = 8\n",
        "        elif second.lower() == (\"read leaflet\"):\n",
        "            message = \"Welcome to the Unofficial Python Version of Zork. Your mission is to find a Jade Statue.\"\n",
        "        else:\n",
        "            pass\n",
        "        return loop, message\n",
        "\n",
        "    def _Southwest_Loop(self, forest_inp):\n",
        "        loop, message = self.loop, ''\n",
        "        if forest_inp.lower() == (\"go west\"):\n",
        "            message = \"You would need a machete to go further west.\"\n",
        "        elif forest_inp.lower() == (\"go north\"):\n",
        "            message = \"The forest becomes impenetrable to the North.\"\n",
        "        elif forest_inp.lower() == (\"go south\"):\n",
        "            message = \"Storm-tossed trees block your way.\"\n",
        "        elif forest_inp.lower() == (\"go east\"):\n",
        "            loop = 9\n",
        "        else:\n",
        "            pass\n",
        "        return loop, message\n",
        "\n",
        "    def _East_Loop(self, grating_inp):\n",
        "        loop, message = self.loop, ''\n",
        "        if grating_inp.lower() == (\"go south\"):\n",
        "            message = \"You see a large ogre and turn around.\"\n",
        "        elif grating_inp.lower() == (\"descend grating\"):\n",
        "            loop = 10\n",
        "        else:\n",
        "            pass\n",
        "        return loop, message\n",
        "\n",
        "    def _Grating_Loop(self, cave_inp):\n",
        "        loop, message = self.loop, ''\n",
        "        if cave_inp.lower() == (\"descend staircase\"):\n",
        "            loop = 11\n",
        "        elif cave_inp.lower() == (\"take skeleton\"):\n",
        "            message = \"Why would you do that? Are you some sort of sicko?\"\n",
        "        elif cave_inp.lower() == (\"smash skeleton\"):\n",
        "            message = \"Sick person. Have some respect mate.\"\n",
        "        elif cave_inp.lower() == (\"light up room\"):\n",
        "            message = \"You would need a torch or lamp to do that.\"\n",
        "        elif cave_inp.lower() == (\"break skeleton\"):\n",
        "            message = \"I have two questions: Why and With What?\"\n",
        "        elif cave_inp.lower() == (\"go down staircase\"):\n",
        "            loop = 11\n",
        "        elif cave_inp.lower() == (\"scale staircase\"):\n",
        "            loop = 11\n",
        "        elif cave_inp.lower() == (\"suicide\"):\n",
        "            print(\"---------------------------------------------------------\")\n",
        "            print(\"You throw yourself down the staircase as an attempt at suicide. You die.\")\n",
        "            print(\"---------------------------------------------------------\")\n",
        "            suicide_inp = input(\"Do you want to continue? Y/N \")\n",
        "            if suicide_inp.lower() == (\"n\"):\n",
        "                exit()\n",
        "            if suicide_inp.lower() == (\"y\"):\n",
        "                loop = 4\n",
        "        elif cave_inp.lower() == (\"scale staircase\"):\n",
        "            loop = 11\n",
        "        else:\n",
        "            pass\n",
        "        return loop, message\n",
        "\n",
        "    def _End_of_game(self, last_inp):\n",
        "        loop, message = self.loop, ''\n",
        "        if last_inp.lower() == (\"open trunk\"):\n",
        "            message = \"You have found the Jade Statue and have completed your quest!\"\n",
        "        else:\n",
        "            pass\n",
        "        return loop, message\n",
        "\n",
        "    def play(self, instruction=None):\n",
        "        loop, message, prompt = self.loop, None, None\n",
        "        if self.end:\n",
        "            pass\n",
        "        elif not instruction:\n",
        "            prompt = self._prompt()\n",
        "        elif self.loop == 4:\n",
        "            loop, message = self._First_Input_Loop(instruction)\n",
        "        elif self.loop == 8:\n",
        "            loop, message = self._Southwest_Loop(instruction)\n",
        "        elif self.loop == 9:\n",
        "            loop, message = self._East_Loop(instruction)\n",
        "        elif self.loop == 10:\n",
        "            loop, message = self._Grating_Loop(instruction)\n",
        "        elif self.loop == 11:\n",
        "            loop, message = self._End_of_game(instruction)\n",
        "        if not self.loop == loop:\n",
        "            self.loop = loop\n",
        "            prompt = self._prompt()\n",
        "\n",
        "        return message, prompt\n",
        "\n",
        "    def _prompt(self):\n",
        "        lines = []\n",
        "        if self.loop == 4:\n",
        "            lines.append(\"You are standing in an open field west of a white house, with a boarded front door.\")\n",
        "            lines.append(\"(A secret path leads southwest into the forest.)\")\n",
        "            lines.append(\"There is a Small Mailbox.\")\n",
        "        elif self.loop == 8:\n",
        "            lines.append(\"This is a forest, with trees in all directions. To the east, there appears to be sunlight.\")\n",
        "\t\t\t\n",
        "        elif self.loop == 9:\n",
        "            lines.append(\"You are in a clearing, with a forest surrounding you on all sides. A path leads south.\")\n",
        "            lines.append(\"There is an open grating, descending into darkness.\")\n",
        "\t\t\t\n",
        "        elif self.loop == 10:\n",
        "            lines.append(\"You are in a tiny cave with a dark, forbidding staircase leading down.\")\n",
        "            lines.append(\"There is a skeleton of a human male in one corner.\")\n",
        "\t\t\t\n",
        "        elif self.loop == 11:\n",
        "            lines.append(\"You have entered a mud-floored room.\")\n",
        "            lines.append(\"Lying half buried in the mud is an old trunk, bulging with jewels.\")\n",
        "\t\t\t\n",
        "        return lines"
      ],
      "metadata": {
        "id": "DqqewSaFcF4D"
      },
      "execution_count": 8,
      "outputs": []
    },
    {
      "cell_type": "markdown",
      "source": [
        "## Zork meets Stable Diffusion"
      ],
      "metadata": {
        "id": "FqrP_8B8Nzd4"
      }
    },
    {
      "cell_type": "code",
      "source": [
        "separator = \"---------------------------------------------------------\"\n",
        "game = Zork()\n",
        "message, prompt = game.play()\n",
        "history = [game.welcome(), separator, \"\"] + prompt\n",
        "images = generate(', '.join(prompt))\n",
        "\n",
        "def play(instruction):\n",
        "  message, prompt = game.play(instruction)\n",
        "  if prompt:\n",
        "    history.append(separator)\n",
        "    for line in prompt:\n",
        "        history.append(line)\n",
        "    images.append(generate(', '.join(prompt))[0])\n",
        "  if message:\n",
        "    history.append(separator)\n",
        "    history.append(message)\n",
        "    images.append(generate(message)[0])\n",
        "  return '\\n'.join(history), images[-1]"
      ],
      "metadata": {
        "id": "pe182_XZ9ABj"
      },
      "execution_count": 12,
      "outputs": []
    },
    {
      "cell_type": "code",
      "source": [
        "with gr.Blocks() as demo:\n",
        "  with gr.Row():\n",
        "    with gr.Column(scale=1, min_width=100):\n",
        "      image = gr.Image(images[-1])\n",
        "    with gr.Column(scale=1, min_width=100):\n",
        "      text = gr.TextArea('\\n'.join(history), label=\"Output\", interactive=True)\n",
        "      prompt = gr.Textbox(label=\"Input\", placeholder=\"What do you do?\")\n",
        "      submit_btn = gr.Button(\"Submit\")\n",
        "      submit_btn.click(fn=play, inputs=prompt, outputs=[text, image])\n",
        "\n",
        "demo.launch(share=True, debug=True)"
      ],
      "metadata": {
        "colab": {
          "base_uri": "https://localhost:8080/",
          "height": 645
        },
        "id": "clYCwR6WV1Ke",
        "outputId": "ea9827a3-0662-4d86-c1f0-4ed0bc86d828"
      },
      "execution_count": 13,
      "outputs": [
        {
          "output_type": "stream",
          "name": "stdout",
          "text": [
            "Colab notebook detected. This cell will run indefinitely so that you can see errors and logs. To turn off, set debug=False in launch().\n",
            "Running on public URL: https://7a70b01e-cbaf-41cf.gradio.live\n",
            "\n",
            "This share link expires in 72 hours. For free permanent hosting and GPU upgrades (NEW!), check out Spaces: https://huggingface.co/spaces\n"
          ]
        },
        {
          "output_type": "display_data",
          "data": {
            "text/plain": [
              "<IPython.core.display.HTML object>"
            ],
            "text/html": [
              "<div><iframe src=\"https://7a70b01e-cbaf-41cf.gradio.live\" width=\"100%\" height=\"500\" allow=\"autoplay; camera; microphone; clipboard-read; clipboard-write;\" frameborder=\"0\" allowfullscreen></iframe></div>"
            ]
          },
          "metadata": {}
        },
        {
          "output_type": "stream",
          "name": "stdout",
          "text": [
            "Keyboard interruption in main thread... closing server.\n",
            "Killing tunnel 127.0.0.1:7860 <> https://7a70b01e-cbaf-41cf.gradio.live\n"
          ]
        },
        {
          "output_type": "execute_result",
          "data": {
            "text/plain": []
          },
          "metadata": {},
          "execution_count": 13
        }
      ]
    },
    {
      "cell_type": "markdown",
      "source": [
        "## That's all folks\n",
        "\n",
        "Stable Diffusion is a very neat model allowing the generation of images from text. In this article, we explored the use case of remaking a text-based game with Stable Diffusion.\n",
        "\n",
        "I hope you enjoyed this article, feel free to leave a comment or reach out on twitter [@bachiirc](https://twitter.com/bachiirc)."
      ],
      "metadata": {
        "id": "gCuUFvg3S1xI"
      }
    }
  ]
}