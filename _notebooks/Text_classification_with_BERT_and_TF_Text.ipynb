{
  "nbformat": 4,
  "nbformat_minor": 0,
  "metadata": {
    "colab": {
      "name": "Text classification with BERT and TF Text.ipynb",
      "provenance": [],
      "collapsed_sections": []
    },
    "kernelspec": {
      "name": "python3",
      "display_name": "Python 3"
    },
    "accelerator": "GPU"
  },
  "cells": [
    {
      "cell_type": "markdown",
      "metadata": {
        "id": "Es7C01DMqnDD",
        "colab_type": "text"
      },
      "source": [
        "# Text classification with BERT using TF Text"
      ]
    },
    {
      "cell_type": "markdown",
      "metadata": {
        "id": "e30h6j0xEX4R",
        "colab_type": "text"
      },
      "source": [
        "## Setup"
      ]
    },
    {
      "cell_type": "code",
      "metadata": {
        "id": "muRHzojsOua9",
        "colab_type": "code",
        "outputId": "39e38eb5-1dc3-4ff0-9762-06c55ae2fd20",
        "colab": {
          "base_uri": "https://localhost:8080/",
          "height": 34
        }
      },
      "source": [
        "try:\n",
        "    # %tensorflow_version only exists in Colab.\n",
        "    %tensorflow_version 2.x\n",
        "except Exception:\n",
        "    pass"
      ],
      "execution_count": 1,
      "outputs": [
        {
          "output_type": "stream",
          "text": [
            "TensorFlow 2.x selected.\n"
          ],
          "name": "stdout"
        }
      ]
    },
    {
      "cell_type": "markdown",
      "metadata": {
        "id": "iulp7BaCEZXi",
        "colab_type": "text"
      },
      "source": [
        "### Install dependencies"
      ]
    },
    {
      "cell_type": "code",
      "metadata": {
        "id": "_-iKPDcHbYx4",
        "colab_type": "code",
        "colab": {}
      },
      "source": [
        "%%capture\n",
        "%%bash\n",
        "\n",
        "pip install -U tensorflow-text"
      ],
      "execution_count": 0,
      "outputs": []
    },
    {
      "cell_type": "markdown",
      "metadata": {
        "id": "rQ3-KiIVEdAF",
        "colab_type": "text"
      },
      "source": [
        "### Import modules"
      ]
    },
    {
      "cell_type": "code",
      "metadata": {
        "id": "qOHwB-I2XKGa",
        "colab_type": "code",
        "colab": {}
      },
      "source": [
        "import numpy as np\n",
        "import pandas as pd\n",
        "import seaborn as sns\n",
        "import matplotlib.pyplot as plt\n",
        "from sklearn.model_selection import train_test_split\n",
        "\n",
        "import tensorflow as tf\n",
        "import tensorflow_text as text\n",
        "import tensorflow_hub as hub\n",
        "import tensorflow_datasets as tfds\n",
        "\n",
        "from tensorflow.keras.layers import Dense, Dropout, Input\n",
        "from tensorflow.keras.models import Model"
      ],
      "execution_count": 0,
      "outputs": []
    },
    {
      "cell_type": "markdown",
      "metadata": {
        "id": "1HYHIgrLS6s6",
        "colab_type": "text"
      },
      "source": [
        "Set default options for modules"
      ]
    },
    {
      "cell_type": "code",
      "metadata": {
        "id": "9jQlYK43OyeR",
        "colab_type": "code",
        "colab": {}
      },
      "source": [
        "pd.set_option('display.max_colwidth', -1)"
      ],
      "execution_count": 0,
      "outputs": []
    },
    {
      "cell_type": "markdown",
      "metadata": {
        "id": "PDC_KpphEklD",
        "colab_type": "text"
      },
      "source": [
        "### GPU check"
      ]
    },
    {
      "cell_type": "code",
      "metadata": {
        "id": "ARnpXr_jW8rC",
        "colab_type": "code",
        "outputId": "611dd2e2-885e-4d9e-b4b3-932f67eecc4f",
        "colab": {
          "base_uri": "https://localhost:8080/",
          "height": 34
        }
      },
      "source": [
        "num_gpus_available = len(tf.config.experimental.list_physical_devices('GPU'))\n",
        "print(\"Num GPUs Available: \", num_gpus_available)\n",
        "assert num_gpus_available > 0"
      ],
      "execution_count": 3,
      "outputs": [
        {
          "output_type": "stream",
          "text": [
            "Num GPUs Available:  1\n"
          ],
          "name": "stdout"
        }
      ]
    },
    {
      "cell_type": "code",
      "metadata": {
        "id": "7FCL3l5Ov2ce",
        "colab_type": "code",
        "colab": {}
      },
      "source": [
        "config = {\n",
        "  'seed': 31,\n",
        "  'batch_size': 64,\n",
        "  'epochs': 10,\n",
        "  'max_seq_len': 128\n",
        "}"
      ],
      "execution_count": 0,
      "outputs": []
    },
    {
      "cell_type": "markdown",
      "metadata": {
        "id": "ANWpdz_8W9fM",
        "colab_type": "text"
      },
      "source": [
        "## Data"
      ]
    },
    {
      "cell_type": "markdown",
      "metadata": {
        "id": "ebEfOAKbFRLD",
        "colab_type": "text"
      },
      "source": [
        "Download the pretrained BERT model"
      ]
    },
    {
      "cell_type": "code",
      "metadata": {
        "id": "ZiacD9PburcV",
        "colab_type": "code",
        "outputId": "d7bcb805-0bf2-433b-c133-809c13e47c29",
        "colab": {
          "base_uri": "https://localhost:8080/",
          "height": 50
        }
      },
      "source": [
        "BERT_URL = \"https://tfhub.dev/tensorflow/bert_en_uncased_L-12_H-768_A-12/1\"\n",
        "bert_layer = hub.KerasLayer(BERT_URL, trainable=False)\n",
        "\n",
        "vocab_file = bert_layer.resolved_object.vocab_file.asset_path.numpy()\n",
        "do_lower_case = bert_layer.resolved_object.do_lower_case.numpy()\n",
        "print(f'BERT vocab is stored at     : {vocab_file}')\n",
        "print(f'BERT model is case sensitive: {do_lower_case}')"
      ],
      "execution_count": 5,
      "outputs": [
        {
          "output_type": "stream",
          "text": [
            "BERT vocab is stored at     : b'/tmp/tfhub_modules/03d6fb3ce1605ad9e5e9ed5346b2fb9623ef4d3d/assets/vocab.txt'\n",
            "BERT model is case sensitive: True\n"
          ],
          "name": "stdout"
        }
      ]
    },
    {
      "cell_type": "markdown",
      "metadata": {
        "id": "NLgQEUEfFV31",
        "colab_type": "text"
      },
      "source": [
        "Load the vocab file that corresponds to the pretrained BERT"
      ]
    },
    {
      "cell_type": "code",
      "metadata": {
        "id": "eNUBgxULvWuK",
        "colab_type": "code",
        "colab": {}
      },
      "source": [
        "def load_vocab(vocab_file):\n",
        "  \"\"\"Load a vocabulary file into a list.\"\"\"\n",
        "  vocab = []\n",
        "  with tf.io.gfile.GFile(vocab_file, \"r\") as reader:\n",
        "    while True:\n",
        "      token = reader.readline()\n",
        "      if not token: break\n",
        "      token = token.strip()\n",
        "      vocab.append(token)\n",
        "  return vocab\n",
        "\n",
        "vocab = load_vocab(vocab_file)"
      ],
      "execution_count": 0,
      "outputs": []
    },
    {
      "cell_type": "markdown",
      "metadata": {
        "id": "tVJ0oPs7FdQs",
        "colab_type": "text"
      },
      "source": [
        "Use BERT vocab to create a word to index lookup table"
      ]
    },
    {
      "cell_type": "code",
      "metadata": {
        "id": "y7w8hpZXvZ3b",
        "colab_type": "code",
        "colab": {}
      },
      "source": [
        "def create_vocab_table(vocab, num_oov=1):\n",
        "  \"\"\"Create a lookup table for a vocabulary\"\"\"\n",
        "  vocab_values = tf.range(tf.size(vocab, out_type=tf.int64), dtype=tf.int64)\n",
        "  init = tf.lookup.KeyValueTensorInitializer(keys=vocab, values=vocab_values, key_dtype=tf.string, value_dtype=tf.int64)\n",
        "  vocab_table = tf.lookup.StaticVocabularyTable(init, num_oov, lookup_key_dtype=tf.string)\n",
        "  return vocab_table\n",
        "\n",
        "vocab_lookup_table = create_vocab_table(vocab)"
      ],
      "execution_count": 0,
      "outputs": []
    },
    {
      "cell_type": "markdown",
      "metadata": {
        "id": "FwdtdYOQQoD6",
        "colab_type": "text"
      },
      "source": [
        "Use BERT vocab to create a index to word lookup table"
      ]
    },
    {
      "cell_type": "code",
      "metadata": {
        "id": "tf8THWzpQkbr",
        "colab_type": "code",
        "colab": {}
      },
      "source": [
        "def create_index2word(vocab):\n",
        "  # Create a lookup table for a index to token\n",
        "  vocab_values = tf.range(tf.size(vocab, out_type=tf.int64), dtype=tf.int64)\n",
        "  init = tf.lookup.KeyValueTensorInitializer(keys=vocab_values, values=vocab)\n",
        "  return tf.lookup.StaticHashTable(initializer=init, default_value=tf.constant('unk'), name=\"index2word\")\n",
        "\n",
        "index2word = create_index2word(vocab)"
      ],
      "execution_count": 0,
      "outputs": []
    },
    {
      "cell_type": "markdown",
      "metadata": {
        "id": "JHdb7G7IWJVu",
        "colab_type": "text"
      },
      "source": [
        "Check out the indices for the following tokens"
      ]
    },
    {
      "cell_type": "code",
      "metadata": {
        "id": "B71MVRh8VZht",
        "colab_type": "code",
        "outputId": "a1b976e7-f7df-45ee-ca4f-fd6c6d2d1bd7",
        "colab": {
          "base_uri": "https://localhost:8080/",
          "height": 34
        }
      },
      "source": [
        "vocab_lookup_table.lookup(tf.constant(['[PAD]', '[UNK]', '[CLS]', '[SEP]', '[MASK]']))"
      ],
      "execution_count": 8,
      "outputs": [
        {
          "output_type": "execute_result",
          "data": {
            "text/plain": [
              "<tf.Tensor: shape=(5,), dtype=int64, numpy=array([  0, 100, 101, 102, 103])>"
            ]
          },
          "metadata": {
            "tags": []
          },
          "execution_count": 8
        }
      ]
    },
    {
      "cell_type": "markdown",
      "metadata": {
        "id": "kGgWrWvNSsfx",
        "colab_type": "text"
      },
      "source": [
        "Check out the token corresponding to an index"
      ]
    },
    {
      "cell_type": "code",
      "metadata": {
        "id": "0rBtb1-xQLGb",
        "colab_type": "code",
        "colab": {
          "base_uri": "https://localhost:8080/",
          "height": 34
        },
        "outputId": "88a1b422-0691-4370-bc8b-b73156bfca4f"
      },
      "source": [
        "index2word.lookup(tf.constant([0], dtype='int64')).numpy()"
      ],
      "execution_count": 83,
      "outputs": [
        {
          "output_type": "execute_result",
          "data": {
            "text/plain": [
              "[b'[PAD]']"
            ]
          },
          "metadata": {
            "tags": []
          },
          "execution_count": 83
        }
      ]
    },
    {
      "cell_type": "markdown",
      "metadata": {
        "id": "9wXzW6ZCFKpw",
        "colab_type": "text"
      },
      "source": [
        "Create a BERT tokenizer using TF Text"
      ]
    },
    {
      "cell_type": "code",
      "metadata": {
        "id": "f1bCGYVUvcBP",
        "colab_type": "code",
        "colab": {}
      },
      "source": [
        "tokenizer = text.BertTokenizer(\n",
        "    vocab_lookup_table,\n",
        "    token_out_type=tf.int64,\n",
        "    lower_case=do_lower_case\n",
        "  )"
      ],
      "execution_count": 0,
      "outputs": []
    },
    {
      "cell_type": "markdown",
      "metadata": {
        "id": "lP3kDYwRFCUS",
        "colab_type": "text"
      },
      "source": [
        "Lookup for the BERT token IDs for padding and start/end of sentence."
      ]
    },
    {
      "cell_type": "code",
      "metadata": {
        "id": "SkuL-S1rNdVO",
        "colab_type": "code",
        "colab": {}
      },
      "source": [
        "PAD_ID = vocab_lookup_table.lookup(tf.constant('[PAD]')) # padding token\n",
        "CLS_ID = vocab_lookup_table.lookup(tf.constant('[CLS]')) # class token\n",
        "SEP_ID = vocab_lookup_table.lookup(tf.constant('[SEP]')) # sequence separator token"
      ],
      "execution_count": 0,
      "outputs": []
    },
    {
      "cell_type": "markdown",
      "metadata": {
        "id": "Sy76XD_NGSrt",
        "colab_type": "text"
      },
      "source": [
        "### Preprocessing"
      ]
    },
    {
      "cell_type": "markdown",
      "metadata": {
        "id": "Pg2mAik1E15u",
        "colab_type": "text"
      },
      "source": [
        "Define the logic to preprocess data and format it as required by BERT"
      ]
    },
    {
      "cell_type": "code",
      "metadata": {
        "id": "yKHcCi9IIQB9",
        "colab_type": "code",
        "colab": {}
      },
      "source": [
        "def preprocess(record):\n",
        "  review, label = record['text'], record['label']\n",
        "  # process review to calculate BERT input\n",
        "  ids, mask, type_ids = preprocess_bert_input(review)\n",
        "  return (ids, mask, type_ids), label\n",
        "\n",
        "def preprocess_bert_input(review):\n",
        "  # calculate tokens ID\n",
        "  ids = tokenize_text(review, config['max_seq_len'])\n",
        "  # calculate mask\n",
        "  mask = tf.cast(ids > 0, tf.int64)\n",
        "  mask = tf.reshape(mask, [-1, config['max_seq_len']])\n",
        "  # calculate tokens type ID\n",
        "  zeros_dims = tf.stack(tf.shape(mask))\n",
        "  type_ids = tf.fill(zeros_dims, 0)\n",
        "  type_ids = tf.cast(type_ids, tf.int64)\n",
        "\n",
        "  return (ids, mask, type_ids)\n",
        "\n",
        "def tokenize_text(review, seq_len):\n",
        "  # convert text into token ids\n",
        "  tokens = tokenizer.tokenize(review)\n",
        "  # flatten the output ragged tensors\n",
        "  tokens = tokens.merge_dims(1, 2)[:, :seq_len]\n",
        "  # Add start and end token ids to the id sequence\n",
        "  start_tokens = tf.fill([tf.shape(review)[0], 1], CLS_ID)\n",
        "  end_tokens = tf.fill([tf.shape(review)[0], 1], SEP_ID)\n",
        "  tokens = tokens[:, :seq_len - 2]\n",
        "  tokens = tf.concat([start_tokens, tokens, end_tokens], axis=1)\n",
        "  # truncate sequences greater than MAX_SEQ_LEN\n",
        "  tokens = tokens[:, :seq_len]\n",
        "  # pad shorter sequences with the pad token id\n",
        "  tokens = tokens.to_tensor(default_value=PAD_ID)\n",
        "  pad = seq_len - tf.shape(tokens)[1]\n",
        "  tokens = tf.pad(tokens, [[0, 0], [0, pad]], constant_values=PAD_ID)\n",
        "\n",
        "  # and finally reshape the word token ids to fit the output \n",
        "  # data structure of TFT \n",
        "  return tf.reshape(tokens, [-1, seq_len])"
      ],
      "execution_count": 0,
      "outputs": []
    },
    {
      "cell_type": "markdown",
      "metadata": {
        "id": "JuQZV1--GPSn",
        "colab_type": "text"
      },
      "source": [
        "### Dataset"
      ]
    },
    {
      "cell_type": "markdown",
      "metadata": {
        "id": "7Vu6LfSwEw_l",
        "colab_type": "text"
      },
      "source": [
        "Download the dataset from TF Hub and process it"
      ]
    },
    {
      "cell_type": "code",
      "metadata": {
        "id": "b-9ip1n4JBBt",
        "colab_type": "code",
        "colab": {}
      },
      "source": [
        "train_ds, valid_ds = tfds.load('imdb_reviews', split=['train', 'test'], shuffle_files=True)\n",
        "\n",
        "train_ds = train_ds.shuffle(1024).batch(config['batch_size']).prefetch(tf.data.experimental.AUTOTUNE)\n",
        "valid_ds = valid_ds.shuffle(1024).batch(config['batch_size']).prefetch(tf.data.experimental.AUTOTUNE)\n",
        "\n",
        "train_ds, valid_ds = train_ds.map(preprocess), valid_ds.map(preprocess)"
      ],
      "execution_count": 0,
      "outputs": []
    },
    {
      "cell_type": "markdown",
      "metadata": {
        "id": "TTW4XX4PF-6y",
        "colab_type": "text"
      },
      "source": [
        "## Model"
      ]
    },
    {
      "cell_type": "code",
      "metadata": {
        "id": "ymCSWiOnX12s",
        "colab_type": "code",
        "colab": {}
      },
      "source": [
        "input_ids = Input(shape=(config['max_seq_len'],), dtype=tf.int32, name=\"input_ids\")\n",
        "input_mask = Input(shape=(config['max_seq_len'],), dtype=tf.int32, name=\"input_mask\")\n",
        "input_type_ids = Input(shape=(config['max_seq_len'],), dtype=tf.int32, name=\"input_type_ids\")\n",
        "\n",
        "pooled_output, sequence_output = bert_layer([input_ids, input_mask, input_type_ids])\n",
        "drop_out = Dropout(0.3, name=\"dropout\")(pooled_output)\n",
        "output = Dense(1, activation='sigmoid', name=\"linear\")(drop_out)\n",
        "\n",
        "model = Model(inputs=[input_ids, input_mask, input_type_ids], outputs=output)\n",
        "model.compile(optimizer=\"adam\", loss=\"binary_crossentropy\", metrics=[\"accuracy\"])"
      ],
      "execution_count": 0,
      "outputs": []
    },
    {
      "cell_type": "code",
      "metadata": {
        "id": "5J1Kk9NDsu3r",
        "colab_type": "code",
        "outputId": "22290b14-db67-4590-8c52-44c222969e18",
        "colab": {
          "base_uri": "https://localhost:8080/",
          "height": 386
        }
      },
      "source": [
        "model.summary()"
      ],
      "execution_count": 35,
      "outputs": [
        {
          "output_type": "stream",
          "text": [
            "Model: \"model_1\"\n",
            "__________________________________________________________________________________________________\n",
            "Layer (type)                    Output Shape         Param #     Connected to                     \n",
            "==================================================================================================\n",
            "input_ids (InputLayer)          [(None, 128)]        0                                            \n",
            "__________________________________________________________________________________________________\n",
            "input_mask (InputLayer)         [(None, 128)]        0                                            \n",
            "__________________________________________________________________________________________________\n",
            "input_type_ids (InputLayer)     [(None, 128)]        0                                            \n",
            "__________________________________________________________________________________________________\n",
            "keras_layer (KerasLayer)        [(None, 768), (None, 109482241   input_ids[0][0]                  \n",
            "                                                                 input_mask[0][0]                 \n",
            "                                                                 input_type_ids[0][0]             \n",
            "__________________________________________________________________________________________________\n",
            "dropout (Dropout)               (None, 768)          0           keras_layer[1][0]                \n",
            "__________________________________________________________________________________________________\n",
            "linear (Dense)                  (None, 1)            769         dropout[0][0]                    \n",
            "==================================================================================================\n",
            "Total params: 109,483,010\n",
            "Trainable params: 769\n",
            "Non-trainable params: 109,482,241\n",
            "__________________________________________________________________________________________________\n"
          ],
          "name": "stdout"
        }
      ]
    },
    {
      "cell_type": "markdown",
      "metadata": {
        "id": "jsNvnpGvqwbG",
        "colab_type": "text"
      },
      "source": [
        "### Training"
      ]
    },
    {
      "cell_type": "code",
      "metadata": {
        "id": "JV0uG54vuILI",
        "colab_type": "code",
        "outputId": "4e41bed0-28ed-4417-c965-3c41e7cf90bf",
        "colab": {
          "base_uri": "https://localhost:8080/",
          "height": 370
        }
      },
      "source": [
        "model.fit(train_ds, validation_data=valid_ds, epochs=config['epochs'])"
      ],
      "execution_count": 36,
      "outputs": [
        {
          "output_type": "stream",
          "text": [
            "Epoch 1/10\n",
            "391/391 [==============================] - 499s 1s/step - loss: 0.6654 - accuracy: 0.6016 - val_loss: 0.5977 - val_accuracy: 0.7028\n",
            "Epoch 2/10\n",
            "391/391 [==============================] - 510s 1s/step - loss: 0.6063 - accuracy: 0.6712 - val_loss: 0.5650 - val_accuracy: 0.7282\n",
            "Epoch 3/10\n",
            "391/391 [==============================] - 510s 1s/step - loss: 0.5839 - accuracy: 0.6969 - val_loss: 0.5494 - val_accuracy: 0.7362\n",
            "Epoch 4/10\n",
            "391/391 [==============================] - 511s 1s/step - loss: 0.5730 - accuracy: 0.7025 - val_loss: 0.5388 - val_accuracy: 0.7455\n",
            "Epoch 5/10\n",
            "391/391 [==============================] - 510s 1s/step - loss: 0.5696 - accuracy: 0.7058 - val_loss: 0.5376 - val_accuracy: 0.7417\n",
            "Epoch 6/10\n",
            "391/391 [==============================] - 510s 1s/step - loss: 0.5613 - accuracy: 0.7146 - val_loss: 0.5268 - val_accuracy: 0.7517\n",
            "Epoch 7/10\n",
            "391/391 [==============================] - 510s 1s/step - loss: 0.5608 - accuracy: 0.7130 - val_loss: 0.5233 - val_accuracy: 0.7544\n",
            "Epoch 8/10\n",
            "391/391 [==============================] - 510s 1s/step - loss: 0.5625 - accuracy: 0.7106 - val_loss: 0.5217 - val_accuracy: 0.7555\n",
            "Epoch 9/10\n",
            "391/391 [==============================] - 510s 1s/step - loss: 0.5603 - accuracy: 0.7125 - val_loss: 0.5199 - val_accuracy: 0.7535\n",
            "Epoch 10/10\n",
            "391/391 [==============================] - 510s 1s/step - loss: 0.5567 - accuracy: 0.7159 - val_loss: 0.5150 - val_accuracy: 0.7591\n"
          ],
          "name": "stdout"
        },
        {
          "output_type": "execute_result",
          "data": {
            "text/plain": [
              "<tensorflow.python.keras.callbacks.History at 0x7f2fffddba58>"
            ]
          },
          "metadata": {
            "tags": []
          },
          "execution_count": 36
        }
      ]
    },
    {
      "cell_type": "markdown",
      "metadata": {
        "id": "m2tOXt07qyf9",
        "colab_type": "text"
      },
      "source": [
        "### Evaluation"
      ]
    },
    {
      "cell_type": "code",
      "metadata": {
        "id": "Do5GuWuaGLrB",
        "colab_type": "code",
        "colab": {}
      },
      "source": [
        "test_text_ds = tfds.load('imdb_reviews', split='unsupervised', shuffle_files=True)\n",
        "test_ds = test_text_ds.shuffle(1024).batch(config['batch_size']).prefetch(tf.data.experimental.AUTOTUNE)\n",
        "test_ds = test_ds.map(preprocess)"
      ],
      "execution_count": 0,
      "outputs": []
    },
    {
      "cell_type": "markdown",
      "metadata": {
        "id": "3BpJa0LkSNm2",
        "colab_type": "text"
      },
      "source": [
        "Check how test text is tokenized"
      ]
    },
    {
      "cell_type": "code",
      "metadata": {
        "id": "vYlZzPBcxh4p",
        "colab_type": "code",
        "colab": {}
      },
      "source": [
        "test_text = [record['text'].numpy() for record in test_text_ds.take(10)]"
      ],
      "execution_count": 0,
      "outputs": []
    },
    {
      "cell_type": "code",
      "metadata": {
        "id": "fmZCq3gyMlQg",
        "colab_type": "code",
        "colab": {}
      },
      "source": [
        "ids = tokenize_text(test_text, config['max_seq_len'])"
      ],
      "execution_count": 0,
      "outputs": []
    },
    {
      "cell_type": "code",
      "metadata": {
        "id": "r3GmHOAVRpYs",
        "colab_type": "code",
        "colab": {}
      },
      "source": [
        "tokens = [b' '.join(tokens_array) for tokens_array in index2word.lookup(ids).numpy()]"
      ],
      "execution_count": 0,
      "outputs": []
    },
    {
      "cell_type": "code",
      "metadata": {
        "id": "H0QfupzZP4mp",
        "colab_type": "code",
        "colab": {
          "base_uri": "https://localhost:8080/",
          "height": 763
        },
        "outputId": "5eab275c-b7c3-4525-c3d1-3ba513dcfddc"
      },
      "source": [
        "pd.DataFrame({'tokens': tokens})"
      ],
      "execution_count": 91,
      "outputs": [
        {
          "output_type": "execute_result",
          "data": {
            "text/html": [
              "<div>\n",
              "<style scoped>\n",
              "    .dataframe tbody tr th:only-of-type {\n",
              "        vertical-align: middle;\n",
              "    }\n",
              "\n",
              "    .dataframe tbody tr th {\n",
              "        vertical-align: top;\n",
              "    }\n",
              "\n",
              "    .dataframe thead th {\n",
              "        text-align: right;\n",
              "    }\n",
              "</style>\n",
              "<table border=\"1\" class=\"dataframe\">\n",
              "  <thead>\n",
              "    <tr style=\"text-align: right;\">\n",
              "      <th></th>\n",
              "      <th>tokens</th>\n",
              "    </tr>\n",
              "  </thead>\n",
              "  <tbody>\n",
              "    <tr>\n",
              "      <th>0</th>\n",
              "      <td>b\"[CLS] spoil ##er - now knowing the ending i find it so clever that the whole movie takes place in a motel and each character has a different room . even sane people have many different aspects to their personality , but they don ' t let them become dominant - - they are controlled . malcolm ' s various personalities and needs were person ##ified in each character . the prostitute mother ( amanda pee ##t ) , the part of him who hated her for being a prostitute ( larry ) , the loving mother he wish he had , the loving father he wish he had , the selfish part of himself ( actress ) , the violent part of his personality ( ray [SEP]\"</td>\n",
              "    </tr>\n",
              "    <tr>\n",
              "      <th>1</th>\n",
              "      <td>b\"[CLS] i knew about this film long before i saw it . in fact , i had to buy the dvd in order to see it because no video store carried it . i didn ' t mind spending the $ 12 to buy it used because i collect off the wall movies . the new limited edition double dvd has great sound and visually not bad . i found myself laughing much more then &lt; br / &gt; &lt; br / &gt; jolt ##ing in fear , although there were a few scenes were i was startled . &lt; br / &gt; &lt; br / &gt; if you enjoy off the wall 70s sci - fi / horror movies , you probably will eat this one [SEP]\"</td>\n",
              "    </tr>\n",
              "    <tr>\n",
              "      <th>2</th>\n",
              "      <td>b\"[CLS] this movie is really really awful . it ' s as bad as zombie 90 well maybe not that bad but pretty close . if your a fan of the italian horror movies then you might like this movie . i thought that it was dam near un ##watch ##able of course i ' m not a fan of the italian movies . the only italian movie that was ok was jungle holocaust . which is one over ##rated movie . this film is way over ##rated . but let ' s get started with how horrible this film really is shall we . the acting is goofy and horrible . the effects suck . no plot with this movie . little gore which is the [SEP]\"</td>\n",
              "    </tr>\n",
              "    <tr>\n",
              "      <th>3</th>\n",
              "      <td>b'[CLS] wait a minute . . . yes i do . &lt; br / &gt; &lt; br / &gt; the director of \\' the breed \\' has obviously seen terry gill ##iam \\' s \\' brazil \\' a few too many times and asked himself the question , \" if \\' brazil \\' had been an ill - conceived tale about vampires in the near future , what would it be like ? \" well , i \\' ll tell ya , it \\' d be like 91 minutes of a swedish whore kicking you in the groin , only not as satisfying . the dialogue was laced with gr ##at ##uit ##ous curse words and tri ##te one - liner ##s , and whoever edited this [SEP]'</td>\n",
              "    </tr>\n",
              "    <tr>\n",
              "      <th>4</th>\n",
              "      <td>b\"[CLS] this is the type of movie that ' s just barely involving enough for one viewing , but i don ' t think i could stand to watch it again . it looks and plays like a mid - seventies tv movie , only with some gr ##at ##uit ##ous sex and violence thrown in . &lt; br / &gt; &lt; br / &gt; i agree with several previous posters - - her ##ve ville ##chai ##ze is not very menacing , and at times even comes off as un ##int ##ended comedy . at least the other two villains make up for that . also , it was jolt ##ing to see jonathan fr ##id is such a pedestrian role , which definitely under - [SEP]\"</td>\n",
              "    </tr>\n",
              "    <tr>\n",
              "      <th>5</th>\n",
              "      <td>b\"[CLS] i like sci - fi movies and everything ' bout it and aliens , so i watched this flick . nothing new , nothing special , average acting , typical h . b . davenport ' story , weak and che ##es ##y fx ' s , bad ending of movie , but still the author idea is good . the marines on lost island find the truth about alien landing there and truth about past - experiments on them . they die one after one , some of them were killed by lonely alien , and others by human enemies . ufo effects , when it flees and crush ##es are bad , too . the voices of angry alien are funny , too . [SEP]\"</td>\n",
              "    </tr>\n",
              "    <tr>\n",
              "      <th>6</th>\n",
              "      <td>b\"[CLS] i was lucky enough to see a preview of this film tonight . this was a very cool , eerie film . well acted , especially by ska ##rs ##gard who played his role of terry glass perfectly . sob ##ies ##ki did a very good job too as it seems to me that she has a bright future ahead of her . the music was well placed but was fairly standard . the use of shadows was quite interesting as well . overall , this was quite a nice surprise considering i ' m not much a fan of this genre . 7 / 10 . [SEP] [PAD] [PAD] [PAD] [PAD] [PAD] [PAD] [PAD] [PAD] [PAD] [PAD] [PAD] [PAD] [PAD] [PAD] [PAD] [PAD] [PAD] [PAD] [PAD]\"</td>\n",
              "    </tr>\n",
              "    <tr>\n",
              "      <th>7</th>\n",
              "      <td>b'[CLS] my kids and i love this movie ! ! we think that richard pry ##or and the whole cast did a wonderful job in the movie . it means more to us now since the passing of richard ! ! we will miss his sense of humor . but his movies and shows will stay with us forever ! ! we especially love the parts of brad , frank crawford and ar ##lo pear ! ! they had some one liner ##s in the movie that were great ! ! my son and i love to quote those one liner ##s when we see each other and my daughter will join us when we discuss the movie . we thought the moving guys were terrific . [SEP]'</td>\n",
              "    </tr>\n",
              "    <tr>\n",
              "      <th>8</th>\n",
              "      <td>b\"[CLS] somehow the an ##ima ##trix shorts with the most interesting premises have the worst outcome . mat ##ric ##ulated is the worst of the bunch ( although it ' s a close call with program ) , as it takes a great idea ( showing the machines the beauty of mankind by plug ##ging them in ) and turns it into the worst experience of the 9 . &lt; br / &gt; &lt; br / &gt; as i said , the story begins promising and interesting , but ends with a long , long , long sequence of ' weird ' images , a cross between the famous scenes from 2001 and v ##ga - rain ( who can remember it ) , but not as [SEP]\"</td>\n",
              "    </tr>\n",
              "    <tr>\n",
              "      <th>9</th>\n",
              "      <td>b\"[CLS] while holiday ##ing in the basque region of spain , two couples discover a child whose hands are severely miss ##ha ##pen . the child has been gravely mist ##reate ##d , and , as a result , cannot communicate . the two couples reluctantly decide to rescue her and report her circumstances to the authorities . however , severe weather and the dense ##ness of the forest surrounding their holiday home make it impossible for them to make a quick get ##away . soon , the local inhabitants become aware that the girl is missing , and they right ##ly suspect the holiday - makers of taking her . suspicions and paranoia begin to fest ##er , and it isn ' t long before violence [SEP]\"</td>\n",
              "    </tr>\n",
              "  </tbody>\n",
              "</table>\n",
              "</div>"
            ],
            "text/plain": [
              "                                                                                                                                                                                                                                                                                                                                                                                                                                                                                                                                                                                                                                                                                                            tokens\n",
              "0  b\"[CLS] spoil ##er - now knowing the ending i find it so clever that the whole movie takes place in a motel and each character has a different room . even sane people have many different aspects to their personality , but they don ' t let them become dominant - - they are controlled . malcolm ' s various personalities and needs were person ##ified in each character . the prostitute mother ( amanda pee ##t ) , the part of him who hated her for being a prostitute ( larry ) , the loving mother he wish he had , the loving father he wish he had , the selfish part of himself ( actress ) , the violent part of his personality ( ray [SEP]\"                                                 \n",
              "1  b\"[CLS] i knew about this film long before i saw it . in fact , i had to buy the dvd in order to see it because no video store carried it . i didn ' t mind spending the $ 12 to buy it used because i collect off the wall movies . the new limited edition double dvd has great sound and visually not bad . i found myself laughing much more then < br / > < br / > jolt ##ing in fear , although there were a few scenes were i was startled . < br / > < br / > if you enjoy off the wall 70s sci - fi / horror movies , you probably will eat this one [SEP]\"                                                                                                                                           \n",
              "2  b\"[CLS] this movie is really really awful . it ' s as bad as zombie 90 well maybe not that bad but pretty close . if your a fan of the italian horror movies then you might like this movie . i thought that it was dam near un ##watch ##able of course i ' m not a fan of the italian movies . the only italian movie that was ok was jungle holocaust . which is one over ##rated movie . this film is way over ##rated . but let ' s get started with how horrible this film really is shall we . the acting is goofy and horrible . the effects suck . no plot with this movie . little gore which is the [SEP]\"                                                                                          \n",
              "3  b'[CLS] wait a minute . . . yes i do . < br / > < br / > the director of \\' the breed \\' has obviously seen terry gill ##iam \\' s \\' brazil \\' a few too many times and asked himself the question , \" if \\' brazil \\' had been an ill - conceived tale about vampires in the near future , what would it be like ? \" well , i \\' ll tell ya , it \\' d be like 91 minutes of a swedish whore kicking you in the groin , only not as satisfying . the dialogue was laced with gr ##at ##uit ##ous curse words and tri ##te one - liner ##s , and whoever edited this [SEP]'                                                                                                                                     \n",
              "4  b\"[CLS] this is the type of movie that ' s just barely involving enough for one viewing , but i don ' t think i could stand to watch it again . it looks and plays like a mid - seventies tv movie , only with some gr ##at ##uit ##ous sex and violence thrown in . < br / > < br / > i agree with several previous posters - - her ##ve ville ##chai ##ze is not very menacing , and at times even comes off as un ##int ##ended comedy . at least the other two villains make up for that . also , it was jolt ##ing to see jonathan fr ##id is such a pedestrian role , which definitely under - [SEP]\"                                                                                                    \n",
              "5  b\"[CLS] i like sci - fi movies and everything ' bout it and aliens , so i watched this flick . nothing new , nothing special , average acting , typical h . b . davenport ' story , weak and che ##es ##y fx ' s , bad ending of movie , but still the author idea is good . the marines on lost island find the truth about alien landing there and truth about past - experiments on them . they die one after one , some of them were killed by lonely alien , and others by human enemies . ufo effects , when it flees and crush ##es are bad , too . the voices of angry alien are funny , too . [SEP]\"                                                                                                  \n",
              "6  b\"[CLS] i was lucky enough to see a preview of this film tonight . this was a very cool , eerie film . well acted , especially by ska ##rs ##gard who played his role of terry glass perfectly . sob ##ies ##ki did a very good job too as it seems to me that she has a bright future ahead of her . the music was well placed but was fairly standard . the use of shadows was quite interesting as well . overall , this was quite a nice surprise considering i ' m not much a fan of this genre . 7 / 10 . [SEP] [PAD] [PAD] [PAD] [PAD] [PAD] [PAD] [PAD] [PAD] [PAD] [PAD] [PAD] [PAD] [PAD] [PAD] [PAD] [PAD] [PAD] [PAD] [PAD]\"                                                                       \n",
              "7  b'[CLS] my kids and i love this movie ! ! we think that richard pry ##or and the whole cast did a wonderful job in the movie . it means more to us now since the passing of richard ! ! we will miss his sense of humor . but his movies and shows will stay with us forever ! ! we especially love the parts of brad , frank crawford and ar ##lo pear ! ! they had some one liner ##s in the movie that were great ! ! my son and i love to quote those one liner ##s when we see each other and my daughter will join us when we discuss the movie . we thought the moving guys were terrific . [SEP]'                                                                                                      \n",
              "8  b\"[CLS] somehow the an ##ima ##trix shorts with the most interesting premises have the worst outcome . mat ##ric ##ulated is the worst of the bunch ( although it ' s a close call with program ) , as it takes a great idea ( showing the machines the beauty of mankind by plug ##ging them in ) and turns it into the worst experience of the 9 . < br / > < br / > as i said , the story begins promising and interesting , but ends with a long , long , long sequence of ' weird ' images , a cross between the famous scenes from 2001 and v ##ga - rain ( who can remember it ) , but not as [SEP]\"                                                                                                    \n",
              "9  b\"[CLS] while holiday ##ing in the basque region of spain , two couples discover a child whose hands are severely miss ##ha ##pen . the child has been gravely mist ##reate ##d , and , as a result , cannot communicate . the two couples reluctantly decide to rescue her and report her circumstances to the authorities . however , severe weather and the dense ##ness of the forest surrounding their holiday home make it impossible for them to make a quick get ##away . soon , the local inhabitants become aware that the girl is missing , and they right ##ly suspect the holiday - makers of taking her . suspicions and paranoia begin to fest ##er , and it isn ' t long before violence [SEP]\""
            ]
          },
          "metadata": {
            "tags": []
          },
          "execution_count": 91
        }
      ]
    },
    {
      "cell_type": "markdown",
      "metadata": {
        "id": "BODYYz0QSfVZ",
        "colab_type": "text"
      },
      "source": [
        "Run prediction on test reviews"
      ]
    },
    {
      "cell_type": "code",
      "metadata": {
        "id": "r0aGHRNLvJK3",
        "colab_type": "code",
        "colab": {}
      },
      "source": [
        "result = model.predict(test_ds)"
      ],
      "execution_count": 0,
      "outputs": []
    },
    {
      "cell_type": "code",
      "metadata": {
        "id": "96gqXtAzvRVL",
        "colab_type": "code",
        "colab": {
          "base_uri": "https://localhost:8080/",
          "height": 34
        },
        "outputId": "22844705-5c3d-4590-ed08-61cfc24c90f1"
      },
      "source": [
        "result.shape"
      ],
      "execution_count": 38,
      "outputs": [
        {
          "output_type": "execute_result",
          "data": {
            "text/plain": [
              "(50000, 1)"
            ]
          },
          "metadata": {
            "tags": []
          },
          "execution_count": 38
        }
      ]
    },
    {
      "cell_type": "code",
      "metadata": {
        "id": "rIeryJsHIDdB",
        "colab_type": "code",
        "colab": {
          "base_uri": "https://localhost:8080/",
          "height": 783
        },
        "outputId": "b3c1358b-8d42-4676-f49c-360e943f88ea"
      },
      "source": [
        "result_df = pd.DataFrame({'label': tf.squeeze(result[:10]).numpy(), 'text': test_text})\n",
        "result_df.head()"
      ],
      "execution_count": 68,
      "outputs": [
        {
          "output_type": "execute_result",
          "data": {
            "text/html": [
              "<div>\n",
              "<style scoped>\n",
              "    .dataframe tbody tr th:only-of-type {\n",
              "        vertical-align: middle;\n",
              "    }\n",
              "\n",
              "    .dataframe tbody tr th {\n",
              "        vertical-align: top;\n",
              "    }\n",
              "\n",
              "    .dataframe thead th {\n",
              "        text-align: right;\n",
              "    }\n",
              "</style>\n",
              "<table border=\"1\" class=\"dataframe\">\n",
              "  <thead>\n",
              "    <tr style=\"text-align: right;\">\n",
              "      <th></th>\n",
              "      <th>label</th>\n",
              "      <th>text</th>\n",
              "    </tr>\n",
              "  </thead>\n",
              "  <tbody>\n",
              "    <tr>\n",
              "      <th>0</th>\n",
              "      <td>0.464566</td>\n",
              "      <td>b\"SPOILER - Now knowing the ending I find it so clever that the whole movie takes place in a motel and each character has a different room. Even sane people have many different aspects to their personality, but they don't let them become dominant -- they are controlled. Malcolm's various personalities and needs were personified in each character. The prostitute mother (Amanda Peet), the part of him who hated her for being a prostitute (Larry), the loving mother he wish he had, the loving father he wish he had, the selfish part of himself (actress), the violent part of his personality (Ray Liotta and Busey), the irrational emotions he feels and his need to be loved (Ginnie) and his attempts to control those feelings (Lou), the hurt little boy who sees far too many traumatic things in his life, and of course, John Cusack who seems to represent Malcolm himself trying to analyze and understand all the craziness in his mind, tries to follow the rules (accepting responsibility for the car accident), help others (giving Amanda Peet a ride, and stitching up the mother). Very cleverly done!\"</td>\n",
              "    </tr>\n",
              "    <tr>\n",
              "      <th>1</th>\n",
              "      <td>0.252326</td>\n",
              "      <td>b'I knew about this film long before I saw it. In fact, I had to buy the DVD in order to see it because no video store carried it. I didn\\'t mind spending the $12 to buy it used because I collect off the wall movies. The new limited edition double DVD has great sound and visually not bad. I found myself laughing much more then&lt;br /&gt;&lt;br /&gt;jolting in fear, although there were a few scenes were I was startled.&lt;br /&gt;&lt;br /&gt;If you enjoy off the wall 70s sci-fi/horror movies, you probably will eat this one up. I was a little dissapointed at how abrubtly it ended. I wanted the movie to keep going, see how things pan out. The DVD revolution has brought so many&lt;br /&gt;&lt;br /&gt;lost clasics back to life, it is truly wonderful. Blue Sunshine is one of those lost \"missing links\" of the cinema. Enjoy!'</td>\n",
              "    </tr>\n",
              "    <tr>\n",
              "      <th>2</th>\n",
              "      <td>0.485239</td>\n",
              "      <td>b\"This movie is really really awful. It's as bad as Zombie 90 well maybe not that bad but pretty close. If your a fan of the Italian horror movies then you might like this movie. I thought that it was dam near unwatchable of course I'm not a fan of the Italian movies. The only Italian movie that was OK was Jungle holocaust. Which is one overrated movie. This film is way overrated. But let's get started with how horrible this film really is shall we. The acting is goofy and horrible. The effects suck. No plot with this movie. Little gore which is the only good thing in the film isn't showed nearly enough to be worth watching this wreck. The zombies are very fake looking. It looks like it's a bunch of dudes wearing cheap dollar store masks. Please avoid this film at all costs.\"</td>\n",
              "    </tr>\n",
              "    <tr>\n",
              "      <th>3</th>\n",
              "      <td>0.251897</td>\n",
              "      <td>b'Wait a minute... yes I do.&lt;br /&gt;&lt;br /&gt;The director of \\'The Breed\\' has obviously seen Terry Gilliam\\'s \\'Brazil\\' a few too many times and asked himself the question, \"If \\'Brazil\\' had been an ill-conceived tale about vampires in the near future, what would it be like?\" Well, I\\'ll tell ya, it\\'d be like 91 minutes of a Swedish whore kicking you in the groin, only not as satisfying. The dialogue was laced with gratuitous curse words and trite one-liners, and whoever edited this piece of crap should be shot. I have no real idea of exactly how the whole thing ended because I\\'m not really sure what happened during the first part of the film. With so many subplots your head begins to hurt and so much bad acting your head wants to explode this movie should only be viewed with large quantities of beer and at least two other people you can MST3K with. The only thing that made me not stab myself in the eye with a dirty soup spoon was this line: Evil Doctor Guy: \"That\\'s it, you are not James Bond, and I am not Blofeld. No more explanations!\" Dude From Jason\\'s Lyric: \"I\\'m getting paid scale!\" The cinematography was shaky at best and the acting was putrid. Also, what was with all the pseudo-1984 posters and PA announcements? The costumes were from the 50\\'s, the cars were from the 60\\'s, the music was from the 90\\'s and I wish I were dead. This movie sucks.'</td>\n",
              "    </tr>\n",
              "    <tr>\n",
              "      <th>4</th>\n",
              "      <td>0.274131</td>\n",
              "      <td>b'This is the type of movie that\\'s just barely involving enough for one viewing, but I don\\'t think I could stand to watch it again. It looks and plays like a mid-Seventies TV movie, only with some gratuitous sex and violence thrown in.&lt;br /&gt;&lt;br /&gt;I agree with several previous posters -- Herve Villechaize is NOT very menacing, and at times even comes off as unintended comedy. At least the other two villains make up for that. Also, it was jolting to see Jonathan Frid is such a pedestrian role, which definitely under-utilized his enormous talents.&lt;br /&gt;&lt;br /&gt;But I think the basic problem with \"Seizure\" is in the storyline. The evil trio that are conjured up from Frid\\'s mind are seen too early and too often. They appear to everyone at once, and announce their (murky) plans too early in the picture. In fact, Stone takes this idea and literally shoves it in the viewer\\'s face, with a series of challenges for the guests; challenges that it doesn\\'t seem like they have any chance of winning, anyway. How much more effective would have been keeping the evil ones in the shadows, preying on each house guest in turn, sowing confusion and doubt among the remaining house guests, who don\\'t know who or what is causing the carnage. By having the trio appear early on, to all the \"assembled guests\", and announcing their plan (confusing as that plan is), much potential for tension and suspense are lost.&lt;br /&gt;&lt;br /&gt;Also, a more gradual appearance of the evil ones would indicate Frid is slowing losing control of his subconscious. To have Frid subconsciously conjure up these baddies, because he\\'s got hidden grudges against his wife and friends, would have been a far more logical plot device. Instead of having Frid play an intended victim from the get-go, it would have worked better to have him slowing becoming helpless to control the menace he\\'s created, with mixed feelings of guilt and satisfaction as his shallow, superficial friends are killed off. The plot Stone offers up is confusing as to the origins and, most importantly, the motivations of the evil trio, and never gives any explanation why Frid, from whose mind they came from, can exercise absolutely no control over them. Confusing is the word that best sums up the whole picture, and the end feels like a total cheat. Better to have some great showdown in which Frid is finally able to banish the creations of his own tormented mind.&lt;br /&gt;&lt;br /&gt;Oliver Stone has done some notable work in his career, but sadly \"Seizure\" is not among them.'</td>\n",
              "    </tr>\n",
              "  </tbody>\n",
              "</table>\n",
              "</div>"
            ],
            "text/plain": [
              "      label  \\\n",
              "0  0.464566   \n",
              "1  0.252326   \n",
              "2  0.485239   \n",
              "3  0.251897   \n",
              "4  0.274131   \n",
              "\n",
              "                                                                                                                                                                                                                                                                                                                                                                                                                                                                                                                                                                                                                                                                                                                                                                                                                                                                                                                                                                                                                                                                                                                                                                                                                                                                                                                                                                                                                                                                                                                                                                                                                                                                                                                                                                                                                                                                                                                                                                                                                                                                                                                                                                                                                                                                                                                                                                                                                                                                                                                                                                                                                     text  \n",
              "0  b\"SPOILER - Now knowing the ending I find it so clever that the whole movie takes place in a motel and each character has a different room. Even sane people have many different aspects to their personality, but they don't let them become dominant -- they are controlled. Malcolm's various personalities and needs were personified in each character. The prostitute mother (Amanda Peet), the part of him who hated her for being a prostitute (Larry), the loving mother he wish he had, the loving father he wish he had, the selfish part of himself (actress), the violent part of his personality (Ray Liotta and Busey), the irrational emotions he feels and his need to be loved (Ginnie) and his attempts to control those feelings (Lou), the hurt little boy who sees far too many traumatic things in his life, and of course, John Cusack who seems to represent Malcolm himself trying to analyze and understand all the craziness in his mind, tries to follow the rules (accepting responsibility for the car accident), help others (giving Amanda Peet a ride, and stitching up the mother). Very cleverly done!\"                                                                                                                                                                                                                                                                                                                                                                                                                                                                                                                                                                                                                                                                                                                                                                                                                                                                                                                                                                                                                                                                                                                                                                                                                                                                                                                                                                                                                                                                             \n",
              "1  b'I knew about this film long before I saw it. In fact, I had to buy the DVD in order to see it because no video store carried it. I didn\\'t mind spending the $12 to buy it used because I collect off the wall movies. The new limited edition double DVD has great sound and visually not bad. I found myself laughing much more then<br /><br />jolting in fear, although there were a few scenes were I was startled.<br /><br />If you enjoy off the wall 70s sci-fi/horror movies, you probably will eat this one up. I was a little dissapointed at how abrubtly it ended. I wanted the movie to keep going, see how things pan out. The DVD revolution has brought so many<br /><br />lost clasics back to life, it is truly wonderful. Blue Sunshine is one of those lost \"missing links\" of the cinema. Enjoy!'                                                                                                                                                                                                                                                                                                                                                                                                                                                                                                                                                                                                                                                                                                                                                                                                                                                                                                                                                                                                                                                                                                                                                                                                                                                                                                                                                                                                                                                                                                                                                                                                                                                                                                                                                                                              \n",
              "2  b\"This movie is really really awful. It's as bad as Zombie 90 well maybe not that bad but pretty close. If your a fan of the Italian horror movies then you might like this movie. I thought that it was dam near unwatchable of course I'm not a fan of the Italian movies. The only Italian movie that was OK was Jungle holocaust. Which is one overrated movie. This film is way overrated. But let's get started with how horrible this film really is shall we. The acting is goofy and horrible. The effects suck. No plot with this movie. Little gore which is the only good thing in the film isn't showed nearly enough to be worth watching this wreck. The zombies are very fake looking. It looks like it's a bunch of dudes wearing cheap dollar store masks. Please avoid this film at all costs.\"                                                                                                                                                                                                                                                                                                                                                                                                                                                                                                                                                                                                                                                                                                                                                                                                                                                                                                                                                                                                                                                                                                                                                                                                                                                                                                                                                                                                                                                                                                                                                                                                                                                                                                                                                                                                      \n",
              "3  b'Wait a minute... yes I do.<br /><br />The director of \\'The Breed\\' has obviously seen Terry Gilliam\\'s \\'Brazil\\' a few too many times and asked himself the question, \"If \\'Brazil\\' had been an ill-conceived tale about vampires in the near future, what would it be like?\" Well, I\\'ll tell ya, it\\'d be like 91 minutes of a Swedish whore kicking you in the groin, only not as satisfying. The dialogue was laced with gratuitous curse words and trite one-liners, and whoever edited this piece of crap should be shot. I have no real idea of exactly how the whole thing ended because I\\'m not really sure what happened during the first part of the film. With so many subplots your head begins to hurt and so much bad acting your head wants to explode this movie should only be viewed with large quantities of beer and at least two other people you can MST3K with. The only thing that made me not stab myself in the eye with a dirty soup spoon was this line: Evil Doctor Guy: \"That\\'s it, you are not James Bond, and I am not Blofeld. No more explanations!\" Dude From Jason\\'s Lyric: \"I\\'m getting paid scale!\" The cinematography was shaky at best and the acting was putrid. Also, what was with all the pseudo-1984 posters and PA announcements? The costumes were from the 50\\'s, the cars were from the 60\\'s, the music was from the 90\\'s and I wish I were dead. This movie sucks.'                                                                                                                                                                                                                                                                                                                                                                                                                                                                                                                                                                                                                                                                                                                                                                                                                                                                                                                                                                                                                                                                                                                                                                                       \n",
              "4  b'This is the type of movie that\\'s just barely involving enough for one viewing, but I don\\'t think I could stand to watch it again. It looks and plays like a mid-Seventies TV movie, only with some gratuitous sex and violence thrown in.<br /><br />I agree with several previous posters -- Herve Villechaize is NOT very menacing, and at times even comes off as unintended comedy. At least the other two villains make up for that. Also, it was jolting to see Jonathan Frid is such a pedestrian role, which definitely under-utilized his enormous talents.<br /><br />But I think the basic problem with \"Seizure\" is in the storyline. The evil trio that are conjured up from Frid\\'s mind are seen too early and too often. They appear to everyone at once, and announce their (murky) plans too early in the picture. In fact, Stone takes this idea and literally shoves it in the viewer\\'s face, with a series of challenges for the guests; challenges that it doesn\\'t seem like they have any chance of winning, anyway. How much more effective would have been keeping the evil ones in the shadows, preying on each house guest in turn, sowing confusion and doubt among the remaining house guests, who don\\'t know who or what is causing the carnage. By having the trio appear early on, to all the \"assembled guests\", and announcing their plan (confusing as that plan is), much potential for tension and suspense are lost.<br /><br />Also, a more gradual appearance of the evil ones would indicate Frid is slowing losing control of his subconscious. To have Frid subconsciously conjure up these baddies, because he\\'s got hidden grudges against his wife and friends, would have been a far more logical plot device. Instead of having Frid play an intended victim from the get-go, it would have worked better to have him slowing becoming helpless to control the menace he\\'s created, with mixed feelings of guilt and satisfaction as his shallow, superficial friends are killed off. The plot Stone offers up is confusing as to the origins and, most importantly, the motivations of the evil trio, and never gives any explanation why Frid, from whose mind they came from, can exercise absolutely no control over them. Confusing is the word that best sums up the whole picture, and the end feels like a total cheat. Better to have some great showdown in which Frid is finally able to banish the creations of his own tormented mind.<br /><br />Oliver Stone has done some notable work in his career, but sadly \"Seizure\" is not among them.'  "
            ]
          },
          "metadata": {
            "tags": []
          },
          "execution_count": 68
        }
      ]
    },
    {
      "cell_type": "code",
      "metadata": {
        "id": "hA078rM3Q8x8",
        "colab_type": "code",
        "colab": {}
      },
      "source": [
        ""
      ],
      "execution_count": 0,
      "outputs": []
    }
  ]
}